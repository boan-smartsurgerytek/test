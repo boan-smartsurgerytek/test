{
 "cells": [
  {
   "cell_type": "code",
   "execution_count": 1,
   "metadata": {},
   "outputs": [],
   "source": [
    "# Import pkgs"
   ]
  },
  {
   "cell_type": "code",
   "execution_count": 2,
   "metadata": {},
   "outputs": [],
   "source": [
    "# pip install imgaug --user"
   ]
  },
  {
   "cell_type": "code",
   "execution_count": 3,
   "metadata": {},
   "outputs": [
    {
     "name": "stdout",
     "output_type": "stream",
     "text": [
      "Segmentation Models: using `tf.keras` framework.\n"
     ]
    }
   ],
   "source": [
    "import tensorflow as tf\n",
    "from tensorflow import keras\n",
    "import segmentation_models as sm\n",
    "User_name=u'沈易達'\n"
   ]
  },
  {
   "cell_type": "code",
   "execution_count": 4,
   "metadata": {},
   "outputs": [],
   "source": [
    "#pip install -U segmentation-models\n"
   ]
  },
  {
   "cell_type": "code",
   "execution_count": 5,
   "metadata": {},
   "outputs": [],
   "source": [
    "# pip install h5py==2.10.0"
   ]
  },
  {
   "cell_type": "code",
   "execution_count": 6,
   "metadata": {},
   "outputs": [],
   "source": [
    "# pip list\n"
   ]
  },
  {
   "cell_type": "code",
   "execution_count": 7,
   "metadata": {},
   "outputs": [],
   "source": [
    "tf.compat.v1.disable_eager_execution()\n"
   ]
  },
  {
   "cell_type": "code",
   "execution_count": 8,
   "metadata": {},
   "outputs": [
    {
     "name": "stdout",
     "output_type": "stream",
     "text": [
      "TF version: 2.1.0.\n",
      "Keras version: 2.2.4-tf.\n"
     ]
    }
   ],
   "source": [
    "\n",
    "import os\n",
    "os.environ['KMP_DUPLICATE_LIB_OK']='True'\n",
    "import cv2\n",
    "import numpy as np\n",
    "\n",
    "from lib.augmentation import get_training_augmentation, get_validation_augmentation, get_preprocessing\n",
    "from lib.data_loader import Dataset, Dataloder\n",
    "from lib.visualization import visualize\n",
    "os.environ['CUDA_VISIBLE_DEVICES'] = '1'\n",
    "sm.set_framework('tf.keras')\n",
    "sm.framework()\n",
    "print(\"TF version: {}.\".format(tf.__version__))\n",
    "print(\"Keras version: {}.\".format(keras.__version__))\n"
   ]
  },
  {
   "cell_type": "code",
   "execution_count": 9,
   "metadata": {},
   "outputs": [],
   "source": [
    "from lib.parallel_model import*"
   ]
  },
  {
   "cell_type": "code",
   "execution_count": 10,
   "metadata": {},
   "outputs": [
    {
     "data": {
      "text/plain": [
       "[]"
      ]
     },
     "execution_count": 10,
     "metadata": {},
     "output_type": "execute_result"
    }
   ],
   "source": [
    "from tensorflow.python.client import device_lib\n",
    "def solve_cudnn_error():\n",
    "    gpus = tf.config.experimental.list_physical_devices('GPU')\n",
    "    if gpus:\n",
    "        try:\n",
    "            # Currently, memory growth needs to be the same across GPUs\n",
    "            for gpu in gpus:\n",
    "                tf.config.experimental.set_memory_growth(gpu, True)\n",
    "            logical_gpus = tf.config.experimental.list_logical_devices('GPU')\n",
    "            print(len(gpus), \"Physical GPUs,\", len(logical_gpus), \"Logical GPUs\")\n",
    "        except RuntimeError as e:\n",
    "            # Memory growth must be set before GPUs have been initialized\n",
    "            print(e)\n",
    "            \n",
    "solve_cudnn_error()\n",
    "def get_gpus():\n",
    "    info = device_lib.list_local_devices()\n",
    "    return [x.physical_device_desc for x in info if x.device_type == \"GPU\"]\n",
    "\n",
    "\n",
    "get_gpus()"
   ]
  },
  {
   "cell_type": "code",
   "execution_count": 11,
   "metadata": {},
   "outputs": [],
   "source": [
    "# config = tf.ConfigProto()\n",
    "# config.gpu_options.allow_growth = True\n",
    "# sess = tf.Session(config=config)"
   ]
  },
  {
   "cell_type": "code",
   "execution_count": 12,
   "metadata": {},
   "outputs": [
    {
     "name": "stdout",
     "output_type": "stream",
     "text": [
      "change directory 配合使用使 os.getcwd() 可正確顯示Start\n",
      "/home/ai/notebook/jupyter_work/test1/SurgeryAnalytics/AI_Cases/Dentistry_AI_ZERO_New_1120105/B_AI_training\n",
      "change directory 配合使用使 os.getcwd() 可正確顯示End\n"
     ]
    }
   ],
   "source": [
    "# os.chdir(\"D:/SurgeryAnalytics/AI_Cases/Dentistry0929/B_AI_training\")\n",
    "# cwd = os.getcwd()\n",
    "print('change directory 配合使用使 os.getcwd() 可正確顯示Start')\n",
    "#os.chdir(os.path.dirname(os.path.abspath(__file__)))  #ipynb 不可用\n",
    "from pathlib import Path  #改為目前的資料夾引用物件\n",
    "os.chdir(Path.cwd())    #改為目前的資料夾*********\n",
    "cwd = os.getcwd()\n",
    "print(cwd)\n",
    "print('change directory 配合使用使 os.getcwd() 可正確顯示End')\n",
    "# print(cwd)\n",
    "AI_Path = cwd.split('/B_AI_training')[0]\n",
    "# print(AI_Path)\n",
    "\n",
    "AI_Data_jsonFile=AI_Path+'/A_Data_preprocessing/Dentistry_config.json'\n",
    "# if not os.path.isdir(trans_folder_path):\n",
    "#     os.mkdir(trans_folder_path)\n"
   ]
  },
  {
   "cell_type": "markdown",
   "metadata": {
    "tags": []
   },
   "source": [
    "# Set parameters"
   ]
  },
  {
   "cell_type": "code",
   "execution_count": 13,
   "metadata": {},
   "outputs": [],
   "source": [
    "import json\n",
    "# jsonFile = r\"f:\\SurgeryAnalytics/AI_Cases/Dentistry/1_Linknet_efficientnetb7_0_3/A_Data_preprocessing/Dentistry_config.json\"  #讀取剛剛資料分析完輸出的JSION檔\n",
    "jsonFile = AI_Data_jsonFile  #讀取剛剛資料分析完輸出的JSION檔\n",
    "with open(jsonFile, 'r') as f:\n",
    "    config = json.load(f)\n",
    "config[\"user_name\"] = User_name"
   ]
  },
  {
   "cell_type": "code",
   "execution_count": 14,
   "metadata": {},
   "outputs": [
    {
     "data": {
      "text/plain": [
       "{'surgeryName': 'Dentistry',\n",
       " 'label_folder_path': '/home/ai/notebook/jupyter_work/test1/SurgeryAnalytics/AI_Cases/Dentistry_AI_ZERO_New_1120105/0_Data/0_ori',\n",
       " 'trans_folder_path': '/home/ai/notebook/jupyter_work/test1/SurgeryAnalytics/AI_Cases/Dentistry_AI_ZERO_New_1120105/0_Data/1_trans',\n",
       " 'split_folder_path': '/home/ai/notebook/jupyter_work/test1/SurgeryAnalytics/AI_Cases/Dentistry_AI_ZERO_New_1120105/0_Data/2_split',\n",
       " 'correct_label': ['Alveolar_bone',\n",
       "  'Caries',\n",
       "  'Crown',\n",
       "  'Dentin',\n",
       "  'Enamel',\n",
       "  'Implant',\n",
       "  'Mandibular_alveolar_nerve',\n",
       "  'Maxillary_sinus',\n",
       "  'Periapical_lesion',\n",
       "  'Post_and_core',\n",
       "  'Pulp',\n",
       "  'Restoration',\n",
       "  'Root_canal_filling'],\n",
       " 'detect_label_list': ['Alveolar_bone',\n",
       "  'Caries',\n",
       "  'Crown',\n",
       "  'Dentin',\n",
       "  'Enamel',\n",
       "  'Implant',\n",
       "  'Mandibular_alveolar_nerve',\n",
       "  'Maxillary_sinus',\n",
       "  'Periapical_lesion',\n",
       "  'Post_and_core',\n",
       "  'Pulp',\n",
       "  'Restoration',\n",
       "  'Root_canal_filling'],\n",
       " 'Data_total_excel': '/home/ai/notebook/jupyter_work/test1/SurgeryAnalytics/AI_Cases/Dentistry_AI_ZERO_New_1120105/A_Data_preprocessing/Dentistry.xlsx',\n",
       " 'user_name': '沈易達'}"
      ]
     },
     "execution_count": 14,
     "metadata": {},
     "output_type": "execute_result"
    }
   ],
   "source": [
    "config"
   ]
  },
  {
   "cell_type": "markdown",
   "metadata": {
    "tags": []
   },
   "source": [
    "# 下面主要　建立　Model & Backbone & BATCH_SIZE"
   ]
  },
  {
   "cell_type": "code",
   "execution_count": 15,
   "metadata": {},
   "outputs": [],
   "source": [
    "import copy\n",
    "# data path\n",
    "DATA_DIR = config[\"split_folder_path\"]\n",
    "x_train_dir = os.path.join(DATA_DIR, 'train', 'img')\n",
    "y_train_dir = os.path.join(DATA_DIR, 'train', 'label')\n",
    "\n",
    "x_valid_dir = os.path.join(DATA_DIR, 'val', 'img')\n",
    "y_valid_dir = os.path.join(DATA_DIR, 'val', 'label')\n",
    "\n",
    "# Label information\n",
    "## data_loader must be change also.\n",
    "CLASSES = copy.deepcopy(config[\"correct_label\"])\n",
    "\n",
    "CLASSES.insert(0, \"background\")\n",
    "\n",
    "\n",
    "# hyperparameters\n",
    "MODEL = 'Linknet' # 使用的model名稱 (Unet/Linknet/PSPNet/FPN)\n",
    "BACKBONE = 'efficientnetb7' # resnet152 efficientnetb0 使用的backbone名稱 (efficientnetb4/efficientnetb5/resnet101/mobilenetv2/NASNetLarge/inceptionresnetv2/efficientnetb7...)\n",
    "# BACKBONE models: ['resnet18', 'resnet34', 'resnet50', 'resnet101', 'resnet152', 'seresnet18', 'seresnet34', 'seresnet50', 'seresnet101', \n",
    "#                    'seresnet152', 'seresnext50', 'seresnext101', 'senet154', 'resnext50', 'resnext101', 'vgg16', 'vgg19', \n",
    "#                    'densenet121', 'densenet169', 'densenet201', 'inceptionresnetv2', 'inceptionv3', \n",
    "#                    'mobilenet', 'mobilenetv2', 'efficientnetb0', 'efficientnetb1', 'efficientnetb2', 'efficientnetb3', 'efficientnetb4', 'efficientnetb5', 'efficientnetb6', 'efficientnetb7']\n",
    "data_height=384\n",
    "data_width=384\n",
    "# data_height=480\n",
    "# data_width=640\n",
    "\n",
    "if MODEL == 'PSPNet':\n",
    "    data_height=384\n",
    "    data_width=384\n",
    "    tf.compat.v1.disable_eager_execution()\n",
    "\n",
    "\n",
    "BATCH_SIZE = 4\n",
    "\n",
    "LR = 0.0001 #0.0001\n",
    "EPOCHS = 100 #40\n",
    "n_classes = 1 if len(CLASSES) == 1 else (len(CLASSES) + 1)  # case for binary and multiclass segmentation\n",
    "activation = 'sigmoid' if n_classes == 1 else 'softmax'\n",
    "optim = keras.optimizers.Adam(LR)\n",
    "\n",
    "preprocess_input = sm.get_preprocessing(BACKBONE)\n",
    "\n",
    "# loss\n",
    "# WEIGHT = np.array([0.01, 1, 1, 1, 1, 1, 1, 1, 1, 1, 1, 1, 1, 1, 1, 1, 1, 1, 1, 1, 1, 1, 1, 1, 0.01])\n",
    "# WEIGHT = np.empty(0)\n",
    "jaccard_loss = sm.losses.JaccardLoss()#(class_weights=WEIGHT)\n",
    "dice_loss = sm.losses.DiceLoss()#class_weights=WEIGHT)    沒用到????\n",
    "focal_loss = sm.losses.BinaryFocalLoss() if n_classes == 1 else sm.losses.CategoricalFocalLoss()\n",
    "# categorical_crossentropy = sm.losses.CategoricalCELoss(class_weights=WEIGHT)\n",
    "total_loss = (0.5 * jaccard_loss) + (1 * focal_loss)\n",
    "# print(total_loss)\n",
    "# metrics\n",
    "metrics = [sm.metrics.IOUScore(threshold=0.5), # , class_indexes=[1]\n",
    "           sm.metrics.Recall(threshold=0.5)] # , class_indexes=[1]]\n",
    "\n",
    "# metrics = [sm.metrics.IOUScore(threshold=0.5), # , class_indexes=[1]\n",
    "#            sm.metrics.Recall(threshold=0.5), # , class_indexes=[1]\n",
    "#           \"sparse_categorical_accuracy\"]"
   ]
  },
  {
   "cell_type": "code",
   "execution_count": 16,
   "metadata": {},
   "outputs": [],
   "source": [
    "# print(jaccard_loss)"
   ]
  },
  {
   "cell_type": "code",
   "execution_count": 17,
   "metadata": {},
   "outputs": [],
   "source": [
    "#pip install -U albumentations"
   ]
  },
  {
   "cell_type": "code",
   "execution_count": 18,
   "metadata": {},
   "outputs": [],
   "source": [
    "#pip install albumentations --user"
   ]
  },
  {
   "cell_type": "markdown",
   "metadata": {},
   "source": [
    "# View data labeled"
   ]
  },
  {
   "cell_type": "code",
   "execution_count": 19,
   "metadata": {},
   "outputs": [
    {
     "data": {
      "image/png": "[encoded data removed]",
      "text/plain": [
       "<Figure size 1440x360 with 15 Axes>"
      ]
     },
     "metadata": {},
     "output_type": "display_data"
    }
   ],
   "source": [
    "# Lets look at data we have\n",
    "dataset = Dataset(x_train_dir, y_train_dir, classes=CLASSES)\n",
    "image, mask = dataset[75] # get some sample\n",
    "\n",
    "visualize(\n",
    "    image=image, \n",
    "    bg=mask[..., 0].squeeze(),\n",
    "    Alveolar_bone=mask[..., 1].squeeze(),\n",
    "    Caries=mask[..., 2].squeeze(),\n",
    "    Crown=mask[..., 3].squeeze(),\n",
    "    Dentin=mask[..., 4].squeeze(),\n",
    "    Enamel=mask[..., 5].squeeze(),\n",
    "    Implant=mask[..., 6].squeeze(),\n",
    "    Mandibular_alveolar_nerve=mask[..., 7].squeeze(),\n",
    "    Maxillary_sinus=mask[..., 8].squeeze(),\n",
    "    Periapical_lesion=mask[..., 9].squeeze(),\n",
    "    Post_and_core=mask[..., 10].squeeze(),\n",
    "    Pulp=mask[..., 11].squeeze(),\n",
    "    Restoration=mask[..., 12].squeeze(),\n",
    "    Root_canal_filling=mask[..., 13].squeeze()\n",
    "\n",
    ")\n",
    "# print(mask.shape)\n",
    "# print(image.shape)"
   ]
  },
  {
   "cell_type": "code",
   "execution_count": 20,
   "metadata": {},
   "outputs": [
    {
     "name": "stderr",
     "output_type": "stream",
     "text": [
      "/home/ai/.local/lib/python3.6/site-packages/albumentations/imgaug/transforms.py:261: FutureWarning: IAAAdditiveGaussianNoise is deprecated. Please use GaussNoise instead\n",
      "  warnings.warn(\"IAAAdditiveGaussianNoise is deprecated. Please use GaussNoise instead\", FutureWarning)\n",
      "/home/ai/.local/lib/python3.6/site-packages/albumentations/imgaug/transforms.py:384: FutureWarning: This IAAPerspective is deprecated. Please use Perspective instead\n",
      "  warnings.warn(\"This IAAPerspective is deprecated. Please use Perspective instead\", FutureWarning)\n",
      "/home/ai/.local/lib/python3.6/site-packages/albumentations/augmentations/transforms.py:1151: FutureWarning: This class has been deprecated. Please use RandomBrightnessContrast\n",
      "  FutureWarning,\n",
      "/home/ai/.local/lib/python3.6/site-packages/albumentations/imgaug/transforms.py:231: FutureWarning: IAASharpen is deprecated. Please use Sharpen instead\n",
      "  warnings.warn(\"IAASharpen is deprecated. Please use Sharpen instead\", FutureWarning)\n",
      "/home/ai/.local/lib/python3.6/site-packages/albumentations/augmentations/transforms.py:1177: FutureWarning: RandomContrast has been deprecated. Please use RandomBrightnessContrast\n",
      "  FutureWarning,\n"
     ]
    },
    {
     "data": {
      "image/png": "[encoded data removed]",
      "text/plain": [
       "<Figure size 1440x360 with 15 Axes>"
      ]
     },
     "metadata": {},
     "output_type": "display_data"
    }
   ],
   "source": [
    "# Lets look at augmented data we have\n",
    "dataset = Dataset(x_train_dir, y_train_dir, classes=CLASSES, augmentation=get_training_augmentation(data_height,data_width))\n",
    "# augmentation 主要在進行 少量資料的複雜化 \n",
    "image, mask = dataset[75] # get some sample\n",
    "\n",
    "visualize(\n",
    "    image=image, \n",
    "    bg=mask[..., 0].squeeze(),\n",
    "    Alveolar_bone=mask[..., 1].squeeze(),\n",
    "    Caries=mask[..., 2].squeeze(),\n",
    "    Crown=mask[..., 3].squeeze(),\n",
    "    Dentin=mask[..., 4].squeeze(),\n",
    "    Enamel=mask[..., 5].squeeze(),\n",
    "    Implant=mask[..., 6].squeeze(),\n",
    "    Mandibular_alveolar_nerve=mask[..., 7].squeeze(),\n",
    "    Maxillary_sinus=mask[..., 8].squeeze(),\n",
    "    Periapical_lesion=mask[..., 9].squeeze(),\n",
    "    Post_and_core=mask[..., 10].squeeze(),\n",
    "    Pulp=mask[..., 11].squeeze(),\n",
    "    Restoration=mask[..., 12].squeeze(),\n",
    "    Root_canal_filling=mask[..., 13].squeeze()\n",
    "\n",
    ")\n",
    "\n",
    "# print(mask.shape)"
   ]
  },
  {
   "cell_type": "code",
   "execution_count": 21,
   "metadata": {},
   "outputs": [],
   "source": [
    "#pip install -U albumentations --no-binary qudida,albumentations"
   ]
  },
  {
   "cell_type": "code",
   "execution_count": 22,
   "metadata": {},
   "outputs": [],
   "source": [
    "#pip install -U albumentations[imgaug]\n",
    "\n",
    "#pip install -U albumentations"
   ]
  },
  {
   "cell_type": "markdown",
   "metadata": {},
   "source": [
    "# Model training"
   ]
  },
  {
   "cell_type": "code",
   "execution_count": 23,
   "metadata": {},
   "outputs": [],
   "source": [
    "# Dataset for train images\n",
    "train_dataset = Dataset(\n",
    "    x_train_dir, \n",
    "    y_train_dir, \n",
    "    classes=CLASSES, \n",
    "    augmentation=get_training_augmentation(data_height,data_width),\n",
    "    preprocessing=get_preprocessing(preprocess_input),\n",
    ")\n",
    "# augmentation 主要在進行 少量資料的複雜化 \n",
    "\n",
    "# Dataset for validation images\n",
    "valid_dataset = Dataset(\n",
    "    x_valid_dir, \n",
    "    y_valid_dir, \n",
    "    classes=CLASSES, \n",
    "    augmentation=get_validation_augmentation(data_height,data_width),\n",
    "    preprocessing=get_preprocessing(preprocess_input),\n",
    ")\n",
    "\n",
    "train_dataloader = Dataloder(train_dataset, batch_size=BATCH_SIZE, shuffle=True)\n",
    "# train_dataloader = Dataloder(train_dataset, batch_size=1, shuffle=True)\n",
    "valid_dataloader = Dataloder(valid_dataset, batch_size=1, shuffle=False)\n",
    "# print(train_dataloader.shap)\n",
    "# check shapes for errors\n",
    "assert train_dataloader[0][0].shape == (BATCH_SIZE, data_height, data_width, 3)\n",
    "assert train_dataloader[0][1].shape == (BATCH_SIZE, data_height, data_width, n_classes)\n",
    "# assert train_dataloader[0][0].shape == (1, data_height, data_width, 3)\n",
    "# assert train_dataloader[0][1].shape == (1, data_height, data_width, n_classes)\n",
    "assert valid_dataloader[0][0].shape == (1, data_height, data_width, 3)\n",
    "assert valid_dataloader[0][1].shape == (1, data_height, data_width, n_classes)"
   ]
  },
  {
   "cell_type": "code",
   "execution_count": 24,
   "metadata": {},
   "outputs": [],
   "source": [
    "def my_scheduler(epoch, lr):\n",
    "    if epoch < 300:\n",
    "        return lr\n",
    "    else:\n",
    "        return 0.00001 # lr * tf.math.exp(-0.1)"
   ]
  },
  {
   "cell_type": "code",
   "execution_count": 25,
   "metadata": {},
   "outputs": [],
   "source": [
    "import time\n",
    "time.localtime()\n",
    "train_time=time.strftime(\"%Y%m%d%H%M%S\", time.localtime())\n",
    "#訓練資料H5存入的資料夾 save_ckpt_Folder  memo by charley\n",
    "\n"
   ]
  },
  {
   "cell_type": "code",
   "execution_count": 26,
   "metadata": {},
   "outputs": [
    {
     "name": "stdout",
     "output_type": "stream",
     "text": [
      "20230112150843\n"
     ]
    }
   ],
   "source": [
    "print(train_time) #測試用1110825"
   ]
  },
  {
   "cell_type": "code",
   "execution_count": 27,
   "metadata": {},
   "outputs": [],
   "source": [
    "# GPU_COUNT = 1 # 同时使用3个GPU\n",
    "# model = keras.applications.densenet.DenseNet201() # 比如使用DenseNet-201\n",
    "# model = ParallelModel(model, GPU_COUNT)\n",
    "# model.compile(optimizer=Adam(lr=1e-5), loss='binary_crossentropy', metrics = ['accuracy'])\n",
    "# model.fit(X_train, y_train,\n",
    "#               batch_size=batch_size*GPU_COUNT, \n",
    "#               epochs=nb_epoch, verbose=0, shuffle=True,\n",
    "#               validation_data=(X_valid, y_valid))\n",
    "\n",
    "# model.save_weights('/path/to/save/model.h5')"
   ]
  },
  {
   "cell_type": "code",
   "execution_count": 28,
   "metadata": {},
   "outputs": [],
   "source": [
    "# print(valid_dataloader[46][1].shape)"
   ]
  },
  {
   "cell_type": "code",
   "execution_count": 29,
   "metadata": {},
   "outputs": [
    {
     "name": "stdout",
     "output_type": "stream",
     "text": [
      "WARNING:tensorflow:From /home/ai/anaconda3/envs/py36tf/lib/python3.6/site-packages/tensorflow_core/python/ops/resource_variable_ops.py:1635: calling BaseResourceVariable.__init__ (from tensorflow.python.ops.resource_variable_ops) with constraint is deprecated and will be removed in a future version.\n",
      "Instructions for updating:\n",
      "If using Keras pass *_constraint arguments to layers.\n",
      "WARNING:tensorflow:Large dropout rate: 0.5125 (>0.5). In TensorFlow 2.x, dropout() uses dropout rate instead of keep_prob. Please ensure that this is intended.\n",
      "WARNING:tensorflow:Large dropout rate: 0.525 (>0.5). In TensorFlow 2.x, dropout() uses dropout rate instead of keep_prob. Please ensure that this is intended.\n",
      "WARNING:tensorflow:Large dropout rate: 0.5375 (>0.5). In TensorFlow 2.x, dropout() uses dropout rate instead of keep_prob. Please ensure that this is intended.\n",
      "WARNING:tensorflow:Large dropout rate: 0.55 (>0.5). In TensorFlow 2.x, dropout() uses dropout rate instead of keep_prob. Please ensure that this is intended.\n",
      "WARNING:tensorflow:Large dropout rate: 0.5625 (>0.5). In TensorFlow 2.x, dropout() uses dropout rate instead of keep_prob. Please ensure that this is intended.\n"
     ]
    }
   ],
   "source": [
    "CKPT_PATH = \"\"\n",
    "exec('model = sm.' + MODEL +'(BACKBONE, classes=n_classes, activation=activation)')\n",
    "# GPU_COUNT = 1 # 同时使用3个GPU   \n",
    "# model = ParallelModel(model, GPU_COUNT)    \n",
    "if CKPT_PATH != '':\n",
    "    model.load_weights(CKPT_PATH)\n",
    "model.compile(optim, total_loss, metrics)\n",
    "# dirPath = os.getcwd()\n",
    "# save_model_path = dirPath + \"/ckpt/\"+train_time\n",
    "# if not os.path.isdir(save_model_path):\n",
    "#     os.mkdir(save_model_path)\n",
    "# callbacks = [\n",
    "#     # monitor='val_iou_score', mode='max' # mode='min'\n",
    "#     keras.callbacks.ModelCheckpoint(save_model_path + '/'+ MODEL+'_'+BACKBONE +'_n{epoch:02d}_{val_iou_score:.3f}_model.h5', save_weights_only=True, save_best_only=True, monitor='val_loss', mode='min'),\n",
    "#     keras.callbacks.ReduceLROnPlateau(patience=12, verbose=1), # patience=12, min_lr=0.00001\n",
    "#     # keras.callbacks.LearningRateScheduler(schedule=my_scheduler, verbose=1)\n",
    "#     keras.callbacks.CSVLogger(MODEL+\"_\"+BACKBONE+'_model_adam.csv')\n",
    "# ]\n",
    "\n",
    "# history = model.fit_generator(\n",
    "#     train_dataloader, \n",
    "#     steps_per_epoch=len(train_dataloader),\n",
    "#     epochs=EPOCHS, \n",
    "#     callbacks=callbacks, \n",
    "#     validation_data=valid_dataloader, \n",
    "#     validation_steps=len(valid_dataloader),\n",
    "# )\n",
    "\n"
   ]
  },
  {
   "cell_type": "code",
   "execution_count": 30,
   "metadata": {},
   "outputs": [],
   "source": [
    "dirPath = os.getcwd()\n",
    "save_model_path = dirPath + \"/ckpt/\"+train_time\n",
    "if not os.path.isdir(save_model_path):\n",
    "    os.mkdir(save_model_path)\n",
    "callbacks = [\n",
    "    # monitor='val_iou_score', mode='max' # mode='min'\n",
    "    keras.callbacks.ModelCheckpoint(save_model_path + '/'+ MODEL+'_'+BACKBONE +'_n{epoch:02d}_{val_iou_score:.3f}_model.h5', save_weights_only=True, save_best_only=True, monitor='val_loss', mode='min'),\n",
    "    keras.callbacks.ReduceLROnPlateau(patience=12, verbose=1), # patience=12, min_lr=0.00001\n",
    "    # keras.callbacks.LearningRateScheduler(schedule=my_scheduler, verbose=1)\n",
    "    keras.callbacks.CSVLogger(MODEL+\"_\"+BACKBONE+'_model_adam.csv')\n",
    "]"
   ]
  },
  {
   "cell_type": "code",
   "execution_count": 31,
   "metadata": {},
   "outputs": [],
   "source": [
    "weight_saver = keras.callbacks.ModelCheckpoint(save_model_path + '/'+ MODEL+'_'+BACKBONE +'_n{epoch:02d}_{val_iou_score:.3f}_model.h5', save_weights_only=True, save_best_only=True, monitor='val_loss', mode='min')\n",
    "earlystop = keras.callbacks.EarlyStopping(monitor='val_loss', patience=10)\n",
    "CSVLogger=keras.callbacks.CSVLogger(MODEL+\"_\"+BACKBONE+'_model_adam.csv')\n",
    "ReduceLROnPlateau=keras.callbacks.ReduceLROnPlateau(patience=12, verbose=1)"
   ]
  },
  {
   "cell_type": "code",
   "execution_count": 32,
   "metadata": {},
   "outputs": [
    {
     "name": "stdout",
     "output_type": "stream",
     "text": [
      "Epoch 1/100\n",
      "495/496 [============================>.] - ETA: 6s - loss: 0.4523 - iou_score: 0.4514 - recall: 0.5155 Epoch 1/100\n",
      "496/496 [==============================] - 3594s 7s/step - loss: 0.4522 - iou_score: 0.4514 - recall: 0.5156 - val_loss: 0.4081 - val_iou_score: 0.7052 - val_recall: 0.7482\n",
      "Epoch 2/100\n",
      "495/496 [============================>.] - ETA: 6s - loss: 0.3719 - iou_score: 0.6107 - recall: 0.7094 Epoch 1/100\n",
      "496/496 [==============================] - 3221s 6s/step - loss: 0.3719 - iou_score: 0.6107 - recall: 0.7094 - val_loss: 0.3695 - val_iou_score: 0.7807 - val_recall: 0.8442\n",
      "Epoch 3/100\n",
      "495/496 [============================>.] - ETA: 6s - loss: 0.3457 - iou_score: 0.6546 - recall: 0.7598 Epoch 1/100\n",
      "496/496 [==============================] - 3222s 6s/step - loss: 0.3457 - iou_score: 0.6548 - recall: 0.7601 - val_loss: 0.3586 - val_iou_score: 0.7977 - val_recall: 0.8695\n",
      "Epoch 4/100\n",
      "495/496 [============================>.] - ETA: 6s - loss: 0.3241 - iou_score: 0.6830 - recall: 0.8112 Epoch 1/100\n",
      "496/496 [==============================] - 3217s 6s/step - loss: 0.3242 - iou_score: 0.6828 - recall: 0.8112 - val_loss: 0.3492 - val_iou_score: 0.7988 - val_recall: 0.8866\n",
      "Epoch 5/100\n",
      "495/496 [============================>.] - ETA: 6s - loss: 0.3141 - iou_score: 0.6912 - recall: 0.8289 Epoch 1/100\n",
      "496/496 [==============================] - 3218s 6s/step - loss: 0.3140 - iou_score: 0.6913 - recall: 0.8288 - val_loss: 0.3443 - val_iou_score: 0.8028 - val_recall: 0.8971\n",
      "Epoch 6/100\n",
      "495/496 [============================>.] - ETA: 6s - loss: 0.3083 - iou_score: 0.6794 - recall: 0.8435 Epoch 1/100\n",
      "496/496 [==============================] - 3213s 6s/step - loss: 0.3083 - iou_score: 0.6794 - recall: 0.8434 - val_loss: 0.3414 - val_iou_score: 0.8135 - val_recall: 0.8959\n",
      "Epoch 7/100\n",
      "495/496 [============================>.] - ETA: 6s - loss: 0.3030 - iou_score: 0.6944 - recall: 0.8502 Epoch 1/100\n",
      "496/496 [==============================] - 3213s 6s/step - loss: 0.3030 - iou_score: 0.6944 - recall: 0.8502 - val_loss: 0.3395 - val_iou_score: 0.8194 - val_recall: 0.9043\n",
      "Epoch 8/100\n",
      "495/496 [============================>.] - ETA: 6s - loss: 0.3008 - iou_score: 0.7045 - recall: 0.8535 Epoch 1/100\n",
      "496/496 [==============================] - 3214s 6s/step - loss: 0.3008 - iou_score: 0.7047 - recall: 0.8537 - val_loss: 0.3380 - val_iou_score: 0.8258 - val_recall: 0.9083\n",
      "Epoch 9/100\n",
      "495/496 [============================>.] - ETA: 6s - loss: 0.2991 - iou_score: 0.7096 - recall: 0.8571 Epoch 1/100\n",
      "496/496 [==============================] - 3215s 6s/step - loss: 0.2990 - iou_score: 0.7096 - recall: 0.8569 - val_loss: 0.3387 - val_iou_score: 0.8300 - val_recall: 0.9029\n",
      "Epoch 10/100\n",
      "495/496 [============================>.] - ETA: 6s - loss: 0.2967 - iou_score: 0.7219 - recall: 0.8584 Epoch 1/100\n",
      "496/496 [==============================] - 3215s 6s/step - loss: 0.2967 - iou_score: 0.7220 - recall: 0.8584 - val_loss: 0.3383 - val_iou_score: 0.8302 - val_recall: 0.9043\n",
      "Epoch 11/100\n",
      "495/496 [============================>.] - ETA: 6s - loss: 0.2953 - iou_score: 0.7286 - recall: 0.8610 Epoch 1/100\n",
      "496/496 [==============================] - 3217s 6s/step - loss: 0.2952 - iou_score: 0.7285 - recall: 0.8609 - val_loss: 0.3367 - val_iou_score: 0.8279 - val_recall: 0.9110\n",
      "Epoch 12/100\n",
      "495/496 [============================>.] - ETA: 6s - loss: 0.2929 - iou_score: 0.7386 - recall: 0.8639 Epoch 1/100\n",
      "496/496 [==============================] - 3216s 6s/step - loss: 0.2930 - iou_score: 0.7385 - recall: 0.8640 - val_loss: 0.3364 - val_iou_score: 0.8327 - val_recall: 0.9068\n",
      "Epoch 13/100\n",
      "495/496 [============================>.] - ETA: 6s - loss: 0.2932 - iou_score: 0.7382 - recall: 0.8649 Epoch 1/100\n",
      "496/496 [==============================] - 3211s 6s/step - loss: 0.2931 - iou_score: 0.7383 - recall: 0.8649 - val_loss: 0.3369 - val_iou_score: 0.8309 - val_recall: 0.9057\n",
      "Epoch 14/100\n",
      "495/496 [============================>.] - ETA: 6s - loss: 0.2922 - iou_score: 0.7390 - recall: 0.8651 Epoch 1/100\n",
      "496/496 [==============================] - 3213s 6s/step - loss: 0.2922 - iou_score: 0.7389 - recall: 0.8650 - val_loss: 0.3370 - val_iou_score: 0.8330 - val_recall: 0.9044\n",
      "Epoch 15/100\n",
      "495/496 [============================>.] - ETA: 6s - loss: 0.2917 - iou_score: 0.7402 - recall: 0.8653 Epoch 1/100\n",
      "496/496 [==============================] - 3214s 6s/step - loss: 0.2917 - iou_score: 0.7403 - recall: 0.8653 - val_loss: 0.3363 - val_iou_score: 0.8361 - val_recall: 0.9039\n",
      "Epoch 16/100\n",
      "495/496 [============================>.] - ETA: 6s - loss: 0.2892 - iou_score: 0.7494 - recall: 0.8686 Epoch 1/100\n",
      "496/496 [==============================] - 3215s 6s/step - loss: 0.2893 - iou_score: 0.7495 - recall: 0.8687 - val_loss: 0.3353 - val_iou_score: 0.8347 - val_recall: 0.9111\n",
      "Epoch 17/100\n",
      "495/496 [============================>.] - ETA: 6s - loss: 0.2892 - iou_score: 0.7452 - recall: 0.8684 Epoch 1/100\n",
      "496/496 [==============================] - 3214s 6s/step - loss: 0.2893 - iou_score: 0.7451 - recall: 0.8686 - val_loss: 0.3367 - val_iou_score: 0.8372 - val_recall: 0.9027\n",
      "Epoch 18/100\n",
      "495/496 [============================>.] - ETA: 6s - loss: 0.2882 - iou_score: 0.7488 - recall: 0.8698 Epoch 1/100\n",
      "496/496 [==============================] - 3216s 6s/step - loss: 0.2882 - iou_score: 0.7489 - recall: 0.8698 - val_loss: 0.3350 - val_iou_score: 0.8387 - val_recall: 0.9099\n",
      "Epoch 19/100\n",
      "495/496 [============================>.] - ETA: 6s - loss: 0.2884 - iou_score: 0.7500 - recall: 0.8712 Epoch 1/100\n",
      "496/496 [==============================] - 3213s 6s/step - loss: 0.2883 - iou_score: 0.7498 - recall: 0.8710 - val_loss: 0.3352 - val_iou_score: 0.8358 - val_recall: 0.9133\n",
      "Epoch 20/100\n",
      "495/496 [============================>.] - ETA: 6s - loss: 0.2866 - iou_score: 0.7561 - recall: 0.8729 Epoch 1/100\n",
      "496/496 [==============================] - 3212s 6s/step - loss: 0.2866 - iou_score: 0.7559 - recall: 0.8727 - val_loss: 0.3355 - val_iou_score: 0.8388 - val_recall: 0.9100\n",
      "Epoch 21/100\n",
      "495/496 [============================>.] - ETA: 6s - loss: 0.2863 - iou_score: 0.7529 - recall: 0.8724 Epoch 1/100\n",
      "496/496 [==============================] - 3233s 7s/step - loss: 0.2864 - iou_score: 0.7526 - recall: 0.8724 - val_loss: 0.3365 - val_iou_score: 0.8357 - val_recall: 0.9060\n",
      "Epoch 22/100\n",
      "495/496 [============================>.] - ETA: 6s - loss: 0.2620 - iou_score: 0.7564 - recall: 0.8734 Epoch 1/100\n",
      "496/496 [==============================] - 3211s 6s/step - loss: 0.2621 - iou_score: 0.7565 - recall: 0.8734 - val_loss: 0.3033 - val_iou_score: 0.8344 - val_recall: 0.9036\n",
      "Epoch 23/100\n",
      "495/496 [============================>.] - ETA: 6s - loss: 0.2530 - iou_score: 0.7581 - recall: 0.8735 Epoch 1/100\n",
      "496/496 [==============================] - 3206s 6s/step - loss: 0.2530 - iou_score: 0.7581 - recall: 0.8736 - val_loss: 0.3017 - val_iou_score: 0.8338 - val_recall: 0.9091\n",
      "Epoch 24/100\n",
      "495/496 [============================>.] - ETA: 6s - loss: 0.2518 - iou_score: 0.7589 - recall: 0.8747 Epoch 1/100\n",
      "496/496 [==============================] - 3204s 6s/step - loss: 0.2518 - iou_score: 0.7590 - recall: 0.8748 - val_loss: 0.3012 - val_iou_score: 0.8367 - val_recall: 0.9091\n",
      "Epoch 25/100\n",
      "495/496 [============================>.] - ETA: 6s - loss: 0.2509 - iou_score: 0.7662 - recall: 0.8759 Epoch 1/100\n",
      "496/496 [==============================] - 3206s 6s/step - loss: 0.2509 - iou_score: 0.7661 - recall: 0.8759 - val_loss: 0.3028 - val_iou_score: 0.8401 - val_recall: 0.9066\n",
      "Epoch 26/100\n",
      "495/496 [============================>.] - ETA: 6s - loss: 0.2502 - iou_score: 0.7640 - recall: 0.8771 Epoch 1/100\n",
      "496/496 [==============================] - 3207s 6s/step - loss: 0.2501 - iou_score: 0.7640 - recall: 0.8771 - val_loss: 0.3010 - val_iou_score: 0.8376 - val_recall: 0.9142\n",
      "Epoch 27/100\n",
      "495/496 [============================>.] - ETA: 6s - loss: 0.2507 - iou_score: 0.7639 - recall: 0.8770 Epoch 1/100\n",
      "496/496 [==============================] - 3206s 6s/step - loss: 0.2507 - iou_score: 0.7640 - recall: 0.8771 - val_loss: 0.3008 - val_iou_score: 0.8398 - val_recall: 0.9101\n",
      "Epoch 28/100\n",
      "495/496 [============================>.] - ETA: 6s - loss: 0.2506 - iou_score: 0.7662 - recall: 0.8763 Epoch 1/100\n",
      "496/496 [==============================] - 3202s 6s/step - loss: 0.2505 - iou_score: 0.7661 - recall: 0.8762 - val_loss: 0.3010 - val_iou_score: 0.8390 - val_recall: 0.9101\n",
      "Epoch 29/100\n",
      "495/496 [============================>.] - ETA: 6s - loss: 0.2491 - iou_score: 0.7700 - recall: 0.8776 Epoch 1/100\n",
      "496/496 [==============================] - 3206s 6s/step - loss: 0.2492 - iou_score: 0.7697 - recall: 0.8774 - val_loss: 0.3017 - val_iou_score: 0.8360 - val_recall: 0.9112\n",
      "Epoch 30/100\n",
      "495/496 [============================>.] - ETA: 6s - loss: 0.2494 - iou_score: 0.7644 - recall: 0.8772 Epoch 1/100\n",
      "496/496 [==============================] - 3203s 6s/step - loss: 0.2495 - iou_score: 0.7645 - recall: 0.8773 - val_loss: 0.3009 - val_iou_score: 0.8393 - val_recall: 0.9091\n",
      "Epoch 31/100\n",
      "495/496 [============================>.] - ETA: 6s - loss: 0.2484 - iou_score: 0.7703 - recall: 0.8791 Epoch 1/100\n",
      "496/496 [==============================] - 3208s 6s/step - loss: 0.2483 - iou_score: 0.7704 - recall: 0.8792 - val_loss: 0.3006 - val_iou_score: 0.8389 - val_recall: 0.9131\n",
      "Epoch 32/100\n",
      "495/496 [============================>.] - ETA: 6s - loss: 0.2481 - iou_score: 0.7717 - recall: 0.8792 Epoch 1/100\n",
      "496/496 [==============================] - 3206s 6s/step - loss: 0.2480 - iou_score: 0.7719 - recall: 0.8793 - val_loss: 0.3004 - val_iou_score: 0.8400 - val_recall: 0.9110\n",
      "Epoch 33/100\n",
      "495/496 [============================>.] - ETA: 6s - loss: 0.2472 - iou_score: 0.7657 - recall: 0.8806 Epoch 1/100\n",
      "496/496 [==============================] - 3205s 6s/step - loss: 0.2473 - iou_score: 0.7658 - recall: 0.8807 - val_loss: 0.3010 - val_iou_score: 0.8268 - val_recall: 0.9105\n",
      "Epoch 34/100\n",
      "495/496 [============================>.] - ETA: 6s - loss: 0.2462 - iou_score: 0.7661 - recall: 0.8819 Epoch 1/100\n",
      "496/496 [==============================] - 3204s 6s/step - loss: 0.2463 - iou_score: 0.7659 - recall: 0.8819 - val_loss: 0.3007 - val_iou_score: 0.8379 - val_recall: 0.9110\n",
      "Epoch 35/100\n",
      "495/496 [============================>.] - ETA: 6s - loss: 0.2468 - iou_score: 0.7639 - recall: 0.8803 Epoch 1/100\n",
      "496/496 [==============================] - 3207s 6s/step - loss: 0.2468 - iou_score: 0.7639 - recall: 0.8803 - val_loss: 0.3008 - val_iou_score: 0.8351 - val_recall: 0.9112\n",
      "Epoch 36/100\n",
      "495/496 [============================>.] - ETA: 6s - loss: 0.2478 - iou_score: 0.7548 - recall: 0.8805 Epoch 1/100\n",
      "496/496 [==============================] - 3204s 6s/step - loss: 0.2478 - iou_score: 0.7550 - recall: 0.8805 - val_loss: 0.3002 - val_iou_score: 0.8398 - val_recall: 0.9094\n",
      "Epoch 37/100\n",
      "495/496 [============================>.] - ETA: 6s - loss: 0.2473 - iou_score: 0.7563 - recall: 0.8807 Epoch 1/100\n",
      "496/496 [==============================] - 3208s 6s/step - loss: 0.2472 - iou_score: 0.7562 - recall: 0.8807 - val_loss: 0.3001 - val_iou_score: 0.8327 - val_recall: 0.9136\n",
      "Epoch 38/100\n",
      "495/496 [============================>.] - ETA: 6s - loss: 0.2460 - iou_score: 0.7554 - recall: 0.8825 Epoch 1/100\n",
      "496/496 [==============================] - 3206s 6s/step - loss: 0.2460 - iou_score: 0.7552 - recall: 0.8822 - val_loss: 0.2998 - val_iou_score: 0.8362 - val_recall: 0.9057\n",
      "Epoch 39/100\n",
      "495/496 [============================>.] - ETA: 6s - loss: 0.2451 - iou_score: 0.7527 - recall: 0.8834 Epoch 1/100\n",
      "496/496 [==============================] - 3204s 6s/step - loss: 0.2450 - iou_score: 0.7527 - recall: 0.8834 - val_loss: 0.3001 - val_iou_score: 0.8342 - val_recall: 0.9077\n",
      "Epoch 40/100\n",
      "495/496 [============================>.] - ETA: 6s - loss: 0.2447 - iou_score: 0.7457 - recall: 0.8825 Epoch 1/100\n",
      "496/496 [==============================] - 3205s 6s/step - loss: 0.2448 - iou_score: 0.7458 - recall: 0.8826 - val_loss: 0.3005 - val_iou_score: 0.8319 - val_recall: 0.9100\n",
      "Epoch 41/100\n",
      "495/496 [============================>.] - ETA: 6s - loss: 0.2442 - iou_score: 0.7368 - recall: 0.8849 Epoch 1/100\n",
      "496/496 [==============================] - 3201s 6s/step - loss: 0.2443 - iou_score: 0.7365 - recall: 0.8849 - val_loss: 0.3004 - val_iou_score: 0.8255 - val_recall: 0.9079\n",
      "Epoch 42/100\n",
      "495/496 [============================>.] - ETA: 6s - loss: 0.2436 - iou_score: 0.7326 - recall: 0.8855 Epoch 1/100\n",
      "496/496 [==============================] - 3202s 6s/step - loss: 0.2437 - iou_score: 0.7326 - recall: 0.8856 - val_loss: 0.3002 - val_iou_score: 0.8230 - val_recall: 0.9112\n",
      "Epoch 43/100\n",
      "495/496 [============================>.] - ETA: 6s - loss: 0.2431 - iou_score: 0.7334 - recall: 0.8860 Epoch 1/100\n",
      "496/496 [==============================] - 3202s 6s/step - loss: 0.2433 - iou_score: 0.7332 - recall: 0.8860 - val_loss: 0.3002 - val_iou_score: 0.8260 - val_recall: 0.9117\n",
      "Epoch 44/100\n",
      "495/496 [============================>.] - ETA: 6s - loss: 0.2436 - iou_score: 0.7307 - recall: 0.8863 Epoch 1/100\n",
      "496/496 [==============================] - 3206s 6s/step - loss: 0.2435 - iou_score: 0.7307 - recall: 0.8863 - val_loss: 0.3013 - val_iou_score: 0.8279 - val_recall: 0.9058\n",
      "Epoch 45/100\n",
      "495/496 [============================>.] - ETA: 6s - loss: 0.2431 - iou_score: 0.7318 - recall: 0.8865 Epoch 1/100\n",
      "496/496 [==============================] - 3204s 6s/step - loss: 0.2431 - iou_score: 0.7316 - recall: 0.8864 - val_loss: 0.3004 - val_iou_score: 0.8245 - val_recall: 0.9088\n",
      "Epoch 46/100\n",
      "495/496 [============================>.] - ETA: 6s - loss: 0.2423 - iou_score: 0.7401 - recall: 0.8881 Epoch 1/100\n",
      "496/496 [==============================] - 3204s 6s/step - loss: 0.2423 - iou_score: 0.7400 - recall: 0.8881 - val_loss: 0.2997 - val_iou_score: 0.8217 - val_recall: 0.9107\n",
      "Epoch 47/100\n",
      "495/496 [============================>.] - ETA: 6s - loss: 0.2424 - iou_score: 0.7383 - recall: 0.8874 Epoch 1/100\n",
      "496/496 [==============================] - 3201s 6s/step - loss: 0.2424 - iou_score: 0.7383 - recall: 0.8874 - val_loss: 0.3009 - val_iou_score: 0.8267 - val_recall: 0.9100\n",
      "Epoch 48/100\n",
      "495/496 [============================>.] - ETA: 6s - loss: 0.2423 - iou_score: 0.7393 - recall: 0.8879 Epoch 1/100\n",
      "496/496 [==============================] - 3201s 6s/step - loss: 0.2422 - iou_score: 0.7393 - recall: 0.8879 - val_loss: 0.3000 - val_iou_score: 0.8292 - val_recall: 0.9112\n",
      "Epoch 49/100\n",
      "495/496 [============================>.] - ETA: 6s - loss: 0.2415 - iou_score: 0.7400 - recall: 0.8885 Epoch 1/100\n",
      "496/496 [==============================] - 3202s 6s/step - loss: 0.2415 - iou_score: 0.7399 - recall: 0.8886 - val_loss: 0.3008 - val_iou_score: 0.8274 - val_recall: 0.9115\n",
      "Epoch 50/100\n",
      "495/496 [============================>.] - ETA: 6s - loss: 0.2410 - iou_score: 0.7345 - recall: 0.8892 Epoch 1/100\n",
      "496/496 [==============================] - 3201s 6s/step - loss: 0.2411 - iou_score: 0.7346 - recall: 0.8893 - val_loss: 0.2997 - val_iou_score: 0.8297 - val_recall: 0.9123\n",
      "Epoch 51/100\n",
      "495/496 [============================>.] - ETA: 6s - loss: 0.2400 - iou_score: 0.7377 - recall: 0.8903 Epoch 1/100\n",
      "496/496 [==============================] - 3201s 6s/step - loss: 0.2399 - iou_score: 0.7376 - recall: 0.8902 - val_loss: 0.3000 - val_iou_score: 0.8287 - val_recall: 0.9117\n",
      "Epoch 52/100\n",
      "495/496 [============================>.] - ETA: 6s - loss: 0.2407 - iou_score: 0.7413 - recall: 0.8897 Epoch 1/100\n",
      "496/496 [==============================] - 3205s 6s/step - loss: 0.2409 - iou_score: 0.7413 - recall: 0.8898 - val_loss: 0.3001 - val_iou_score: 0.8322 - val_recall: 0.9116\n",
      "Epoch 53/100\n",
      "495/496 [============================>.] - ETA: 6s - loss: 0.2399 - iou_score: 0.7367 - recall: 0.8906 Epoch 1/100\n",
      "496/496 [==============================] - 3202s 6s/step - loss: 0.2399 - iou_score: 0.7368 - recall: 0.8906 - val_loss: 0.3008 - val_iou_score: 0.8317 - val_recall: 0.9101\n",
      "Epoch 54/100\n",
      "495/496 [============================>.] - ETA: 6s - loss: 0.2403 - iou_score: 0.7318 - recall: 0.8912 Epoch 1/100\n",
      "496/496 [==============================] - 3204s 6s/step - loss: 0.2402 - iou_score: 0.7315 - recall: 0.8910 - val_loss: 0.3021 - val_iou_score: 0.8096 - val_recall: 0.9098\n",
      "Epoch 55/100\n",
      "495/496 [============================>.] - ETA: 6s - loss: 0.2388 - iou_score: 0.7232 - recall: 0.8930 Epoch 1/100\n",
      "496/496 [==============================] - 3207s 6s/step - loss: 0.2387 - iou_score: 0.7233 - recall: 0.8929 - val_loss: 0.2992 - val_iou_score: 0.8330 - val_recall: 0.9131\n",
      "Epoch 56/100\n",
      "495/496 [============================>.] - ETA: 6s - loss: 0.2390 - iou_score: 0.7230 - recall: 0.8931 Epoch 1/100\n",
      "496/496 [==============================] - 3200s 6s/step - loss: 0.2390 - iou_score: 0.7232 - recall: 0.8932 - val_loss: 0.3006 - val_iou_score: 0.8292 - val_recall: 0.9123\n",
      "Epoch 57/100\n",
      "495/496 [============================>.] - ETA: 6s - loss: 0.2380 - iou_score: 0.7352 - recall: 0.8937 Epoch 1/100\n",
      "496/496 [==============================] - 3202s 6s/step - loss: 0.2381 - iou_score: 0.7352 - recall: 0.8938 - val_loss: 0.3005 - val_iou_score: 0.8262 - val_recall: 0.9109\n",
      "Epoch 58/100\n",
      "495/496 [============================>.] - ETA: 6s - loss: 0.2382 - iou_score: 0.7477 - recall: 0.8940 Epoch 1/100\n",
      "496/496 [==============================] - 3203s 6s/step - loss: 0.2381 - iou_score: 0.7478 - recall: 0.8940 - val_loss: 0.3010 - val_iou_score: 0.8178 - val_recall: 0.9104\n",
      "Epoch 59/100\n",
      "495/496 [============================>.] - ETA: 6s - loss: 0.2375 - iou_score: 0.7395 - recall: 0.8945 Epoch 1/100\n",
      "496/496 [==============================] - 3202s 6s/step - loss: 0.2376 - iou_score: 0.7392 - recall: 0.8946 - val_loss: 0.3018 - val_iou_score: 0.8132 - val_recall: 0.9086\n",
      "Epoch 60/100\n",
      "495/496 [============================>.] - ETA: 6s - loss: 0.2370 - iou_score: 0.7422 - recall: 0.8955 Epoch 1/100\n",
      "496/496 [==============================] - 3204s 6s/step - loss: 0.2370 - iou_score: 0.7423 - recall: 0.8956 - val_loss: 0.3010 - val_iou_score: 0.8092 - val_recall: 0.9130\n",
      "Epoch 61/100\n",
      "495/496 [============================>.] - ETA: 6s - loss: 0.2365 - iou_score: 0.7413 - recall: 0.8961 Epoch 1/100\n",
      "496/496 [==============================] - 3201s 6s/step - loss: 0.2366 - iou_score: 0.7412 - recall: 0.8960 - val_loss: 0.3006 - val_iou_score: 0.8309 - val_recall: 0.9115\n",
      "Epoch 62/100\n",
      "495/496 [============================>.] - ETA: 6s - loss: 0.2363 - iou_score: 0.7480 - recall: 0.8961 Epoch 1/100\n",
      "496/496 [==============================] - 3203s 6s/step - loss: 0.2364 - iou_score: 0.7477 - recall: 0.8960 - val_loss: 0.3008 - val_iou_score: 0.8224 - val_recall: 0.9118\n",
      "Epoch 63/100\n",
      "495/496 [============================>.] - ETA: 6s - loss: 0.2362 - iou_score: 0.7520 - recall: 0.8959 Epoch 1/100\n",
      "496/496 [==============================] - 3203s 6s/step - loss: 0.2363 - iou_score: 0.7520 - recall: 0.8959 - val_loss: 0.3004 - val_iou_score: 0.8315 - val_recall: 0.9103\n",
      "Epoch 64/100\n",
      "495/496 [============================>.] - ETA: 6s - loss: 0.2353 - iou_score: 0.7690 - recall: 0.8958 Epoch 1/100\n",
      "496/496 [==============================] - 3203s 6s/step - loss: 0.2353 - iou_score: 0.7691 - recall: 0.8957 - val_loss: 0.3018 - val_iou_score: 0.8217 - val_recall: 0.9074\n",
      "Epoch 65/100\n",
      "495/496 [============================>.] - ETA: 6s - loss: 0.2241 - iou_score: 0.7429 - recall: 0.8885 Epoch 1/100\n",
      "496/496 [==============================] - 3203s 6s/step - loss: 0.2241 - iou_score: 0.7427 - recall: 0.8884 - val_loss: 0.2763 - val_iou_score: 0.8102 - val_recall: 0.9003\n",
      "Epoch 66/100\n",
      "495/496 [============================>.] - ETA: 6s - loss: 0.2243 - iou_score: 0.7238 - recall: 0.8849 Epoch 1/100\n",
      "496/496 [==============================] - 3201s 6s/step - loss: 0.2243 - iou_score: 0.7239 - recall: 0.8849 - val_loss: 0.2742 - val_iou_score: 0.8311 - val_recall: 0.9071\n",
      "Epoch 67/100\n",
      "495/496 [============================>.] - ETA: 6s - loss: 0.2220 - iou_score: 0.7555 - recall: 0.8881 Epoch 1/100\n",
      "496/496 [==============================] - 3200s 6s/step - loss: 0.2219 - iou_score: 0.7555 - recall: 0.8882 - val_loss: 0.2739 - val_iou_score: 0.8312 - val_recall: 0.9061\n",
      "Epoch 68/100\n",
      "495/496 [============================>.] - ETA: 6s - loss: 0.2207 - iou_score: 0.7513 - recall: 0.8914 Epoch 1/100\n",
      "496/496 [==============================] - 3198s 6s/step - loss: 0.2207 - iou_score: 0.7513 - recall: 0.8914 - val_loss: 0.2738 - val_iou_score: 0.8318 - val_recall: 0.9092\n",
      "Epoch 69/100\n",
      "495/496 [============================>.] - ETA: 6s - loss: 0.2213 - iou_score: 0.7481 - recall: 0.8922 Epoch 1/100\n",
      "496/496 [==============================] - 3198s 6s/step - loss: 0.2213 - iou_score: 0.7482 - recall: 0.8923 - val_loss: 0.2733 - val_iou_score: 0.8280 - val_recall: 0.9083\n",
      "Epoch 70/100\n",
      "495/496 [============================>.] - ETA: 6s - loss: 0.2189 - iou_score: 0.7531 - recall: 0.8934 Epoch 1/100\n",
      "496/496 [==============================] - 3196s 6s/step - loss: 0.2189 - iou_score: 0.7532 - recall: 0.8934 - val_loss: 0.2737 - val_iou_score: 0.8338 - val_recall: 0.9090\n",
      "Epoch 71/100\n",
      "495/496 [============================>.] - ETA: 6s - loss: 0.2233 - iou_score: 0.7372 - recall: 0.8840 Epoch 1/100\n",
      "496/496 [==============================] - 3198s 6s/step - loss: 0.2233 - iou_score: 0.7370 - recall: 0.8840 - val_loss: 0.2781 - val_iou_score: 0.7851 - val_recall: 0.9041\n",
      "Epoch 72/100\n",
      "495/496 [============================>.] - ETA: 6s - loss: 0.2222 - iou_score: 0.7474 - recall: 0.8910 Epoch 1/100\n",
      "496/496 [==============================] - 3196s 6s/step - loss: 0.2222 - iou_score: 0.7472 - recall: 0.8909 - val_loss: 0.2743 - val_iou_score: 0.8293 - val_recall: 0.9062\n",
      "Epoch 73/100\n",
      "495/496 [============================>.] - ETA: 6s - loss: 0.2201 - iou_score: 0.7245 - recall: 0.8913 Epoch 1/100\n",
      "496/496 [==============================] - 3197s 6s/step - loss: 0.2201 - iou_score: 0.7246 - recall: 0.8913 - val_loss: 0.2736 - val_iou_score: 0.8228 - val_recall: 0.9110\n",
      "Epoch 74/100\n",
      "495/496 [============================>.] - ETA: 6s - loss: 0.2252 - iou_score: 0.6809 - recall: 0.8792 Epoch 1/100\n",
      "496/496 [==============================] - 3197s 6s/step - loss: 0.2252 - iou_score: 0.6812 - recall: 0.8793 - val_loss: 0.2738 - val_iou_score: 0.8101 - val_recall: 0.9074\n",
      "Epoch 75/100\n",
      "495/496 [============================>.] - ETA: 6s - loss: 0.2204 - iou_score: 0.7012 - recall: 0.8896 Epoch 1/100\n",
      "496/496 [==============================] - 3197s 6s/step - loss: 0.2204 - iou_score: 0.7012 - recall: 0.8896 - val_loss: 0.2734 - val_iou_score: 0.7936 - val_recall: 0.9084\n",
      "Epoch 76/100\n",
      "495/496 [============================>.] - ETA: 6s - loss: 0.2204 - iou_score: 0.7069 - recall: 0.8907 Epoch 1/100\n",
      "496/496 [==============================] - 3200s 6s/step - loss: 0.2204 - iou_score: 0.7070 - recall: 0.8908 - val_loss: 0.2741 - val_iou_score: 0.7844 - val_recall: 0.9097\n",
      "Epoch 77/100\n",
      "495/496 [============================>.] - ETA: 6s - loss: 0.2189 - iou_score: 0.6940 - recall: 0.8949 Epoch 1/100\n",
      "496/496 [==============================] - 3197s 6s/step - loss: 0.2188 - iou_score: 0.6939 - recall: 0.8949 - val_loss: 0.2741 - val_iou_score: 0.7940 - val_recall: 0.9083\n",
      "Epoch 78/100\n",
      "495/496 [============================>.] - ETA: 6s - loss: 0.2173 - iou_score: 0.7134 - recall: 0.8972 Epoch 1/100\n",
      "496/496 [==============================] - 3197s 6s/step - loss: 0.2174 - iou_score: 0.7134 - recall: 0.8972 - val_loss: 0.2741 - val_iou_score: 0.7938 - val_recall: 0.9094\n",
      "Epoch 79/100\n",
      "495/496 [============================>.] - ETA: 6s - loss: 0.2167 - iou_score: 0.7135 - recall: 0.8979 Epoch 1/100\n",
      "496/496 [==============================] - 3197s 6s/step - loss: 0.2167 - iou_score: 0.7135 - recall: 0.8977 - val_loss: 0.2738 - val_iou_score: 0.8139 - val_recall: 0.9077\n",
      "Epoch 80/100\n",
      "495/496 [============================>.] - ETA: 6s - loss: 0.2175 - iou_score: 0.7095 - recall: 0.8966 Epoch 1/100\n",
      "496/496 [==============================] - 3201s 6s/step - loss: 0.2175 - iou_score: 0.7096 - recall: 0.8964 - val_loss: 0.2732 - val_iou_score: 0.7961 - val_recall: 0.9089\n",
      "Epoch 81/100\n",
      "495/496 [============================>.] - ETA: 6s - loss: 0.2157 - iou_score: 0.7271 - recall: 0.8989 Epoch 1/100\n",
      "496/496 [==============================] - 3195s 6s/step - loss: 0.2157 - iou_score: 0.7270 - recall: 0.8989 - val_loss: 0.2727 - val_iou_score: 0.8161 - val_recall: 0.9114\n",
      "Epoch 82/100\n",
      "495/496 [============================>.] - ETA: 6s - loss: 0.2169 - iou_score: 0.7240 - recall: 0.8979 Epoch 1/100\n",
      "496/496 [==============================] - 3196s 6s/step - loss: 0.2169 - iou_score: 0.7239 - recall: 0.8979 - val_loss: 0.2738 - val_iou_score: 0.7933 - val_recall: 0.9090\n",
      "Epoch 83/100\n",
      "495/496 [============================>.] - ETA: 6s - loss: 0.2162 - iou_score: 0.7184 - recall: 0.8998 Epoch 1/100\n",
      "496/496 [==============================] - 3196s 6s/step - loss: 0.2163 - iou_score: 0.7183 - recall: 0.8995 - val_loss: 0.2734 - val_iou_score: 0.8072 - val_recall: 0.9105\n",
      "Epoch 84/100\n",
      "495/496 [============================>.] - ETA: 6s - loss: 0.2161 - iou_score: 0.7283 - recall: 0.8985 Epoch 1/100\n",
      "496/496 [==============================] - 3195s 6s/step - loss: 0.2162 - iou_score: 0.7282 - recall: 0.8986 - val_loss: 0.2730 - val_iou_score: 0.8190 - val_recall: 0.9103\n",
      "Epoch 85/100\n",
      "495/496 [============================>.] - ETA: 6s - loss: 0.2209 - iou_score: 0.7034 - recall: 0.8908 Epoch 1/100\n",
      "496/496 [==============================] - 3197s 6s/step - loss: 0.2209 - iou_score: 0.7032 - recall: 0.8907 - val_loss: 0.2779 - val_iou_score: 0.7976 - val_recall: 0.9001\n",
      "Epoch 86/100\n",
      "495/496 [============================>.] - ETA: 6s - loss: 0.2256 - iou_score: 0.6933 - recall: 0.8786 Epoch 1/100\n",
      "496/496 [==============================] - 3197s 6s/step - loss: 0.2256 - iou_score: 0.6933 - recall: 0.8785 - val_loss: 0.2772 - val_iou_score: 0.7998 - val_recall: 0.9025\n",
      "Epoch 87/100\n",
      "495/496 [============================>.] - ETA: 6s - loss: 0.2236 - iou_score: 0.7020 - recall: 0.8803 Epoch 1/100\n",
      "496/496 [==============================] - 3198s 6s/step - loss: 0.2236 - iou_score: 0.7022 - recall: 0.8804 - val_loss: 0.2767 - val_iou_score: 0.8035 - val_recall: 0.9027\n",
      "Epoch 88/100\n",
      "495/496 [============================>.] - ETA: 6s - loss: 0.2224 - iou_score: 0.7036 - recall: 0.8819 Epoch 1/100\n",
      "496/496 [==============================] - 3197s 6s/step - loss: 0.2223 - iou_score: 0.7036 - recall: 0.8820 - val_loss: 0.2756 - val_iou_score: 0.8090 - val_recall: 0.9031\n",
      "Epoch 89/100\n",
      "495/496 [============================>.] - ETA: 6s - loss: 0.2224 - iou_score: 0.6945 - recall: 0.8819 Epoch 1/100\n",
      "496/496 [==============================] - 3197s 6s/step - loss: 0.2224 - iou_score: 0.6945 - recall: 0.8819 - val_loss: 0.2758 - val_iou_score: 0.8101 - val_recall: 0.9039\n",
      "Epoch 90/100\n",
      "495/496 [============================>.] - ETA: 6s - loss: 0.2211 - iou_score: 0.7023 - recall: 0.8841 Epoch 1/100\n",
      "496/496 [==============================] - 3198s 6s/step - loss: 0.2211 - iou_score: 0.7021 - recall: 0.8841 - val_loss: 0.2759 - val_iou_score: 0.8048 - val_recall: 0.9016\n",
      "Epoch 91/100\n",
      "495/496 [============================>.] - ETA: 6s - loss: 0.2215 - iou_score: 0.7085 - recall: 0.8833 Epoch 1/100\n",
      "496/496 [==============================] - 3197s 6s/step - loss: 0.2216 - iou_score: 0.7082 - recall: 0.8831 - val_loss: 0.2758 - val_iou_score: 0.8083 - val_recall: 0.9049\n",
      "Epoch 92/100\n",
      "495/496 [============================>.] - ETA: 6s - loss: 0.2209 - iou_score: 0.7110 - recall: 0.8834 Epoch 1/100\n",
      "496/496 [==============================] - 3197s 6s/step - loss: 0.2209 - iou_score: 0.7111 - recall: 0.8835 - val_loss: 0.2764 - val_iou_score: 0.7995 - val_recall: 0.9039\n",
      "Epoch 93/100\n",
      "495/496 [============================>.] - ETA: 6s - loss: 0.2211 - iou_score: 0.7062 - recall: 0.8842 Epoch 1/100\n",
      "212/496 [===========>..................] - ETA: 1:37 - loss: 0.2760 - iou_score: 0.8122 - recall: 0.9046\n",
      "Epoch 00093: ReduceLROnPlateau reducing learning rate to 9.999999747378752e-06.\n",
      "496/496 [==============================] - 3201s 6s/step - loss: 0.2211 - iou_score: 0.7061 - recall: 0.8840 - val_loss: 0.2760 - val_iou_score: 0.8122 - val_recall: 0.9046\n",
      "Epoch 94/100\n",
      "495/496 [============================>.] - ETA: 6s - loss: 0.2188 - iou_score: 0.7257 - recall: 0.8875 Epoch 1/100\n",
      "496/496 [==============================] - 3197s 6s/step - loss: 0.2188 - iou_score: 0.7256 - recall: 0.8874 - val_loss: 0.2751 - val_iou_score: 0.8168 - val_recall: 0.9037\n",
      "Epoch 95/100\n",
      "495/496 [============================>.] - ETA: 6s - loss: 0.2184 - iou_score: 0.7306 - recall: 0.8875 Epoch 1/100\n",
      "496/496 [==============================] - 3197s 6s/step - loss: 0.2184 - iou_score: 0.7304 - recall: 0.8875 - val_loss: 0.2748 - val_iou_score: 0.8170 - val_recall: 0.9043\n",
      "Epoch 96/100\n",
      "495/496 [============================>.] - ETA: 6s - loss: 0.2179 - iou_score: 0.7272 - recall: 0.8879 Epoch 1/100\n",
      "496/496 [==============================] - 3200s 6s/step - loss: 0.2179 - iou_score: 0.7271 - recall: 0.8878 - val_loss: 0.2747 - val_iou_score: 0.8166 - val_recall: 0.9042\n",
      "Epoch 97/100\n",
      "495/496 [============================>.] - ETA: 6s - loss: 0.2174 - iou_score: 0.7240 - recall: 0.8885 Epoch 1/100\n",
      "496/496 [==============================] - 3196s 6s/step - loss: 0.2174 - iou_score: 0.7241 - recall: 0.8886 - val_loss: 0.2745 - val_iou_score: 0.8154 - val_recall: 0.9050\n",
      "Epoch 98/100\n",
      "495/496 [============================>.] - ETA: 6s - loss: 0.2181 - iou_score: 0.7261 - recall: 0.8874 Epoch 1/100\n",
      "496/496 [==============================] - 3197s 6s/step - loss: 0.2181 - iou_score: 0.7261 - recall: 0.8873 - val_loss: 0.2749 - val_iou_score: 0.8155 - val_recall: 0.9048\n",
      "Epoch 99/100\n",
      "495/496 [============================>.] - ETA: 6s - loss: 0.2172 - iou_score: 0.7284 - recall: 0.8885 Epoch 1/100\n",
      "496/496 [==============================] - 3198s 6s/step - loss: 0.2172 - iou_score: 0.7284 - recall: 0.8886 - val_loss: 0.2752 - val_iou_score: 0.8135 - val_recall: 0.9041\n",
      "Epoch 100/100\n",
      "495/496 [============================>.] - ETA: 6s - loss: 0.2168 - iou_score: 0.7296 - recall: 0.8888 Epoch 1/100\n",
      "496/496 [==============================] - 3197s 6s/step - loss: 0.2168 - iou_score: 0.7297 - recall: 0.8889 - val_loss: 0.2750 - val_iou_score: 0.8154 - val_recall: 0.9045\n"
     ]
    }
   ],
   "source": [
    "# print(len(train_dataloader))\n",
    "# print(len(valid_dataloader))\n",
    "# history = model.fit_generator(\n",
    "#     train_dataloader, \n",
    "#     steps_per_epoch=len(train_dataloader),\n",
    "#     epochs=EPOCHS, \n",
    "#     callbacks=callbacks, \n",
    "#     validation_data=valid_dataloader, \n",
    "#     validation_steps=len(valid_dataloader)\n",
    "# )\n",
    "steps_per_epoch=len(train_dataloader)\n",
    "# history = model.fit(train_dataloader,\n",
    "#                  validation_data = valid_dataloader,\n",
    "#                  epochs=EPOCHS,\n",
    "#                  callbacks = [weight_saver, earlystop,CSVLogger,ReduceLROnPlateau])\n",
    "\n",
    "history = model.fit(train_dataloader,\n",
    "                 validation_data = valid_dataloader,\n",
    "                 epochs=EPOCHS,\n",
    "                 callbacks = callbacks)\n",
    "\n",
    "\n"
   ]
  },
  {
   "cell_type": "code",
   "execution_count": 33,
   "metadata": {},
   "outputs": [],
   "source": [
    "#import os"
   ]
  },
  {
   "cell_type": "code",
   "execution_count": 34,
   "metadata": {},
   "outputs": [
    {
     "name": "stdout",
     "output_type": "stream",
     "text": [
      "change directory 配合使用使 os.getcwd() 可正確顯示Start\n",
      "/home/ai/notebook/jupyter_work/test1/SurgeryAnalytics/AI_Cases/Dentistry_AI_ZERO_New_1120105/B_AI_training\n",
      "change directory 配合使用使 os.getcwd() 可正確顯示End\n"
     ]
    }
   ],
   "source": [
    "print('change directory 配合使用使 os.getcwd() 可正確顯示Start')\n",
    "#os.chdir(os.path.dirname(os.path.abspath(__file__)))  #ipynb 不可用\n",
    "from pathlib import Path  #改為目前的資料夾引用物件\n",
    "os.chdir(Path.cwd())    #改為目前的資料夾*********\n",
    "cwd = os.getcwd()\n",
    "print(cwd)\n",
    "print('change directory 配合使用使 os.getcwd() 可正確顯示End')\n",
    "# save_model_path = dirPath + \"/ckpt\"\n",
    "config[\"model\"] = MODEL\n",
    "config[\"BACKBONE\"] = BACKBONE\n",
    "config[\"num_classes\"] = len(CLASSES)+1\n",
    "config[\"save_ckpt_Folder\"] = save_model_path\n",
    "config[\"data_height\"] = data_height\n",
    "config[\"data_width\"] = data_width\n",
    "with open(\"Dentistry_config.json\",\"w\") as f:\n",
    "    json.dump(config, f)"
   ]
  },
  {
   "cell_type": "code",
   "execution_count": 35,
   "metadata": {},
   "outputs": [
    {
     "data": {
      "text/plain": [
       "{'surgeryName': 'Dentistry',\n",
       " 'label_folder_path': '/home/ai/notebook/jupyter_work/test1/SurgeryAnalytics/AI_Cases/Dentistry_AI_ZERO_New_1120105/0_Data/0_ori',\n",
       " 'trans_folder_path': '/home/ai/notebook/jupyter_work/test1/SurgeryAnalytics/AI_Cases/Dentistry_AI_ZERO_New_1120105/0_Data/1_trans',\n",
       " 'split_folder_path': '/home/ai/notebook/jupyter_work/test1/SurgeryAnalytics/AI_Cases/Dentistry_AI_ZERO_New_1120105/0_Data/2_split',\n",
       " 'correct_label': ['Alveolar_bone',\n",
       "  'Caries',\n",
       "  'Crown',\n",
       "  'Dentin',\n",
       "  'Enamel',\n",
       "  'Implant',\n",
       "  'Mandibular_alveolar_nerve',\n",
       "  'Maxillary_sinus',\n",
       "  'Periapical_lesion',\n",
       "  'Post_and_core',\n",
       "  'Pulp',\n",
       "  'Restoration',\n",
       "  'Root_canal_filling'],\n",
       " 'detect_label_list': ['Alveolar_bone',\n",
       "  'Caries',\n",
       "  'Crown',\n",
       "  'Dentin',\n",
       "  'Enamel',\n",
       "  'Implant',\n",
       "  'Mandibular_alveolar_nerve',\n",
       "  'Maxillary_sinus',\n",
       "  'Periapical_lesion',\n",
       "  'Post_and_core',\n",
       "  'Pulp',\n",
       "  'Restoration',\n",
       "  'Root_canal_filling'],\n",
       " 'Data_total_excel': '/home/ai/notebook/jupyter_work/test1/SurgeryAnalytics/AI_Cases/Dentistry_AI_ZERO_New_1120105/A_Data_preprocessing/Dentistry.xlsx',\n",
       " 'user_name': '沈易達',\n",
       " 'model': 'Linknet',\n",
       " 'BACKBONE': 'efficientnetb7',\n",
       " 'num_classes': 15,\n",
       " 'save_ckpt_Folder': '/home/ai/notebook/jupyter_work/test1/SurgeryAnalytics/AI_Cases/Dentistry_AI_ZERO_New_1120105/B_AI_training/ckpt/20230112150843',\n",
       " 'data_height': 384,\n",
       " 'data_width': 384}"
      ]
     },
     "execution_count": 35,
     "metadata": {},
     "output_type": "execute_result"
    }
   ],
   "source": [
    "config"
   ]
  },
  {
   "cell_type": "code",
   "execution_count": 36,
   "metadata": {},
   "outputs": [],
   "source": [
    "# steps_per_epoch=len(x_train)/batch_size      这个参数实际上就是指定了每一轮epoch需要执行多少steps，也就是多少steps，才能认为一轮epoch结束。 "
   ]
  },
  {
   "cell_type": "code",
   "execution_count": 37,
   "metadata": {},
   "outputs": [],
   "source": [
    "#pip install albumentations --user"
   ]
  },
  {
   "cell_type": "code",
   "execution_count": null,
   "metadata": {},
   "outputs": [],
   "source": []
  },
  {
   "cell_type": "code",
   "execution_count": 38,
   "metadata": {},
   "outputs": [
    {
     "name": "stdout",
     "output_type": "stream",
     "text": [
      "Package                Version\n",
      "---------------------- -----------\n",
      "absl-py                1.3.0\n",
      "albumentations         1.3.0\n",
      "anyio                  3.6.2\n",
      "argon2-cffi            21.3.0\n",
      "argon2-cffi-bindings   21.2.0\n",
      "astor                  0.8.1\n",
      "async-generator        1.10\n",
      "attrs                  22.1.0\n",
      "Babel                  2.11.0\n",
      "backcall               0.2.0\n",
      "bleach                 4.1.0\n",
      "cached-property        1.5.2\n",
      "cachetools             4.2.4\n",
      "certifi                2021.5.30\n",
      "cffi                   1.15.1\n",
      "charset-normalizer     2.0.12\n",
      "contextvars            2.4\n",
      "cycler                 0.11.0\n",
      "dataclasses            0.8\n",
      "decorator              4.4.2\n",
      "defusedxml             0.7.1\n",
      "efficientnet           1.0.0\n",
      "entrypoints            0.4\n",
      "et-xmlfile             1.1.0\n",
      "gast                   0.2.2\n",
      "google-auth            1.35.0\n",
      "google-auth-oauthlib   0.4.6\n",
      "google-pasta           0.2.0\n",
      "grpcio                 1.48.2\n",
      "h5py                   2.10.0\n",
      "idna                   3.4\n",
      "image-classifiers      1.0.0\n",
      "imageio                2.15.0\n",
      "imgaug                 0.4.0\n",
      "immutables             0.19\n",
      "importlib-metadata     4.8.3\n",
      "ipykernel              5.5.6\n",
      "ipython                7.16.3\n",
      "ipython-genutils       0.2.0\n",
      "ipywidgets             7.7.2\n",
      "jedi                   0.17.2\n",
      "Jinja2                 3.0.3\n",
      "joblib                 1.1.1\n",
      "json5                  0.9.10\n",
      "jsonschema             3.2.0\n",
      "jupyter                1.0.0\n",
      "jupyter-client         7.1.2\n",
      "jupyter-console        6.4.3\n",
      "jupyter-core           4.9.2\n",
      "jupyter-server         1.13.1\n",
      "jupyterlab             3.2.9\n",
      "jupyterlab-pygments    0.1.2\n",
      "jupyterlab-server      2.10.3\n",
      "jupyterlab-widgets     1.1.1\n",
      "Keras-Applications     1.0.8\n",
      "Keras-Preprocessing    1.1.2\n",
      "kiwisolver             1.3.1\n",
      "lxml                   4.9.2\n",
      "Markdown               3.3.7\n",
      "MarkupSafe             2.0.1\n",
      "matplotlib             3.3.4\n",
      "mistune                0.8.4\n",
      "nbclassic              0.3.5\n",
      "nbclient               0.5.9\n",
      "nbconvert              6.0.7\n",
      "nbformat               5.1.3\n",
      "nest-asyncio           1.5.6\n",
      "networkx               2.5.1\n",
      "notebook               6.4.10\n",
      "numpy                  1.19.5\n",
      "oauthlib               3.2.2\n",
      "opencv-python          4.5.5.62\n",
      "opencv-python-headless 4.6.0.66\n",
      "openpyxl               3.0.10\n",
      "opt-einsum             3.3.0\n",
      "packaging              21.3\n",
      "pandas                 1.1.5\n",
      "pandocfilters          1.5.0\n",
      "parso                  0.7.1\n",
      "pexpect                4.8.0\n",
      "pickleshare            0.7.5\n",
      "Pillow                 8.4.0\n",
      "pip                    21.2.2\n",
      "prometheus-client      0.15.0\n",
      "prompt-toolkit         3.0.36\n",
      "protobuf               3.19.6\n",
      "ptyprocess             0.7.0\n",
      "pyasn1                 0.4.8\n",
      "pyasn1-modules         0.2.8\n",
      "pycparser              2.21\n",
      "Pygments               2.13.0\n",
      "pyparsing              3.0.7\n",
      "pyrsistent             0.18.0\n",
      "python-dateutil        2.8.2\n",
      "python-pptx            0.6.21\n",
      "pytz                   2022.7\n",
      "PyWavelets             1.1.1\n",
      "PyYAML                 6.0\n",
      "pyzmq                  24.0.1\n",
      "qtconsole              5.2.2\n",
      "QtPy                   2.0.1\n",
      "qudida                 0.0.4\n",
      "requests               2.27.1\n",
      "requests-oauthlib      1.3.1\n",
      "rsa                    4.9\n",
      "scikit-image           0.17.2\n",
      "scikit-learn           0.24.2\n",
      "scipy                  1.5.2\n",
      "segmentation-models    1.0.1\n",
      "Send2Trash             1.8.0\n",
      "setuptools             58.0.4\n",
      "Shapely                1.8.5.post1\n",
      "six                    1.16.0\n",
      "sniffio                1.2.0\n",
      "tensorboard            2.1.1\n",
      "tensorflow-estimator   2.1.0\n",
      "tensorflow-gpu         2.1.0\n",
      "termcolor              1.1.0\n",
      "terminado              0.12.1\n",
      "testpath               0.6.0\n",
      "threadpoolctl          3.1.0\n",
      "tifffile               2020.9.3\n",
      "tornado                6.1\n",
      "traitlets              4.3.3\n",
      "typing_extensions      4.1.1\n",
      "urllib3                1.26.13\n",
      "wcwidth                0.2.5\n",
      "webencodings           0.5.1\n",
      "websocket-client       1.3.1\n",
      "Werkzeug               2.0.3\n",
      "wheel                  0.37.1\n",
      "widgetsnbextension     3.6.1\n",
      "wrapt                  1.14.1\n",
      "XlsxWriter             3.0.3\n",
      "xlwings                0.27.15\n",
      "zipp                   3.6.0\n",
      "Note: you may need to restart the kernel to use updated packages.\n"
     ]
    }
   ],
   "source": [
    "pip list"
   ]
  }
 ],
 "metadata": {
  "kernelspec": {
   "display_name": "py36tf",
   "language": "python",
   "name": "py36tf"
  },
  "language_info": {
   "codemirror_mode": {
    "name": "ipython",
    "version": 3
   },
   "file_extension": ".py",
   "mimetype": "text/x-python",
   "name": "python",
   "nbconvert_exporter": "python",
   "pygments_lexer": "ipython3",
   "version": "3.6.6"
  }
 },
 "nbformat": 4,
 "nbformat_minor": 4
}
