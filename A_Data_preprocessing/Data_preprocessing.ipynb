{
 "cells": [
  {
   "cell_type": "markdown",
   "metadata": {},
   "source": [
    "# Preprocessing Discectomy"
   ]
  },
  {
   "cell_type": "code",
   "execution_count": 1,
   "metadata": {},
   "outputs": [],
   "source": [
    "# import torch    # 如正常则静默\n",
    "# a = torch.Tensor([1.])    # 如正常则静默\n",
    "# a.cuda()    # 如正常则返回\"tensor([ 1.], device='cuda:0')\"\n",
    "# from torch.backends import cudnn # 如正常则静默\n",
    "# cudnn.is_acceptable(a.cuda())    # 如正常则返回 \"True\""
   ]
  },
  {
   "attachments": {
    "281e9002-9cb6-4209-aee0-69ead849efeb.png": {
     "image/png": "[encoded data removed]"
    },
    "d5daa04c-4cbb-450c-94de-4ab70dd0856f.png": {
     "image/png": "[encoded data removed]"
    }
   },
   "cell_type": "markdown",
   "metadata": {
    "tags": []
   },
   "source": [
    "![download.png](attachment:d5daa04c-4cbb-450c-94de-4ab70dd0856f.png)# 範例圖\n",
    "![image.png](attachment:281e9002-9cb6-4209-aee0-69ead849efeb.png)\n"
   ]
  },
  {
   "cell_type": "code",
   "execution_count": 2,
   "metadata": {},
   "outputs": [],
   "source": [
    "from lib.label_data_trans import TransLabelNum\n",
    "from lib.detect_label_name import DetectLabelName\n",
    "from lib.label_report import CreateSummaryExcel\n",
    "from lib.split_data import SplitData  \n",
    "from lib.cwdS import Cwd_path  #取得目前檔案的位置\n",
    "from lib.json_name_path import Jsonname  \n",
    "#取得json檔案的位置and fullname modify by charley 1120117\n",
    "import os"
   ]
  },
  {
   "cell_type": "markdown",
   "metadata": {},
   "source": [
    "# 設定參數"
   ]
  },
  {
   "cell_type": "code",
   "execution_count": 3,
   "metadata": {},
   "outputs": [
    {
     "name": "stdout",
     "output_type": "stream",
     "text": [
      "cwd :  /media/ai/disk1/notebook/jupyter_work/test1/SurgeryAnalytics/AI_Cases/Dentistry_AI_ZERO_New_1120808_500_linknet/A_Data_preprocessing\n",
      "AI_Path_ori : == A_Data_preprocessing\n",
      "AI_Path0 : == /media/ai/disk1/notebook/jupyter_work/test1/SurgeryAnalytics/AI_Cases/Dentistry_AI_ZERO_New_1120808_500_linknet/\n",
      "AI_Path1 : == /media/ai/disk1/notebook/jupyter_work/test1/SurgeryAnalytics/AI_Cases/Dentistry_AI_ZERO_New_1120808_500_linknet\n",
      "AI_Data_jsonFile : == /media/ai/disk1/notebook/jupyter_work/test1/SurgeryAnalytics/AI_Cases/Dentistry_AI_ZERO_New_1120808_500_linknet/Dentistry_AI_ZERO_New_1120808_500_linknet_config.json\n"
     ]
    }
   ],
   "source": [
    "cwd =str(Cwd_path()) #cwd=str(mazda)確保是字串格式\n",
    "print(\"cwd : \",cwd)\n",
    "AI_Path_ori = f\"{cwd.split('/')[len(cwd.split('/'))-1]}\" # 取得目前資料夾名稱\n",
    "print('{0} == {1}'.format('AI_Path_ori :',AI_Path_ori))\n",
    "AI_Path0 = cwd.split(AI_Path_ori)[0] # 取得上層資料夾全部名稱\n",
    "print('{0} == {1}'.format('AI_Path0 :',AI_Path0))\n",
    "AI_Path1=AI_Path0[:len(AI_Path0)-1] #長度減一(取得上層資料夾全部名)(去掉斜線)\n",
    "folder_path=AI_Path1+'/0_Data'\n",
    "print('{0} == {1}'.format('AI_Path1 :',AI_Path1))\n",
    "# folder_path=r'F:\\SurgeryAnalytics\\AI_Cases\\Dentistry\\1_Linknet_efficientnetb7_0_3\\0_Data'\n",
    "label_folder_path = folder_path+\"/0_ori\" # 原始標記檔案資料夾的根目錄\n",
    "trans_folder_path = folder_path+\"/1_trans\"# 轉換標記資料檔案資料夾的根目錄\n",
    "split_folder_path = folder_path+\"/2_split\"# 切分轉換標記資料檔案資料夾的根目錄\n",
    "\n",
    "for folder in [label_folder_path, trans_folder_path, split_folder_path]:\n",
    "    if not os.path.isdir(folder):\n",
    "        os.mkdir(folder)\n",
    "   \n",
    "  \n",
    "surgeryName = \"Dentistry\"  #輸出報告用通常=專案名 Discectomy=骨科 Dentistry=牙科\n",
    "\n",
    "AI_Data_jsonFile = Jsonname() #1120118\n",
    "\n",
    "def readJSONFile(jsonFilePath):\n",
    "    try:\n",
    "        with open(jsonFilePath, \"r\") as f:\n",
    "            text = f.read()\n",
    "    except IOError as er:\n",
    "        print(\"Error: Json file load failed or Can not find the file path '{}'\".format(er.filename))\n",
    "    # jsonFile: Key-id, Value-class. The class might duplicate.\n",
    "    jsonFile = json.loads(text)\n",
    "    return jsonFile\n"
   ]
  },
  {
   "cell_type": "code",
   "execution_count": 4,
   "metadata": {},
   "outputs": [
    {
     "name": "stdout",
     "output_type": "stream",
     "text": [
      "/media/ai/disk1/notebook/jupyter_work/test1/SurgeryAnalytics/AI_Cases/Dentistry_AI_ZERO_New_1120808_500_linknet/A_Data_preprocessing/Dentistry.xlsx\n"
     ]
    }
   ],
   "source": [
    "excel_name=cwd+'/'+surgeryName+'.xlsx'\n",
    "print(excel_name)"
   ]
  },
  {
   "cell_type": "code",
   "execution_count": 5,
   "metadata": {},
   "outputs": [],
   "source": [
    "# tool_list = [  \n",
    "#                 'Bipolar_radio_frequency',\n",
    "#                 'Bone_curettes',\n",
    "#                 'Burr',\n",
    "#                 'Hook_probe',\n",
    "#                 'Kerrison_punch',\n",
    "#                 'Probe',\n",
    "#                 'Rongeur',\n",
    "#                 'Scalpel',\n",
    "# ]"
   ]
  },
  {
   "cell_type": "code",
   "execution_count": 6,
   "metadata": {},
   "outputs": [],
   "source": [
    "# #＃轉換手術刀\n",
    "# import json\n",
    "# import tqdm \n",
    "# import os\n",
    "# for dirPath, dirNames, fileNames in (os.walk(\"00_data\")):\n",
    "#     for f in fileNames:\n",
    "#         if \"json\" in f:\n",
    "#             save=False\n",
    "#             jsonFilePath = os.path.join(dirPath, f)\n",
    "#             jsonFile =readJSONFile(jsonFilePath)\n",
    "#             for k,v in jsonFile.items():\n",
    "#                 if v in tool_list:\n",
    "#                     jsonFile[k] = \"Surgery_tool\"\n",
    "#                     save = True\n",
    "#             if save == True:\n",
    "#                 with open(jsonFilePath, 'w') as f:\n",
    "#                     json.dump(jsonFile, f)"
   ]
  },
  {
   "cell_type": "code",
   "execution_count": 7,
   "metadata": {},
   "outputs": [],
   "source": [
    "# ## 只取椎間盤 脊神經\n",
    "# import json\n",
    "# from tqdm import tqdm \n",
    "# import shutil\n",
    "# import os\n",
    "# fileList = []\n",
    "# for dirPath, dirNames, fileNames in tqdm(list(os.walk(\"00_data\"))):\n",
    "#     for f in fileNames:\n",
    "#         if \"json\" in f:\n",
    "#             save=False\n",
    "#             jsonFilePath = os.path.join(dirPath, f)\n",
    "#             jsonFile =readJSONFile(jsonFilePath)\n",
    "#             if \"Intervertebral_disc\" not in list(jsonFile.values()):# and \"Spinal_nerve\" not in list(jsonFile.values()):\n",
    "#                 # if v == \"Intervertebral_disc\" or v == \"Spinal_nerve\":\n",
    "#                 npyFile = jsonFilePath.replace(\"json\",\"npy\")\n",
    "#                 imgFile = jsonFilePath.replace(\"json\",\"png\")\n",
    "#                 # print(jsonFilePath,npyFile)\n",
    "#                 if os.path.isfile(jsonFilePath):\n",
    "#                     os.remove(jsonFilePath)\n",
    "#                 if os.path.isfile(imgFile):\n",
    "#                     os.remove(imgFile)\n",
    "#                 if os.path.isfile(npyFile):\n",
    "#                     os.remove(npyFile)\n",
    "                    \n",
    "#             # if save == True:\n",
    "#             #     with open(jsonFilePath, 'w') as f:\n",
    "#             #         json.dump(jsonFile, f)"
   ]
  },
  {
   "cell_type": "code",
   "execution_count": 8,
   "metadata": {},
   "outputs": [],
   "source": [
    "# import os\n",
    "# surgeryName = \"Discectomy\"\n",
    "# # label_folder_path = '/ubuntu/data/SurgeryAnalytics/AI_Cases/Discectomy/preprocessing/First_analytics/00_data' # 原始標記檔案資料夾的根目錄\n",
    "# # trans_folder_path = '/ubuntu/data/SurgeryAnalytics/AI_Cases/Discectomy/preprocessing/First_analytics/01_trans' # 轉換標記資料檔案資料夾的根目錄\n",
    "# # split_folder_path = '/ubuntu/data/SurgeryAnalytics/AI_Cases/Discectomy/preprocessing/First_analytics/02_split'# 切分轉換標記資料檔案資料夾的根目錄\n",
    "# label_folder_path = '/ubuntu/data/SurgeryAnalytics/AI_Cases/Discectomy/data/00_data' # 原始標記檔案資料夾的根目錄\n",
    "# trans_folder_path = '/ubuntu/data/SurgeryAnalytics/AI_Cases/Discectomy/data/01_trans' # 轉換標記資料檔案資料夾的根目錄\n",
    "# split_folder_path = '/ubuntu/data/SurgeryAnalytics/AI_Cases/Discectomy/data/02_split'# 切分轉換標記資料檔案資料夾的根目錄\n",
    "# for folder in [label_folder_path, trans_folder_path, split_folder_path]:\n",
    "#     if not os.path.isdir(folder):\n",
    "#         os.mkdir(folder)\n",
    "\n",
    "correct_label = ['Alveolar_bone',\n",
    "'Caries',\n",
    "'Crown',\n",
    "'Dentin', \n",
    "'Enamel',\n",
    "'Implant',\n",
    "'Mandibular_alveolar_nerve', \n",
    "'Maxillary_sinus', \n",
    "'Periapical_lesion', \n",
    "'Post_and_core', \n",
    "'Pulp', \n",
    "'Restoration', \n",
    "'Root_canal_filling'\n",
    "                   ]\n",
    "# correct_label = ['Adipose_tissue',\n",
    "#                  'Articular_capsule',\n",
    "#                  'Bipolar_radio_frequency',\n",
    "#                  'Bleeding_point',\n",
    "#                  'Bone_curettes',\n",
    "#                  'Burr',\n",
    "#                  'Drainage_tube',\n",
    "#                  'Foreign_material',\n",
    "#                  'Hook_probe',\n",
    "#                  'Intervertebral_disc',\n",
    "#                  'Intervertebral_disc_after_injection',\n",
    "#                  'Kerrison_punch',\n",
    "#                  'Lamina',\n",
    "#                  'Ligamentum_flava',\n",
    "#                  'Needle',\n",
    "#                  'Organ_tissue',\n",
    "#                  'Probe',\n",
    "#                  'Proforma',\n",
    "#                  'Rongeur',\n",
    "#                  'Scalpel',\n",
    "#                  'Spinal_nerve',\n",
    "#                  'Surgery_tool',\n",
    "#                  'Suspected_Spinal_nerve',\n",
    "#                  'Suspected_intervertebral_disc'\n",
    "#                 ]\n",
    "                # 轉換的標記類別清單(不含背景), 資料格式可為list(自動以流水號轉換)或dict(指定轉換數值), 可配合DetectLabelName函式\n",
    "test_folder_list=[\"Dentistry_0002\"] # 哪些資料夾的標記資料要當作testing dataset, 以字串格式輸入至list中\n",
    "val_folder_list=[] # 哪些資料夾的標記資料要當作validation data, 以字串格式輸入至list中\n",
    "label_type='Mask' # 轉換的標記資料格式(Mask or Npy)\n",
    "image_type=\"png\" # 圖片格式(jpg, png, tif...)\n",
    "random_choice=True # 除掉test_folder_list及val_folder_list後, 剩餘的資料夾是否要隨機挑選validation data(10%)\n",
    "use_for_TFRecord=False # 是否要儲存為TFRecord格式(不建議)\n",
    "# excel_report_save_path = r'F:\\SurgeryAnalytics\\AI_Cases\\Discectomy\\preprocessing\\First_analytics\\Summary.xlsx' # 標記資料統計報表儲存路徑, 副檔名.xlsx\n",
    "excel_name=cwd+'/'+surgeryName+'.xlsx'\n",
    "excel_report_save_path = excel_name # 標記資料統計報表儲存路徑, 副檔名.xlsx\n",
    "detect_label_list = correct_label"
   ]
  },
  {
   "cell_type": "code",
   "execution_count": 9,
   "metadata": {},
   "outputs": [],
   "source": [
    "# label_folder_path = label_folder_path.replace(\"F:\",\"/nas\").replace(\"/\",\"/\")\n",
    "# trans_folder_path = trans_folder_path.replace(\"F:\",\"/nas\").replace(\"/\",\"/\")\n",
    "# split_folder_path = split_folder_path.replace(\"F:\",\"/nas\").replace(\"/\",\"/\")\n",
    "# excel_report_save_path = excel_report_save_path.replace(\"F:\",\"/nas\").replace(\"/\",\"/\")"
   ]
  },
  {
   "cell_type": "markdown",
   "metadata": {},
   "source": [
    "# 檢測標籤名稱  這區暫時沒啥用處\n"
   ]
  },
  {
   "cell_type": "code",
   "execution_count": 10,
   "metadata": {},
   "outputs": [
    {
     "name": "stdout",
     "output_type": "stream",
     "text": [
      "Update appear label: \n",
      " {'Restoration', 'Alveolar_bone', 'Background', 'Pulp', 'Dentin', 'Enamel', 'Caries'} \n",
      "\n",
      "Update appear label: \n",
      " {'Restoration', 'Alveolar_bone', 'Background', 'Pulp', 'Dentin', 'Enamel', 'Crown', 'Caries'} \n",
      "\n",
      "Update appear label: \n",
      " {'Restoration', 'Alveolar_bone', 'Pulp', 'Post_and_core', 'Caries', 'Root_canal_filling', 'Background', 'Maxillary_sinus', 'Dentin', 'Enamel', 'Crown'} \n",
      "\n",
      "Update appear label: \n",
      " {'Restoration', 'Alveolar_bone', 'Pulp', 'Post_and_core', 'Caries', 'Root_canal_filling', 'Background', 'Maxillary_sinus', 'Dentin', 'Enamel', 'Periapical_lesion', 'Crown'} \n",
      "\n",
      "Update appear label: \n",
      " {'Restoration', 'Alveolar_bone', 'Pulp', 'Implant', 'Post_and_core', 'Caries', 'Root_canal_filling', 'Background', 'Maxillary_sinus', 'Dentin', 'Enamel', 'Periapical_lesion', 'Crown'} \n",
      "\n",
      "Update appear label: \n",
      " {'Restoration', 'Alveolar_bone', 'Pulp', 'Implant', 'Post_and_core', 'Caries', 'Root_canal_filling', 'Mandibular_alveolar_nerve', 'Background', 'Maxillary_sinus', 'Dentin', 'Enamel', 'Periapical_lesion', 'Crown'} \n",
      "\n"
     ]
    }
   ],
   "source": [
    "# DetectLabelName(label_folder_path)\n",
    "label_name_FOR_file = DetectLabelName(label_folder_path).get_list()"
   ]
  },
  {
   "cell_type": "code",
   "execution_count": 11,
   "metadata": {},
   "outputs": [],
   "source": [
    "label_name = {'Alveolar_bone','Caries','Crown','Dentin', 'Enamel','Implant','Mandibular_alveolar_nerve', 'Maxillary_sinus', 'Periapical_lesion', 'Post_and_core', 'Pulp', 'Restoration', 'Root_canal_filling'} \n",
    "num_classes = len(list(label_name)) + 1"
   ]
  },
  {
   "cell_type": "code",
   "execution_count": 12,
   "metadata": {},
   "outputs": [
    {
     "data": {
      "text/plain": [
       "['Alveolar_bone',\n",
       " 'Caries',\n",
       " 'Crown',\n",
       " 'Dentin',\n",
       " 'Enamel',\n",
       " 'Implant',\n",
       " 'Mandibular_alveolar_nerve',\n",
       " 'Maxillary_sinus',\n",
       " 'Periapical_lesion',\n",
       " 'Post_and_core',\n",
       " 'Pulp',\n",
       " 'Restoration',\n",
       " 'Root_canal_filling']"
      ]
     },
     "execution_count": 12,
     "metadata": {},
     "output_type": "execute_result"
    }
   ],
   "source": [
    "label_sort_name = list(label_name)\n",
    "label_sort_name.sort()\n",
    "label_sort_name"
   ]
  },
  {
   "cell_type": "code",
   "execution_count": 13,
   "metadata": {},
   "outputs": [],
   "source": [
    "if \"Background\" in label_sort_name:\n",
    "    label_sort_name.remove('Background')"
   ]
  },
  {
   "cell_type": "markdown",
   "metadata": {},
   "source": [
    "# 資料轉換"
   ]
  },
  {
   "cell_type": "code",
   "execution_count": 14,
   "metadata": {},
   "outputs": [],
   "source": [
    "# Set correct_label\n",
    "# correct_label = label_sort_name    # 這行主要在設定要訓練的標籤名"
   ]
  },
  {
   "cell_type": "code",
   "execution_count": 15,
   "metadata": {},
   "outputs": [
    {
     "data": {
      "text/plain": [
       "['Alveolar_bone',\n",
       " 'Caries',\n",
       " 'Crown',\n",
       " 'Dentin',\n",
       " 'Enamel',\n",
       " 'Implant',\n",
       " 'Mandibular_alveolar_nerve',\n",
       " 'Maxillary_sinus',\n",
       " 'Periapical_lesion',\n",
       " 'Post_and_core',\n",
       " 'Pulp',\n",
       " 'Restoration',\n",
       " 'Root_canal_filling']"
      ]
     },
     "execution_count": 15,
     "metadata": {},
     "output_type": "execute_result"
    }
   ],
   "source": [
    "correct_label    #由於我們強制指定只訓練13種\n",
    "\n",
    "# test_folder_list=[\"Dentistry_0002\"] # 哪些資料夾的標記資料要當作testing dataset, 以字串格式輸入至list中\n",
    "# val_folder_list=[] # 哪些資料夾的標記資料要當作validation data, 以字串格式輸入至list中\n",
    "# label_type='Mask' # 轉換的標記資料格式(Mask or Npy)\n",
    "# image_type='png'  # 圖片格式(jpg, png, tif...)\n",
    "# random_choice=True # 除掉test_folder_list及val_folder_list後, 剩餘的資料夾是否要隨機挑選validation data(10%)\n",
    "# use_for_TFRecord=False # 是否要儲存為TFRecord格式(不建議)\n",
    "# excel_report_save_path = \"Dentistry_ClassInformation.xlsx\"#r'' # 標記資料統計報表儲存路徑, 副檔名.xlsx\n",
    "# detect_label_list = correct_label # 建立統計報表時要統計的類別清單, 通常與correct_label的list格式內容一致"
   ]
  },
  {
   "cell_type": "code",
   "execution_count": 16,
   "metadata": {},
   "outputs": [
    {
     "name": "stdout",
     "output_type": "stream",
     "text": [
      "Transform Label Dictionary:\n",
      "Alveolar_bone: 1\n",
      "Caries: 2\n",
      "Crown: 3\n",
      "Dentin: 4\n",
      "Enamel: 5\n",
      "Implant: 6\n",
      "Mandibular_alveolar_nerve: 7\n",
      "Maxillary_sinus: 8\n",
      "Periapical_lesion: 9\n",
      "Post_and_core: 10\n",
      "Pulp: 11\n",
      "Restoration: 12\n",
      "Root_canal_filling: 13\n",
      "----------------------------------------\n",
      "\n",
      "/media/ai/disk1/notebook/jupyter_work/test1/SurgeryAnalytics/AI_Cases/Dentistry_AI_ZERO_New_1120808_500_linknet/0_Data/0_ori/Dentistry_0001/.ipynb_checkpoints.json\n",
      "Transform folder_Dentistry_0001 cost 85.81 sec. \n",
      "\n",
      "/media/ai/disk1/notebook/jupyter_work/test1/SurgeryAnalytics/AI_Cases/Dentistry_AI_ZERO_New_1120808_500_linknet/0_Data/0_ori/Dentistry_0002/.ipynb_checkpoints.json\n",
      "Transform folder_Dentistry_0002 cost 416.98 sec. \n",
      "\n"
     ]
    },
    {
     "data": {
      "text/plain": [
       "<lib.label_data_trans.TransLabelNum at 0x7fd0140deeb8>"
      ]
     },
     "execution_count": 16,
     "metadata": {},
     "output_type": "execute_result"
    }
   ],
   "source": [
    "TransLabelNum(label_folder_path, trans_folder_path, correct_label,imageType = image_type, saveType=label_type)"
   ]
  },
  {
   "cell_type": "markdown",
   "metadata": {
    "tags": []
   },
   "source": [
    "# 建立標記報表"
   ]
  },
  {
   "cell_type": "code",
   "execution_count": 17,
   "metadata": {},
   "outputs": [],
   "source": [
    "# # import os\n",
    "# def closeFile():\n",
    "#     try:\n",
    "#         os.system('TASKKILL /F /IM excel.exe')\n",
    "#     except Exception:\n",
    "#         print(\"KU\")\n",
    "\n",
    "# closeFile() #如果有開啟先刪除Excel"
   ]
  },
  {
   "cell_type": "code",
   "execution_count": 18,
   "metadata": {},
   "outputs": [
    {
     "name": "stdout",
     "output_type": "stream",
     "text": [
      "Summary Dentistry_0002 cost 0.73 sec\n",
      "Summary Dentistry_0001 cost 0.14 sec\n",
      "['Summary', 'Sheet', 'Dentistry_0002', 'Dentistry_0001']\n",
      "['Summary', 'Dentistry_0002', 'Dentistry_0001']\n"
     ]
    },
    {
     "data": {
      "text/plain": [
       "<lib.label_report.CreateSummaryExcel at 0x7fd014018828>"
      ]
     },
     "execution_count": 18,
     "metadata": {},
     "output_type": "execute_result"
    }
   ],
   "source": [
    "CreateSummaryExcel(label_folder_path, excel_report_save_path, detect_label_list)"
   ]
  },
  {
   "cell_type": "markdown",
   "metadata": {},
   "source": [
    "# 資料分割"
   ]
  },
  {
   "cell_type": "code",
   "execution_count": 19,
   "metadata": {},
   "outputs": [
    {
     "name": "stdout",
     "output_type": "stream",
     "text": [
      "Split testing set...\n",
      "Split folder Dentistry_0002 ssuccessfully!\n",
      "\n",
      "\n",
      "Random split training and validation set...\n",
      "Split folder Dentistry_0001 ssuccessfully!\n"
     ]
    },
    {
     "data": {
      "text/plain": [
       "<lib.split_data.SplitData at 0x7fd01402d780>"
      ]
     },
     "execution_count": 19,
     "metadata": {},
     "output_type": "execute_result"
    }
   ],
   "source": [
    "SplitData(trans_folder_path, split_folder_path, test_folder_list, val_folder_list, label_type, random_choice, use_for_TFRecord)"
   ]
  },
  {
   "cell_type": "code",
   "execution_count": 20,
   "metadata": {},
   "outputs": [],
   "source": [
    "# import json\n",
    "# config = {\"surgeryName\":surgeryName\\\n",
    "#          ,\"label_folder_path\": label_folder_path, \"trans_folder_path\": trans_folder_path,\"split_folder_path\": split_folder_path, \"correct_label\": list(correct_label)\\\n",
    "#          }\n",
    "#          #,\"test_folder_list\": test_folder_list}#, \"val_folder_list\": val_folder_list\\\n",
    "#         # ,\"excel_report_save_path\": excel_report_save_path}\n",
    "# jsonFile = surgeryName + \"_config.json\"\n",
    "# jsonFile = os.getcwd() + \"/\" + jsonFile\n",
    "# with open(jsonFile, 'w') as f:\n",
    "#     json.dump(config, f)    "
   ]
  },
  {
   "cell_type": "code",
   "execution_count": 21,
   "metadata": {},
   "outputs": [],
   "source": [
    "import json\n",
    "config = {\"surgeryName\": surgeryName,\n",
    "          \"label_folder_path\": label_folder_path, \n",
    "          \"trans_folder_path\": trans_folder_path,\n",
    "          \"split_folder_path\": split_folder_path,\n",
    "          \"correct_label\": correct_label,\n",
    "          \"detect_label_list\": detect_label_list,\n",
    "          \"Data_total_excel\":excel_report_save_path,\n",
    "          \"test_folder_list\":test_folder_list}\n",
    "\n",
    "# config = {\"surgeryName\": surgeryName, \n",
    "#           \"label_folder_path\": label_folder_path, \n",
    "#           \"trans_folder_path\": trans_folder_path,\n",
    "#           \"split_folder_path\": split_folder_path, \n",
    "#           \"correct_label\": correct_label,\n",
    "#           \"detect_label_list\": detect_label_list,\n",
    "#           \"test_folder_list\":test_folder_list}\n",
    "\n",
    "\n",
    "# jsonFile = f\"{cwd}/{surgeryName}_config.json\"\n",
    "# print(jsonFile)   #注意等等跑AI需要過來複製一下路徑\n",
    "# with open(jsonFile, 'w') as f:\n",
    "#     json.dump(config, f)\n",
    "# config"
   ]
  },
  {
   "cell_type": "code",
   "execution_count": 22,
   "metadata": {},
   "outputs": [],
   "source": [
    "User_name=u'沈易達'"
   ]
  },
  {
   "cell_type": "code",
   "execution_count": 23,
   "metadata": {},
   "outputs": [],
   "source": [
    "# import json\n",
    "# label_folder_path = label_folder_path.replace(\"F:\",\"/nas\").replace(\"/\",\"/\")\n",
    "# trans_folder_path = trans_folder_path.replace(\"F:\",\"/nas\").replace(\"/\",\"/\")\n",
    "# split_folder_path = split_folder_path.replace(\"F:\",\"/nas\").replace(\"/\",\"/\")\n",
    "# excel_report_save_path = excel_report_save_path.replace(\"F:\",\"/nas\").replace(\"/\",\"/\")\n",
    "# config = {\n",
    "#           \"surgeryName\":surgeryName\\\n",
    "#          ,\"label_folder_path\": label_folder_path, \"trans_folder_path\": trans_folder_path,\"split_folder_path\": split_folder_path, \"correct_label\": list(correct_label)\\\n",
    "#          ,\"num_classes\":num_classes\n",
    "#         }\n",
    "#          #,\"test_folder_list\": test_folder_list}#, \"val_folder_list\": val_folder_list\\\n",
    "#          #,\"excel_report_save_path\": excel_report_save_path}\n",
    "# jsonFile = surgeryName + \"_config_Ubuntu.json\"\n",
    "# with open(jsonFile, 'w') as f:\n",
    "#     json.dump(config, f)"
   ]
  },
  {
   "cell_type": "code",
   "execution_count": 24,
   "metadata": {
    "tags": []
   },
   "outputs": [
    {
     "name": "stdout",
     "output_type": "stream",
     "text": [
      "AI_Data_jsonFile : == /media/ai/disk1/notebook/jupyter_work/test1/SurgeryAnalytics/AI_Cases/Dentistry_AI_ZERO_New_1120808_500_linknet/Dentistry_AI_ZERO_New_1120808_500_linknet_config.json\n",
      "/media/ai/disk1/notebook/jupyter_work/test1/SurgeryAnalytics/AI_Cases/Dentistry_AI_ZERO_New_1120808_500_linknet/Dentistry_AI_ZERO_New_1120808_500_linknet_config.json\n"
     ]
    },
    {
     "data": {
      "text/plain": [
       "{'surgeryName': 'Dentistry',\n",
       " 'label_folder_path': '/media/ai/disk1/notebook/jupyter_work/test1/SurgeryAnalytics/AI_Cases/Dentistry_AI_ZERO_New_1120808_500_linknet/0_Data/0_ori',\n",
       " 'trans_folder_path': '/media/ai/disk1/notebook/jupyter_work/test1/SurgeryAnalytics/AI_Cases/Dentistry_AI_ZERO_New_1120808_500_linknet/0_Data/1_trans',\n",
       " 'split_folder_path': '/media/ai/disk1/notebook/jupyter_work/test1/SurgeryAnalytics/AI_Cases/Dentistry_AI_ZERO_New_1120808_500_linknet/0_Data/2_split',\n",
       " 'correct_label': ['Alveolar_bone',\n",
       "  'Caries',\n",
       "  'Crown',\n",
       "  'Dentin',\n",
       "  'Enamel',\n",
       "  'Implant',\n",
       "  'Mandibular_alveolar_nerve',\n",
       "  'Maxillary_sinus',\n",
       "  'Periapical_lesion',\n",
       "  'Post_and_core',\n",
       "  'Pulp',\n",
       "  'Restoration',\n",
       "  'Root_canal_filling'],\n",
       " 'detect_label_list': ['Alveolar_bone',\n",
       "  'Caries',\n",
       "  'Crown',\n",
       "  'Dentin',\n",
       "  'Enamel',\n",
       "  'Implant',\n",
       "  'Mandibular_alveolar_nerve',\n",
       "  'Maxillary_sinus',\n",
       "  'Periapical_lesion',\n",
       "  'Post_and_core',\n",
       "  'Pulp',\n",
       "  'Restoration',\n",
       "  'Root_canal_filling'],\n",
       " 'Data_total_excel': '/media/ai/disk1/notebook/jupyter_work/test1/SurgeryAnalytics/AI_Cases/Dentistry_AI_ZERO_New_1120808_500_linknet/A_Data_preprocessing/Dentistry.xlsx',\n",
       " 'test_folder_list': ['Dentistry_0002']}"
      ]
     },
     "execution_count": 24,
     "metadata": {},
     "output_type": "execute_result"
    }
   ],
   "source": [
    "# AI_Data_jsonFile = f\"{cwd}/{surgeryName}_config.json\"\n",
    "AI_Data_jsonFile = Jsonname()\n",
    "print(AI_Data_jsonFile )   #注意等等跑AI需要過來複製一下路徑\n",
    "with open(AI_Data_jsonFile , 'w') as f:\n",
    "    json.dump(config, f)\n",
    "config"
   ]
  }
 ],
 "metadata": {
  "kernelspec": {
   "display_name": "py36tf",
   "language": "python",
   "name": "py36tf"
  },
  "language_info": {
   "codemirror_mode": {
    "name": "ipython",
    "version": 3
   },
   "file_extension": ".py",
   "mimetype": "text/x-python",
   "name": "python",
   "nbconvert_exporter": "python",
   "pygments_lexer": "ipython3",
   "version": "3.6.6"
  }
 },
 "nbformat": 4,
 "nbformat_minor": 4
}
