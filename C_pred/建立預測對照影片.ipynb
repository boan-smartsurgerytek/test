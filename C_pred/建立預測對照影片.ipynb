{
 "cells": [
  {
   "cell_type": "markdown",
   "metadata": {},
   "source": [
    "# 確認執行此程式前已經有影片每一個Frame的對照圖檔了\n",
    "# 確認執行此程式前已經有影片每一個Frame的對照圖檔了\n",
    "# 確認執行此程式前已經有影片每一個Frame的對照圖檔了\n",
    "# Import pkgs"
   ]
  },
  {
   "cell_type": "code",
   "execution_count": 1,
   "metadata": {},
   "outputs": [],
   "source": [
    "import cv2\n",
    "import os\n",
    "import numpy as np"
   ]
  },
  {
   "cell_type": "markdown",
   "metadata": {},
   "source": [
    "# 參數設定"
   ]
  },
  {
   "cell_type": "code",
   "execution_count": 2,
   "metadata": {},
   "outputs": [],
   "source": [
    "compare_img_folder_path = r'compare_output' # 預測對照圖檔的資料夾路徑\n",
    "video_save_path = r\"compare_output.mp4\" # 儲存的影片檔路徑, 副檔名為.mp4\n",
    "video_height = 640# 輸出影像畫面的高\n",
    "video_width = 640 # 輸出影像畫面的寬\n",
    "video_fps = 2# 輸出影片每秒的幀數"
   ]
  },
  {
   "cell_type": "markdown",
   "metadata": {},
   "source": [
    "# Main"
   ]
  },
  {
   "cell_type": "code",
   "execution_count": 3,
   "metadata": {},
   "outputs": [
    {
     "ename": "NameError",
     "evalue": "name 'file_name_list' is not defined",
     "output_type": "error",
     "traceback": [
      "\u001b[1;31m---------------------------------------------------------------------------\u001b[0m",
      "\u001b[1;31mNameError\u001b[0m                                 Traceback (most recent call last)",
      "Input \u001b[1;32mIn [3]\u001b[0m, in \u001b[0;36m<cell line: 1>\u001b[1;34m()\u001b[0m\n\u001b[1;32m----> 1\u001b[0m \u001b[43mfile_name_list\u001b[49m\n",
      "\u001b[1;31mNameError\u001b[0m: name 'file_name_list' is not defined"
     ]
    }
   ],
   "source": [
    "file_name_list"
   ]
  },
  {
   "cell_type": "code",
   "execution_count": 4,
   "metadata": {},
   "outputs": [
    {
     "name": "stdout",
     "output_type": "stream",
     "text": [
      "compare_output\\.ipynb_checkpoints.jpg\n",
      "compare_output\\Dentistry_250_comp.jpg\n",
      "compare_output\\Dentistry_251_comp.jpg\n",
      "compare_output\\Dentistry_252_comp.jpg\n",
      "compare_output\\Dentistry_253_comp.jpg\n",
      "compare_output\\Dentistry_254_comp.jpg\n",
      "compare_output\\Dentistry_255_comp.jpg\n",
      "compare_output\\Dentistry_256_comp.jpg\n",
      "compare_output\\Dentistry_257_comp.jpg\n",
      "compare_output\\Dentistry_258_comp.jpg\n",
      "compare_output\\Dentistry_259_comp.jpg\n",
      "compare_output\\Dentistry_260_comp.jpg\n",
      "compare_output\\Dentistry_261_comp.jpg\n",
      "compare_output\\Dentistry_262_comp.jpg\n",
      "compare_output\\Dentistry_263_comp.jpg\n",
      "compare_output\\Dentistry_264_comp.jpg\n",
      "compare_output\\Dentistry_265_comp.jpg\n",
      "compare_output\\Dentistry_266_comp.jpg\n",
      "compare_output\\Dentistry_267_comp.jpg\n",
      "compare_output\\Dentistry_268_comp.jpg\n",
      "compare_output\\Dentistry_269_comp.jpg\n",
      "compare_output\\Dentistry_270_comp.jpg\n",
      "compare_output\\Dentistry_271_comp.jpg\n",
      "compare_output\\Dentistry_272_comp.jpg\n",
      "compare_output\\Dentistry_273_comp.jpg\n",
      "compare_output\\Dentistry_274_comp.jpg\n",
      "compare_output\\Dentistry_275_comp.jpg\n",
      "compare_output\\Dentistry_276_comp.jpg\n",
      "compare_output\\Dentistry_277_comp.jpg\n",
      "compare_output\\Dentistry_278_comp.jpg\n",
      "compare_output\\Dentistry_279_comp.jpg\n",
      "compare_output\\Dentistry_280_comp.jpg\n",
      "compare_output\\Dentistry_281_comp.jpg\n",
      "compare_output\\Dentistry_282_comp.jpg\n",
      "compare_output\\Dentistry_283_comp.jpg\n",
      "compare_output\\Dentistry_284_comp.jpg\n",
      "compare_output\\Dentistry_285_comp.jpg\n",
      "compare_output\\Dentistry_286_comp.jpg\n",
      "compare_output\\Dentistry_287_comp.jpg\n",
      "compare_output\\Dentistry_288_comp.jpg\n",
      "compare_output\\Dentistry_289_comp.jpg\n",
      "compare_output\\Dentistry_290_comp.jpg\n",
      "compare_output\\Dentistry_291_comp.jpg\n",
      "compare_output\\Dentistry_292_comp.jpg\n",
      "compare_output\\Dentistry_293_comp.jpg\n",
      "compare_output\\Dentistry_294_comp.jpg\n",
      "compare_output\\Dentistry_295_comp.jpg\n",
      "compare_output\\Dentistry_296_comp.jpg\n",
      "compare_output\\Dentistry_297_comp.jpg\n",
      "compare_output\\Dentistry_298_comp.jpg\n",
      "Done.\n"
     ]
    }
   ],
   "source": [
    "file_name_list = [os.path.splitext(x)[0] for x in os.listdir(compare_img_folder_path)]\n",
    "file_name_list = sorted(file_name_list)\n",
    "fourcc = cv2.VideoWriter_fourcc('X', 'V', 'I', 'D')\n",
    "\n",
    "out = cv2.VideoWriter(video_save_path, fourcc, video_fps, (video_width, video_height))\n",
    "for file_name in file_name_list:\n",
    "    img_path = os.path.join(compare_img_folder_path, file_name+\".jpg\")\n",
    "    print(img_path)\n",
    "    comp_img = cv2.imread(img_path)\n",
    "    out.write(comp_img)\n",
    "out.release()\n",
    "print('Done.')"
   ]
  },
  {
   "cell_type": "code",
   "execution_count": null,
   "metadata": {},
   "outputs": [],
   "source": []
  }
 ],
 "metadata": {
  "kernelspec": {
   "display_name": "Python 3",
   "language": "python",
   "name": "python3"
  },
  "language_info": {
   "codemirror_mode": {
    "name": "ipython",
    "version": 3
   },
   "file_extension": ".py",
   "mimetype": "text/x-python",
   "name": "python",
   "nbconvert_exporter": "python",
   "pygments_lexer": "ipython3",
   "version": "3.6.6"
  }
 },
 "nbformat": 4,
 "nbformat_minor": 4
}
