{
 "cells": [
  {
   "cell_type": "code",
   "execution_count": 1,
   "metadata": {},
   "outputs": [],
   "source": [
    "from lib.create_report import CreateAccuracyReport"
   ]
  },
  {
   "cell_type": "code",
   "execution_count": 2,
   "metadata": {},
   "outputs": [],
   "source": [
    "#pip install python-pptx\n",
    "#pip install python-pptx"
   ]
  },
  {
   "cell_type": "markdown",
   "metadata": {},
   "source": [
    "# 參數設定"
   ]
  },
  {
   "cell_type": "code",
   "execution_count": 3,
   "metadata": {},
   "outputs": [
    {
     "name": "stdout",
     "output_type": "stream",
     "text": [
      "change directory 配合使用使 os.getcwd() 可正確顯示Start\n",
      "/media/ai/disk1/notebook/jupyter_work/test1/SurgeryAnalytics/AI_Cases/Dentistry_AI_ZERO_New_1120808_500_linknet/C_pred\n",
      "change directory 配合使用使 os.getcwd() 可正確顯示End\n",
      "/media/ai/disk1/notebook/jupyter_work/test1/SurgeryAnalytics/AI_Cases/Dentistry_AI_ZERO_New_1120808_500_linknet\n",
      "AI_Data_jsonFile : == /media/ai/disk1/notebook/jupyter_work/test1/SurgeryAnalytics/AI_Cases/Dentistry_AI_ZERO_New_1120808_500_linknet/Dentistry_AI_ZERO_New_1120808_500_linknet_config.json\n",
      "/media/ai/disk1/notebook/jupyter_work/test1/SurgeryAnalytics/AI_Cases/Dentistry_AI_ZERO_New_1120808_500_linknet/B_AI_training/Dentistry_config.json\n",
      "/media/ai/disk1/notebook/jupyter_work/test1/SurgeryAnalytics/AI_Cases/Dentistry_AI_ZERO_New_1120808_500_linknet/Dentistry_AI_ZERO_New_1120808_500_linknet_config.json\n"
     ]
    }
   ],
   "source": [
    "import json\n",
    "import os\n",
    "from lib.json_name_path import Jsonname   \n",
    "# #取得json檔案的位置and fullname modify by charley 1120117\n",
    "\n",
    "print('change directory 配合使用使 os.getcwd() 可正確顯示Start')\n",
    "#os.chdir(os.path.dirname(os.path.abspath(__file__)))  #ipynb 不可用\n",
    "from pathlib import Path  #改為目前的資料夾引用物件\n",
    "os.chdir(Path.cwd())    #改為目前的資料夾*********\n",
    "cwd = os.getcwd()\n",
    "print(cwd)\n",
    "print('change directory 配合使用使 os.getcwd() 可正確顯示End')\n",
    "\n",
    "# print(cwd)\n",
    "AI_Path = cwd.split('/C_pred')[0]\n",
    "print(AI_Path)\n",
    "AI_Data_jsonFile=AI_Path+'/B_AI_training/Dentistry_config.json' #no use in 1120406\n",
    "#jsonFile=AI_Data_jsonFile  1120117\n",
    "# jsonFile = r'F:/SurgeryAnalytics/AI_Cases/Dentistry/1_Linknet_efficientnetb7_0_3/B_AI_training/Dentistry_config.json'\n",
    "jsonFile = Jsonname()\n",
    "print(AI_Data_jsonFile)\n",
    "print(jsonFile)\n",
    "with open(jsonFile,\"r\") as f:\n",
    "    config = json.load(f)\n",
    "# User_name=u'沈易達'\n",
    "# config[\"user_name\"] = User_name\n",
    "# with open(jsonFile,\"w\") as f:\n",
    "#     json.dump(config, f)"
   ]
  },
  {
   "cell_type": "code",
   "execution_count": 4,
   "metadata": {},
   "outputs": [
    {
     "data": {
      "text/plain": [
       "{'surgeryName': 'Dentistry',\n",
       " 'label_folder_path': '/media/ai/disk1/notebook/jupyter_work/test1/SurgeryAnalytics/AI_Cases/Dentistry_AI_ZERO_New_1120808_500_linknet/0_Data/0_ori',\n",
       " 'trans_folder_path': '/media/ai/disk1/notebook/jupyter_work/test1/SurgeryAnalytics/AI_Cases/Dentistry_AI_ZERO_New_1120808_500_linknet/0_Data/1_trans',\n",
       " 'split_folder_path': '/media/ai/disk1/notebook/jupyter_work/test1/SurgeryAnalytics/AI_Cases/Dentistry_AI_ZERO_New_1120808_500_linknet/0_Data/2_split',\n",
       " 'correct_label': ['Alveolar_bone',\n",
       "  'Caries',\n",
       "  'Crown',\n",
       "  'Dentin',\n",
       "  'Enamel',\n",
       "  'Implant',\n",
       "  'Mandibular_alveolar_nerve',\n",
       "  'Maxillary_sinus',\n",
       "  'Periapical_lesion',\n",
       "  'Post_and_core',\n",
       "  'Pulp',\n",
       "  'Restoration',\n",
       "  'Root_canal_filling'],\n",
       " 'detect_label_list': ['Alveolar_bone',\n",
       "  'Caries',\n",
       "  'Crown',\n",
       "  'Dentin',\n",
       "  'Enamel',\n",
       "  'Implant',\n",
       "  'Mandibular_alveolar_nerve',\n",
       "  'Maxillary_sinus',\n",
       "  'Periapical_lesion',\n",
       "  'Post_and_core',\n",
       "  'Pulp',\n",
       "  'Restoration',\n",
       "  'Root_canal_filling'],\n",
       " 'Data_total_excel': '/media/ai/disk1/notebook/jupyter_work/test1/SurgeryAnalytics/AI_Cases/Dentistry_AI_ZERO_New_1120808_500_linknet/A_Data_preprocessing/Dentistry.xlsx',\n",
       " 'test_folder_list': ['Dentistry_0002'],\n",
       " 'user_name': '沈易達',\n",
       " 'model': 'Linknet',\n",
       " 'BACKBONE': 'efficientnetb7',\n",
       " 'num_classes': 15,\n",
       " 'save_ckpt_Folder': '/media/ai/disk1/notebook/jupyter_work/test1/SurgeryAnalytics/AI_Cases/Dentistry_AI_ZERO_New_1120808_500_linknet/B_AI_training/ckpt/20230813005951',\n",
       " 'data_height': 384,\n",
       " 'data_width': 384,\n",
       " 'save_pred_img_folder_path': '/media/ai/disk1/notebook/jupyter_work/test1/SurgeryAnalytics/AI_Cases/Dentistry_AI_ZERO_New_1120808_500_linknet/C_pred/prediction/20230813070234',\n",
       " 'save_compare_img_folder_path': '/media/ai/disk1/notebook/jupyter_work/test1/SurgeryAnalytics/AI_Cases/Dentistry_AI_ZERO_New_1120808_500_linknet/C_pred/compare_output/20230813070234',\n",
       " 'color_list': [[0, 240, 255],\n",
       "  [65, 127, 0],\n",
       "  [0, 0, 255],\n",
       "  [113, 41, 29],\n",
       "  [122, 21, 135],\n",
       "  [0, 148, 242],\n",
       "  [4, 84, 234],\n",
       "  [0, 208, 178],\n",
       "  [52, 97, 148],\n",
       "  [121, 121, 121],\n",
       "  [212, 149, 27],\n",
       "  [206, 171, 255],\n",
       "  [110, 28, 216]],\n",
       " 'ckptname': 'n31',\n",
       " 'ckptnameVal': '0.833'}"
      ]
     },
     "execution_count": 4,
     "metadata": {},
     "output_type": "execute_result"
    }
   ],
   "source": [
    "config"
   ]
  },
  {
   "cell_type": "code",
   "execution_count": 5,
   "metadata": {},
   "outputs": [
    {
     "name": "stdout",
     "output_type": "stream",
     "text": [
      "0:Alveolar_bone\n",
      "1:Caries\n",
      "2:Crown\n",
      "3:Dentin\n",
      "4:Enamel\n",
      "5:Implant\n",
      "6:Mandibular_alveolar_nerve\n",
      "7:Maxillary_sinus\n",
      "8:Periapical_lesion\n",
      "9:Post_and_core\n",
      "10:Pulp\n",
      "11:Restoration\n",
      "12:Root_canal_filling\n"
     ]
    }
   ],
   "source": [
    "detect_label_list = config[\"detect_label_list\"]\n",
    "correct_label = config[\"correct_label\"]\n",
    "x=0\n",
    "for i in detect_label_list:\n",
    "    if i==correct_label[x]:\n",
    "        print(str(x)+\":\"+i)\n",
    "    else:\n",
    "        print('error:'+str(x)+\":\"+i)\n",
    "    # print(detect_label_list[int(i)])\n",
    "    x=x+1"
   ]
  },
  {
   "cell_type": "code",
   "execution_count": 6,
   "metadata": {},
   "outputs": [
    {
     "name": "stdout",
     "output_type": "stream",
     "text": [
      "{0: ('Background', [0, 0, 0]), 1: ('Alveolar_bone', [0, 240, 255]), 2: ('Caries', [65, 127, 0]), 3: ('Crown', [0, 0, 255]), 4: ('Dentin', [113, 41, 29]), 5: ('Enamel', [122, 21, 135]), 6: ('Implant', [0, 148, 242]), 7: ('Mandibular_alveolar_nerve', [4, 84, 234]), 8: ('Maxillary_sinus', [0, 208, 178]), 9: ('Periapical_lesion', [52, 97, 148]), 10: ('Post_and_core', [121, 121, 121]), 11: ('Pulp', [212, 149, 27]), 12: ('Restoration', [206, 171, 255]), 13: ('Root_canal_filling', [110, 28, 216])}\n"
     ]
    }
   ],
   "source": [
    "color_list = config[\"color_list\"]\n",
    "correct_label = config[\"correct_label\"]\n",
    "correct_label_color_dict = {} # 格式為字典, KEY為類別對應到模型上的數值, VALUE為BGR顏色的清單(e.g [B, G, R])\n",
    "correct_label_color_dict[0] = (\"Background\",[0,0,0,])\n",
    "# for idx, color in enumerate(config[\"color_list\"]):\n",
    "#     correct_label_color_dict[idx+1] = correct_label[idx],color\n",
    "for idx, correct_label_name in enumerate(config[\"correct_label\"]):        #1111003 沈博要求更正\n",
    "    correct_label_color_dict[idx+1] = correct_label_name,color_list[idx]  \n",
    "    \n",
    "print(correct_label_color_dict)"
   ]
  },
  {
   "cell_type": "code",
   "execution_count": 7,
   "metadata": {},
   "outputs": [
    {
     "name": "stdout",
     "output_type": "stream",
     "text": [
      "20230813073703\n"
     ]
    }
   ],
   "source": [
    "import time\n",
    "time.localtime()\n",
    "train_time=time.strftime(\"%Y%m%d%H%M%S\", time.localtime())\n",
    "print(train_time)"
   ]
  },
  {
   "cell_type": "code",
   "execution_count": 8,
   "metadata": {},
   "outputs": [
    {
     "name": "stdout",
     "output_type": "stream",
     "text": [
      "Dentistry_report_20230813073703\n"
     ]
    }
   ],
   "source": [
    "DATA_DIR = config[\"split_folder_path\"]# 轉好檔的標記資料路徑(label為mask(即.png格式))\n",
    "x_test_dir = os.path.join(DATA_DIR, 'test', 'img')\n",
    "y_test_dir = os.path.join(DATA_DIR, 'test', 'label')\n",
    "true_label_folder_path = y_test_dir # 要預測的圖片資料夾路徑\n",
    "pred_root_folder_path = config[\"save_pred_img_folder_path\"]\n",
    "# pred_root_folder_path = r'F:\\SurgeryAnalytics\\AI_Cases\\Dentistry\\1_Linknet_efficientnetb7_0_3\\C_pred\\prediction\\20220726135759'\n",
    "# report_title_name = 'Discectomy_report' # 儲存的Excel檔標題名稱\n",
    "report_title_name = config[\"surgeryName\"]+'_report_'+train_time\n",
    "color_dict = {} # 格式為字典, KEY為類別對應到模型上的數值, VALUE為BGR顏色的清單(e.g [B, G, R])\n",
    "color_dict[0] = [0,0,0]\n",
    "for idx, color in enumerate(config[\"color_list\"]):\n",
    "    color_dict[idx+1] = color\n",
    "print(report_title_name) "
   ]
  },
  {
   "cell_type": "code",
   "execution_count": 9,
   "metadata": {},
   "outputs": [],
   "source": [
    "# color_dict = {} # 格式為字典, KEY為類別對應到模型上的數值, VALUE為BGR顏色的清單(e.g [B, G, R])\n",
    "# color_dict[0] = [0,0,0]\n",
    "# for idx, color in enumerate(config[\"color_list\"]):\n",
    "#     color_dict[idx+1] = color\n",
    "# print(color_dict)   \n",
    "\n",
    "# detect_label_dict= {}\n",
    "# detect_label_dict[0] = \"Background\"\n",
    "# for idx, detect_label_list in enumerate(config[\"detect_label_list\"]):\n",
    "#     detect_label_dict[idx+1] = detect_label_list\n",
    "# print(detect_label_dict)"
   ]
  },
  {
   "cell_type": "markdown",
   "metadata": {},
   "source": [
    "# 建立報表"
   ]
  },
  {
   "cell_type": "code",
   "execution_count": 10,
   "metadata": {},
   "outputs": [],
   "source": [
    "# pip install openpyxl"
   ]
  },
  {
   "cell_type": "code",
   "execution_count": 11,
   "metadata": {},
   "outputs": [
    {
     "data": {
      "text/plain": [
       "'/media/ai/disk1/notebook/jupyter_work/test1/SurgeryAnalytics/AI_Cases/Dentistry_AI_ZERO_New_1120808_500_linknet/C_pred/prediction/20230813070234'"
      ]
     },
     "execution_count": 11,
     "metadata": {},
     "output_type": "execute_result"
    }
   ],
   "source": [
    "pred_root_folder_path"
   ]
  },
  {
   "cell_type": "code",
   "execution_count": 12,
   "metadata": {},
   "outputs": [
    {
     "data": {
      "text/plain": [
       "'/media/ai/disk1/notebook/jupyter_work/test1/SurgeryAnalytics/AI_Cases/Dentistry_AI_ZERO_New_1120808_500_linknet/0_Data/2_split/test/label'"
      ]
     },
     "execution_count": 12,
     "metadata": {},
     "output_type": "execute_result"
    }
   ],
   "source": [
    "true_label_folder_path"
   ]
  },
  {
   "cell_type": "code",
   "execution_count": 13,
   "metadata": {},
   "outputs": [
    {
     "data": {
      "text/plain": [
       "'Dentistry_report_20230813073703'"
      ]
     },
     "execution_count": 13,
     "metadata": {},
     "output_type": "execute_result"
    }
   ],
   "source": [
    "report_title_name\n"
   ]
  },
  {
   "cell_type": "code",
   "execution_count": 14,
   "metadata": {},
   "outputs": [
    {
     "data": {
      "text/plain": [
       "{'surgeryName': 'Dentistry',\n",
       " 'label_folder_path': '/media/ai/disk1/notebook/jupyter_work/test1/SurgeryAnalytics/AI_Cases/Dentistry_AI_ZERO_New_1120808_500_linknet/0_Data/0_ori',\n",
       " 'trans_folder_path': '/media/ai/disk1/notebook/jupyter_work/test1/SurgeryAnalytics/AI_Cases/Dentistry_AI_ZERO_New_1120808_500_linknet/0_Data/1_trans',\n",
       " 'split_folder_path': '/media/ai/disk1/notebook/jupyter_work/test1/SurgeryAnalytics/AI_Cases/Dentistry_AI_ZERO_New_1120808_500_linknet/0_Data/2_split',\n",
       " 'correct_label': ['Alveolar_bone',\n",
       "  'Caries',\n",
       "  'Crown',\n",
       "  'Dentin',\n",
       "  'Enamel',\n",
       "  'Implant',\n",
       "  'Mandibular_alveolar_nerve',\n",
       "  'Maxillary_sinus',\n",
       "  'Periapical_lesion',\n",
       "  'Post_and_core',\n",
       "  'Pulp',\n",
       "  'Restoration',\n",
       "  'Root_canal_filling'],\n",
       " 'detect_label_list': ['Alveolar_bone',\n",
       "  'Caries',\n",
       "  'Crown',\n",
       "  'Dentin',\n",
       "  'Enamel',\n",
       "  'Implant',\n",
       "  'Mandibular_alveolar_nerve',\n",
       "  'Maxillary_sinus',\n",
       "  'Periapical_lesion',\n",
       "  'Post_and_core',\n",
       "  'Pulp',\n",
       "  'Restoration',\n",
       "  'Root_canal_filling'],\n",
       " 'Data_total_excel': '/media/ai/disk1/notebook/jupyter_work/test1/SurgeryAnalytics/AI_Cases/Dentistry_AI_ZERO_New_1120808_500_linknet/A_Data_preprocessing/Dentistry.xlsx',\n",
       " 'test_folder_list': ['Dentistry_0002'],\n",
       " 'user_name': '沈易達',\n",
       " 'model': 'Linknet',\n",
       " 'BACKBONE': 'efficientnetb7',\n",
       " 'num_classes': 15,\n",
       " 'save_ckpt_Folder': '/media/ai/disk1/notebook/jupyter_work/test1/SurgeryAnalytics/AI_Cases/Dentistry_AI_ZERO_New_1120808_500_linknet/B_AI_training/ckpt/20230813005951',\n",
       " 'data_height': 384,\n",
       " 'data_width': 384,\n",
       " 'save_pred_img_folder_path': '/media/ai/disk1/notebook/jupyter_work/test1/SurgeryAnalytics/AI_Cases/Dentistry_AI_ZERO_New_1120808_500_linknet/C_pred/prediction/20230813070234',\n",
       " 'save_compare_img_folder_path': '/media/ai/disk1/notebook/jupyter_work/test1/SurgeryAnalytics/AI_Cases/Dentistry_AI_ZERO_New_1120808_500_linknet/C_pred/compare_output/20230813070234',\n",
       " 'color_list': [[0, 240, 255],\n",
       "  [65, 127, 0],\n",
       "  [0, 0, 255],\n",
       "  [113, 41, 29],\n",
       "  [122, 21, 135],\n",
       "  [0, 148, 242],\n",
       "  [4, 84, 234],\n",
       "  [0, 208, 178],\n",
       "  [52, 97, 148],\n",
       "  [121, 121, 121],\n",
       "  [212, 149, 27],\n",
       "  [206, 171, 255],\n",
       "  [110, 28, 216]],\n",
       " 'ckptname': 'n31',\n",
       " 'ckptnameVal': '0.833'}"
      ]
     },
     "execution_count": 14,
     "metadata": {},
     "output_type": "execute_result"
    }
   ],
   "source": [
    "config"
   ]
  },
  {
   "cell_type": "code",
   "execution_count": 15,
   "metadata": {},
   "outputs": [
    {
     "name": "stdout",
     "output_type": "stream",
     "text": [
      "/media/ai/disk1/notebook/jupyter_work/test1/SurgeryAnalytics/AI_Cases/Dentistry_AI_ZERO_New_1120808_500_linknet/0_Data/2_split/test/label\n",
      "/media/ai/disk1/notebook/jupyter_work/test1/SurgeryAnalytics/AI_Cases/Dentistry_AI_ZERO_New_1120808_500_linknet/C_pred/prediction/20230813070234\n",
      "Dentistry_report_20230813073703\n",
      "['pred-Linknet_efficientnetb7_n31']\n",
      "label_mask_folder_path: \n",
      "/media/ai/disk1/notebook/jupyter_work/test1/SurgeryAnalytics/AI_Cases/Dentistry_AI_ZERO_New_1120808_500_linknet/C_pred/compare_output/20230813070234/pred-Linknet_efficientnetb7_n31\n",
      "Building pred-Linknet_efficientnetb7_n31 report ...  {'surgeryName': 'Dentistry', 'label_folder_path': '/media/ai/disk1/notebook/jupyter_work/test1/SurgeryAnalytics/AI_Cases/Dentistry_AI_ZERO_New_1120808_500_linknet/0_Data/0_ori', 'trans_folder_path': '/media/ai/disk1/notebook/jupyter_work/test1/SurgeryAnalytics/AI_Cases/Dentistry_AI_ZERO_New_1120808_500_linknet/0_Data/1_trans', 'split_folder_path': '/media/ai/disk1/notebook/jupyter_work/test1/SurgeryAnalytics/AI_Cases/Dentistry_AI_ZERO_New_1120808_500_linknet/0_Data/2_split', 'correct_label': ['Alveolar_bone', 'Caries', 'Crown', 'Dentin', 'Enamel', 'Implant', 'Mandibular_alveolar_nerve', 'Maxillary_sinus', 'Periapical_lesion', 'Post_and_core', 'Pulp', 'Restoration', 'Root_canal_filling'], 'detect_label_list': ['Alveolar_bone', 'Caries', 'Crown', 'Dentin', 'Enamel', 'Implant', 'Mandibular_alveolar_nerve', 'Maxillary_sinus', 'Periapical_lesion', 'Post_and_core', 'Pulp', 'Restoration', 'Root_canal_filling'], 'Data_total_excel': '/media/ai/disk1/notebook/jupyter_work/test1/SurgeryAnalytics/AI_Cases/Dentistry_AI_ZERO_New_1120808_500_linknet/A_Data_preprocessing/Dentistry.xlsx', 'test_folder_list': ['Dentistry_0002'], 'user_name': '沈易達', 'model': 'Linknet', 'BACKBONE': 'efficientnetb7', 'num_classes': 15, 'save_ckpt_Folder': '/media/ai/disk1/notebook/jupyter_work/test1/SurgeryAnalytics/AI_Cases/Dentistry_AI_ZERO_New_1120808_500_linknet/B_AI_training/ckpt/20230813005951', 'data_height': 384, 'data_width': 384, 'save_pred_img_folder_path': '/media/ai/disk1/notebook/jupyter_work/test1/SurgeryAnalytics/AI_Cases/Dentistry_AI_ZERO_New_1120808_500_linknet/C_pred/prediction/20230813070234', 'save_compare_img_folder_path': '/media/ai/disk1/notebook/jupyter_work/test1/SurgeryAnalytics/AI_Cases/Dentistry_AI_ZERO_New_1120808_500_linknet/C_pred/compare_output/20230813070234', 'color_list': [[0, 240, 255], [65, 127, 0], [0, 0, 255], [113, 41, 29], [122, 21, 135], [0, 148, 242], [4, 84, 234], [0, 208, 178], [52, 97, 148], [121, 121, 121], [212, 149, 27], [206, 171, 255], [110, 28, 216]], 'ckptname': 'n31', 'ckptnameVal': '0.833'}\n",
      "2500\n",
      "處理進度DataNum:10.0%\n",
      "處理進度DataNum:20.0%\n",
      "處理進度DataNum:30.0%\n",
      "處理進度DataNum:40.0%\n",
      "處理進度DataNum:50.0%\n",
      "處理進度DataNum:60.0%\n",
      "處理進度DataNum:70.0%\n",
      "處理進度DataNum:80.0%\n",
      "處理進度DataNum:90.0%\n",
      "處理進度DataNum:100.0%\n",
      "Dentistry_0002\n",
      "Folder Name\n",
      "Alveolar_bone\n",
      "Caries\n",
      "Crown\n",
      "Dentin\n",
      "Enamel\n",
      "Implant\n",
      "Mandibular_alveolar_nerve\n",
      "Maxillary_sinus\n",
      "Periapical_lesion\n",
      "Post_and_core\n",
      "Pulp\n",
      "Restoration\n",
      "Root_canal_filling\n",
      "None\n",
      "Number of Image\n",
      "顯示測試內容全部的統計值\n",
      "['Folder Name', 'Alveolar_bone', 'Caries', 'Crown', 'Dentin', 'Enamel', 'Implant', 'Mandibular_alveolar_nerve', 'Maxillary_sinus', 'Periapical_lesion', 'Post_and_core', 'Pulp', 'Restoration', 'Root_canal_filling', None, 'Number of Image']\n",
      "Dentistry_0002\n",
      "Dentistry_0002\n",
      "2497\n",
      "1553\n",
      "617\n",
      "2500\n",
      "2460\n",
      "36\n",
      "22\n",
      "753\n",
      "115\n",
      "302\n",
      "2478\n",
      "1673\n",
      "572\n",
      "None\n",
      "2500\n",
      "顯示測試內容全部的統計值\n",
      "['Dentistry_0002', 2497, 1553, 617, 2500, 2460, 36, 22, 753, 115, 302, 2478, 1673, 572, None, 2500]\n",
      "['Label']\n",
      "['', '個別判定總數(TP+FN)']\n",
      "['', '個別判定總數(TP+FN)', 2500, 2497, 1553, 617, 2500, 2460, 36, 22, 753, 115, 302, 2478, 1673, 572]\n",
      "('00', '00', '00'):['FF', 'FF', 'FF']\n",
      "('FF', 'F0', '00'):['00', '0F', 'FF']\n",
      "('00', '7F', '41'):['FF', '80', 'BE']\n",
      "('FF', '00', '00'):['00', 'FF', 'FF']\n",
      "('1D', '29', '71'):['E2', 'D6', '8E']\n",
      "('87', '15', '7A'):['78', 'EA', '85']\n",
      "('F2', '94', '00'):['0D', '6B', 'FF']\n",
      "('EA', '54', '04'):['15', 'AB', 'FB']\n",
      "('B2', 'D0', '00'):['4D', '2F', 'FF']\n",
      "('94', '61', '34'):['6B', '9E', 'CB']\n",
      "('79', '79', '79'):['00', '00', '00']\n",
      "('1B', '95', 'D4'):['E4', '6A', '2B']\n",
      "('FF', 'AB', 'CE'):['00', '54', '31']\n",
      "('D8', '1C', '6E'):['27', 'E3', '91']\n",
      "Done!\n",
      "/media/ai/disk1/notebook/jupyter_work/test1/SurgeryAnalytics/AI_Cases/Dentistry_AI_ZERO_New_1120808_500_linknet/Dentistry_AI_ZERO_New_1120808_500_linknet_config.json\n",
      "4686.189650058746\n"
     ]
    }
   ],
   "source": [
    "# from lib.create_report import CreateAccuracyReport\n",
    "from time import time\n",
    "begin = time()\n",
    "print(true_label_folder_path)\n",
    "print(pred_root_folder_path)\n",
    "print(report_title_name)\n",
    "config\n",
    "# print(jsonFile)AI_Data_jsonFile\n",
    "CreateAccuracyReport(true_label_folder_path, pred_root_folder_path, report_title_name, config, jsonFile)\n",
    "end = time()\n",
    "print(end - begin)\n",
    "# CreateAccuracyReport(true_label_folder_path, pred_root_folder_path, report_title_name, color_dict)"
   ]
  },
  {
   "cell_type": "markdown",
   "metadata": {},
   "source": [
    "# 建立PPT提供快速瀏覽\n"
   ]
  },
  {
   "cell_type": "code",
   "execution_count": null,
   "metadata": {},
   "outputs": [],
   "source": []
  },
  {
   "cell_type": "code",
   "execution_count": 16,
   "metadata": {},
   "outputs": [],
   "source": [
    "# import numpy\n",
    "# OtherData = ['編號類別對應表', 'ClassName','色碼']\n",
    "# numpy.size(OtherData)"
   ]
  },
  {
   "cell_type": "code",
   "execution_count": 17,
   "metadata": {
    "tags": []
   },
   "outputs": [],
   "source": [
    "# from openpyxl import Workbook, load_workbook\n",
    "# from openpyxl.styles import PatternFill,Font\n",
    "# import numpy\n",
    "\n",
    "# cwd = os.getcwd()\n",
    "# Data_total = cwd.split('\\D_build_report')[0]\n",
    "# # print(Data_total)\n",
    "# Data_total_excel=Data_total+'\\A_Data_preprocessing\\Dentistry_ClassInformation.xlsx'\n",
    "\n",
    "# # self.predRootFolderPath\n",
    "# workbook = load_workbook(Data_total_excel)\n",
    "\n",
    "\n",
    "\n",
    "# # 開啟工作簿\n",
    "# # workbook = load_workbook('Dentistry_ClassInformation.xlsx')\n",
    "# # 獲取表單\n",
    "# sheet = workbook[u'Summary']\n",
    "# # 讀取指定的單元格資料\n",
    "# cell = sheet[2]\n",
    "# rows = sheet.rows\n",
    "# for row in list(rows):  # 遍歷每行資料\n",
    "#     case = []   # 用於存放一行資料\n",
    "#     for c in row:  # 把每行的每個單元格的值取出來，存放到case裡\n",
    "#         case.append(c.value)\n",
    "#     print(case)\n",
    "\n",
    "# y=16\n",
    "# # num=0\n",
    "# new_case=[]\n",
    "# OtherData0_3 = ['','個別判定總數']\n",
    "# for num in range(y-numpy.size(OtherData0_3)):\n",
    "#     print(num)\n",
    "#     if num==0:\n",
    "#         OtherData0_3.append(case[y-1])\n",
    "#     # elif num == 1:\n",
    "#     #     OtherData0_3.append(case[y-1])\n",
    "#     else:\n",
    "#         OtherData0_3.append(case[num])\n",
    "# OtherData0_3\n",
    "\n",
    "# numpy.size(OtherData0_3)\n",
    "\n",
    "# # wb = load_workbook(\"Dentistry_report_20220811175238-Linknet_efficientnetb7_n41.xlsx\") #開啟活頁簿\n",
    "# # ws = wb.active\n",
    "# ws = wb.get_sheet_by_name(u\"Summary\")\n",
    "# # ws1.sheet_properties.tabColor = \"1072BA\"  # 设置 sheet 标签背景色\n",
    "# OtherData2 = ['']\n",
    "# y=16\n",
    "# for i in range(y-numpy.size(OtherData2)):\n",
    "#     OtherData2.append('') \n",
    "# ws.append(OtherData2)\n",
    "# OtherData2 = ['色彩名稱表','HEX','B','G','R','Color']\n",
    "# OtherData2NameLength=numpy.size(OtherData2)\n",
    "# # print(self.dfSummary.shape)\n",
    "# # x,y=self.dfSummary.shape\n",
    "# y=16\n",
    "# for i in range(y-numpy.size(OtherData2)):\n",
    "#     OtherData2.append('') \n",
    "\n",
    "# ws.append((OtherData2))\n",
    "\n",
    "\n",
    "\n",
    "\n",
    "# r=100+2+2+2\n",
    "# for i in range(1,OtherData2NameLength+1):\n",
    "    \n",
    "#     row = ws.cell(r-1, i) \n",
    "#     row.fill = PatternFill(\"solid\", start_color=\"FFFF00\")\n",
    "\n",
    "# for num, key in correct_label_color_dict.items():    \n",
    "#     ws.cell(r, 1).value = key[0]\n",
    "#     ws.cell(r, 2).value = RGBToHex(key[1][2],key[1][1],key[1][0])\n",
    "#     ws.cell(r, 3).value = key[1][0]\n",
    "#     ws.cell(r, 4).value = key[1][1]\n",
    "#     ws.cell(r, 5).value = key[1][2]        \n",
    "#     ws.cell(r, 6).value = key[0]\n",
    "#     ws.cell(r, 6).font =  Font(color=blackwhite(ws.cell(r, 2).value))\n",
    "#     ws.cell(r, 6).fill = PatternFill(start_color=RGBToHex(key[1][2],key[1][1],key[1][0]).replace('#', ''), fill_type=\"solid\") #used hex code for red color red color\n",
    "#     r=r+1\n",
    "# wb.save(\"Dentistry_report_20220811175238-Linknet_efficientnetb7_n41_NEW.xlsx\")           #存檔\n",
    "# wb.close()  # close the workbook\n",
    "\n"
   ]
  }
 ],
 "metadata": {
  "kernelspec": {
   "display_name": "py36tf",
   "language": "python",
   "name": "py36tf"
  },
  "language_info": {
   "codemirror_mode": {
    "name": "ipython",
    "version": 3
   },
   "file_extension": ".py",
   "mimetype": "text/x-python",
   "name": "python",
   "nbconvert_exporter": "python",
   "pygments_lexer": "ipython3",
   "version": "3.6.6"
  }
 },
 "nbformat": 4,
 "nbformat_minor": 4
}
