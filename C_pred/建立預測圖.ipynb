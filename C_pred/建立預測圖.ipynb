{
 "cells": [
  {
   "cell_type": "markdown",
   "metadata": {},
   "source": [
    "# Import pkgs"
   ]
  },
  {
   "cell_type": "code",
   "execution_count": 1,
   "metadata": {},
   "outputs": [
    {
     "name": "stdout",
     "output_type": "stream",
     "text": [
      "TF version: 2.2.0.\n",
      "Keras version: 2.3.0-tf.\n",
      "Segmentation Models: using `tf.keras` framework.\n"
     ]
    }
   ],
   "source": [
    "import tensorflow as tf\n",
    "from tensorflow import keras\n",
    "print(\"TF version: {}.\".format(tf.__version__))\n",
    "print(\"Keras version: {}.\".format(keras.__version__))\n",
    "\n",
    "import os\n",
    "os.environ['CUDA_VISIBLE_DEVICES'] = '0'\n",
    "\n",
    "import cv2\n",
    "import numpy as np\n",
    "\n",
    "import segmentation_models as sm"
   ]
  },
  {
   "cell_type": "markdown",
   "metadata": {},
   "source": [
    "# 參數設定\n",
    "## [Model ref](https://github.com/qubvel/segmentation_models)"
   ]
  },
  {
   "cell_type": "code",
   "execution_count": 2,
   "metadata": {},
   "outputs": [
    {
     "data": {
      "text/plain": [
       "{'surgeryName': 'Dentistry',\n",
       " 'label_folder_path': 'F:\\\\SurgeryAnalytics\\\\AI_Cases\\\\Dentistry\\\\1_Linknet_efficientnetb7_0_3\\\\0_Data\\\\0_ori',\n",
       " 'trans_folder_path': 'F:\\\\SurgeryAnalytics\\\\AI_Cases\\\\Dentistry\\\\1_Linknet_efficientnetb7_0_3\\\\0_Data\\\\1_trans',\n",
       " 'split_folder_path': 'F:\\\\SurgeryAnalytics\\\\AI_Cases\\\\Dentistry\\\\1_Linknet_efficientnetb7_0_3\\\\0_Data\\\\2_split',\n",
       " 'correct_label': ['Alveolar_bone',\n",
       "  'Caries',\n",
       "  'Crown',\n",
       "  'Dentin',\n",
       "  'Enamel',\n",
       "  'Implant',\n",
       "  'Mandibular_alveolar_nerve',\n",
       "  'Maxillary_sinus',\n",
       "  'Periapical_lesion',\n",
       "  'Post_and_core',\n",
       "  'Pulp',\n",
       "  'Restoration',\n",
       "  'Root_canal_filling'],\n",
       " 'detect_label_list': ['Alveolar_bone',\n",
       "  'Caries',\n",
       "  'Crown',\n",
       "  'Dentin',\n",
       "  'Enamel',\n",
       "  'Implant',\n",
       "  'Mandibular_alveolar_nerve',\n",
       "  'Maxillary_sinus',\n",
       "  'Periapical_lesion',\n",
       "  'Post_and_core',\n",
       "  'Pulp',\n",
       "  'Restoration',\n",
       "  'Root_canal_filling'],\n",
       " 'model': 'Linknet',\n",
       " 'BACKBONE': 'efficientnetb7',\n",
       " 'num_classes': 15,\n",
       " 'save_ckpt_Folder': 'f:\\\\SurgeryAnalytics\\\\AI_Cases\\\\Dentistry\\\\1_Linknet_efficientnetb7_0_3\\\\B_AI_training/ckpt/20220718094413',\n",
       " 'save_pred_img_folder_path': 'f:\\\\SurgeryAnalytics\\\\AI_Cases\\\\Dentistry\\\\1_Linknet_efficientnetb7_0_3\\\\C_pred/prediction/20220719104731',\n",
       " 'color_list': [[0, 240, 255],\n",
       "  [65, 127, 0],\n",
       "  [0, 0, 255],\n",
       "  [113, 41, 29],\n",
       "  [122, 21, 135],\n",
       "  [0, 148, 242],\n",
       "  [4, 84, 234],\n",
       "  [0, 208, 178],\n",
       "  [52, 97, 148],\n",
       "  [121, 121, 121],\n",
       "  [212, 149, 27],\n",
       "  [206, 171, 255],\n",
       "  [110, 28, 216]]}"
      ]
     },
     "execution_count": 2,
     "metadata": {},
     "output_type": "execute_result"
    }
   ],
   "source": [
    "import json\n",
    "jsonFile = r'F:\\SurgeryAnalytics\\AI_Cases\\Dentistry\\1_Linknet_efficientnetb7_0_3\\B_AI_training\\Dentistry_config.json'\n",
    "\n",
    "with open(jsonFile,\"r\") as f:\n",
    "    config = json.load(f)\n",
    "config"
   ]
  },
  {
   "cell_type": "code",
   "execution_count": 3,
   "metadata": {},
   "outputs": [],
   "source": [
    "split_folder_path=config[\"split_folder_path\"]+'/test/img'\n",
    "img_folder_path=split_folder_path\n",
    "# img_folder_path = r'test/img' # 要預測的圖片資料夾路徑\n",
    "# save_pred_img_folder_path = r'prediction' # 儲存預測圖片的根目錄資料夾路徑\n",
    "save_pred_img_folder_path =config[\"save_pred_img_folder_path\"]# 儲存預測圖片的根目錄資料夾路徑\n",
    "model_name = 'Linknet' # 使用的模型名稱 (Unet/FPN/Linknet/PSPNet)\n",
    "# backbone_name = 'efficientnetb5' # 使用的backbone名稱\n",
    "backbone_name=config[\"BACKBONE\"]# 使用的backbone名稱\n",
    "\n",
    "num_classes = 11 # 模型預測的類別數量, 此數值要+1(for unlabel)\n",
    "num_classes = config[\"num_classes\"]\n",
    "correct_label=config[\"correct_label\"]\n",
    "# correct_label  =['Adenoma',\n",
    "#                  'Ascites',\n",
    "#                  'Colon',\n",
    "#                  'Myoma',\n",
    "#                  'Other_tissue',\n",
    "#                  'Pubic',\n",
    "#                  'Rectum',\n",
    "#                  'Spine',\n",
    "#                  'Urinary_bladder',\n",
    "#                  'Uterus']\n",
    "color_list=config[\"color_list\"]\n",
    "# color_list = [\n",
    "#               [35,119,105],#'Adenoma',\n",
    "#               [215,148,0],#'Ascites',\n",
    "#               [12,160,244],#'Colon',\n",
    "#               [0,208,178],#'Myoma',\n",
    "#               [148,57,0],#'Other_tissue',\n",
    "#               [126,187,100],#Pubic\n",
    "#               [4,84,234],#'Rectum',\n",
    "#               [71,29,146],#Spine\n",
    "#               [75,75,152],#'Urinary_bladder',\n",
    "#               [158,95,229]#'Uterus'\n",
    "#              ]\n",
    "#               # 針對資料前處理的correct_label清單, 依序填入想要顯示的BGR色碼 (註:是BGR不是RGB), background顏色不用填.\n",
    "\n",
    "ckpt_path=config[\"save_ckpt_Folder\"]+\"/Linknet_n33_0.81_model.h5\"\n",
    "\n",
    "\n",
    "\n",
    "# ckpt_path = r'model/Linknet_69_0.37_model.h5' # 存放model weight的路徑"
   ]
  },
  {
   "cell_type": "markdown",
   "metadata": {},
   "source": [
    "# 定義預測函數"
   ]
  },
  {
   "cell_type": "code",
   "execution_count": 4,
   "metadata": {},
   "outputs": [],
   "source": [
    "def pred_img(img_path, save_path):\n",
    "    img = cv2.imread(img_path)\n",
    "    img = cv2.cvtColor(img, cv2.COLOR_BGR2RGB)\n",
    "    hight, width, _ = img.shape\n",
    "    resize_img = cv2.resize(img, (512, 512), interpolation=cv2.INTER_CUBIC) # 註: 若模型輸出寬高非640x480, 則在此修改.\n",
    "    resize_img = preprocess_input(resize_img)\n",
    "    resize_img = np.expand_dims(resize_img, axis=0)\n",
    "    pred_logit = model.predict(resize_img) # shape: (1, 480, 640, 3)\n",
    "    pred_label = tf.argmax(pred_logit, axis=-1).numpy() # shape: (1, 480, 640)\n",
    "    pred_label = np.squeeze(pred_label, axis=0) # shape: (480, 640)\n",
    "    pred_img = np.zeros([512, 512, 3]) # 註: 若模型輸出寬高非640x480, 則在此修改.\n",
    "    \n",
    "    for i in np.arange(1, len(color_list)+1):\n",
    "        idx = np.where(pred_label == i)\n",
    "        pred_img[idx] = color_list[i-1]\n",
    "    pred_img = cv2.resize(pred_img, (width, hight), interpolation=cv2.INTER_NEAREST) \n",
    "    cv2.imwrite(save_path, pred_img)"
   ]
  },
  {
   "cell_type": "markdown",
   "metadata": {},
   "source": [
    "# Main"
   ]
  },
  {
   "cell_type": "code",
   "execution_count": 6,
   "metadata": {},
   "outputs": [
    {
     "name": "stdout",
     "output_type": "stream",
     "text": [
      "f:\\SurgeryAnalytics\\AI_Cases\\Dentistry\\1_Linknet_efficientnetb7_0_3\\C_pred/prediction/20220719104731\n"
     ]
    }
   ],
   "source": [
    "activation = 'sigmoid' if num_classes == 1 else 'softmax'\n",
    "preprocess_input = sm.get_preprocessing(backbone_name)\n",
    "\n",
    "exec('model = sm.' + model_name + '(backbone_name, classes=num_classes, activation=activation)')\n",
    "model.load_weights(ckpt_path)\n",
    "print(save_pred_img_folder_path)\n",
    "# for file in os.listdir(img_folder_path):\n",
    "#     file_name = os.path.splitext(file)[0]\n",
    "#     img_path = os.path.join(img_folder_path, file)\n",
    "#     save_path = os.path.join(save_pred_img_folder_path, file_name + \"_pred.png\")\n",
    "#     pred_img(img_path, save_path)\n",
    "#     print(\"Predict {} image ssuccessfully!\".format(file_name))"
   ]
  }
 ],
 "metadata": {
  "kernelspec": {
   "display_name": "AI",
   "language": "python",
   "name": "ai"
  },
  "language_info": {
   "codemirror_mode": {
    "name": "ipython",
    "version": 3
   },
   "file_extension": ".py",
   "mimetype": "text/x-python",
   "name": "python",
   "nbconvert_exporter": "python",
   "pygments_lexer": "ipython3",
   "version": "3.6.6"
  }
 },
 "nbformat": 4,
 "nbformat_minor": 4
}
