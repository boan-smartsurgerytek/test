{
 "cells": [
  {
   "cell_type": "code",
   "execution_count": 1,
   "metadata": {},
   "outputs": [
    {
     "name": "stdout",
     "output_type": "stream",
     "text": [
      "Segmentation Models: using `tf.keras` framework.\n",
      "TF version: 2.2.0.\n",
      "Keras version: 2.3.0-tf.\n",
      "1 Physical GPUs, 1 Logical GPUs\n"
     ]
    }
   ],
   "source": [
    "import tensorflow as tf\n",
    "from tensorflow import keras\n",
    "import segmentation_models as sm\n",
    "import os\n",
    "import cv2\n",
    "import numpy as np\n",
    "from lib.predict_image import *\n",
    "from lib.json_name_path import Jsonname    # #取得json檔案的位置and fullname modify by charley 1120117\n",
    "\n",
    "\n",
    "ckptname='test'  #最佳CKPT編號 1110830\n",
    "os.environ['CUDA_VISIBLE_DEVICES'] = '0'\n",
    "sm.set_framework('tf.keras')\n",
    "sm.framework()\n",
    "print(\"TF version: {}.\".format(tf.__version__))\n",
    "print(\"Keras version: {}.\".format(keras.__version__))\n",
    "            \n",
    "def solve_cudnn_error():\n",
    "    gpus = tf.config.experimental.list_physical_devices('GPU')\n",
    "    if gpus:\n",
    "        try:\n",
    "            # Currently, memory growth needs to be the same across GPUs\n",
    "            for gpu in gpus:\n",
    "                tf.config.experimental.set_memory_growth(gpu, True)\n",
    "            logical_gpus = tf.config.experimental.list_logical_devices('GPU')\n",
    "            print(len(gpus), \"Physical GPUs,\", len(logical_gpus), \"Logical GPUs\")\n",
    "        except RuntimeError as e:\n",
    "            # Memory growth must be set before GPUs have been initialized\n",
    "            print(e)\n",
    "          \n",
    "           \n",
    "solve_cudnn_error()\n",
    "\n"
   ]
  },
  {
   "cell_type": "code",
   "execution_count": 2,
   "metadata": {},
   "outputs": [],
   "source": [
    "# pip install opencv-python\n"
   ]
  },
  {
   "cell_type": "code",
   "execution_count": 3,
   "metadata": {},
   "outputs": [
    {
     "name": "stdout",
     "output_type": "stream",
     "text": [
      "change directory 配合使用使 os.getcwd() 可正確顯示Start\n",
      "/media/ai/disk1/notebook/jupyter_work/test1/SurgeryAnalytics/AI_Cases/Dentistry_AI_ZERO_New_1120808_500_linknet/C_pred\n",
      "change directory 配合使用使 os.getcwd() 可正確顯示End\n",
      "/media/ai/disk1/notebook/jupyter_work/test1/SurgeryAnalytics/AI_Cases/Dentistry_AI_ZERO_New_1120808_500_linknet\n"
     ]
    }
   ],
   "source": [
    "#import os\n",
    "#Add  by charley 配合使用 使 os.getcwd() 可正確顯示\n",
    "print('change directory 配合使用使 os.getcwd() 可正確顯示Start')\n",
    "#os.chdir(os.path.dirname(os.path.abspath(__file__)))  #ipynb 不可用\n",
    "from pathlib import Path  #改為目前的資料夾引用物件\n",
    "os.chdir(Path.cwd())    #改為目前的資料夾*********\n",
    "cwd = os.getcwd()\n",
    "print(cwd)\n",
    "print('change directory 配合使用使 os.getcwd() 可正確顯示End')\n",
    "#print(cwd)\n",
    "AI_Path = cwd.split('/C_pred')[0]\n",
    "print(AI_Path)\n",
    "# AI_Data_jsonFile=AI_Path+'/B_AI_training/Dentistry_config.json'  1120117"
   ]
  },
  {
   "cell_type": "code",
   "execution_count": 4,
   "metadata": {},
   "outputs": [],
   "source": [
    "# import json\n",
    "# # jsonFile= = r'F:\\SurgeryAnalytics\\AI_Cases\\Dentistry\\1_Linknet_efficientnetb7_0_3\\B_AI_training\\Dentistry_config.json'\n",
    "# jsonFile=AI_Data_jsonFile\n",
    "# with open(jsonFile,\"r\") as f:\n",
    "#     config = json.load(f)"
   ]
  },
  {
   "cell_type": "code",
   "execution_count": 5,
   "metadata": {},
   "outputs": [
    {
     "name": "stdout",
     "output_type": "stream",
     "text": [
      "AI_Data_jsonFile : == /media/ai/disk1/notebook/jupyter_work/test1/SurgeryAnalytics/AI_Cases/Dentistry_AI_ZERO_New_1120808_500_linknet/Dentistry_AI_ZERO_New_1120808_500_linknet_config.json\n",
      "/media/ai/disk1/notebook/jupyter_work/test1/SurgeryAnalytics/AI_Cases/Dentistry_AI_ZERO_New_1120808_500_linknet/Dentistry_AI_ZERO_New_1120808_500_linknet_config.json\n"
     ]
    }
   ],
   "source": [
    "AI_Data_jsonFile = Jsonname()\n",
    "print(AI_Data_jsonFile)   #注意等等跑AI需要過來複製一下路徑\n",
    "with open(AI_Data_jsonFile,\"r\") as f:\n",
    "     config = json.load(f)"
   ]
  },
  {
   "cell_type": "code",
   "execution_count": 6,
   "metadata": {},
   "outputs": [
    {
     "data": {
      "text/plain": [
       "{'surgeryName': 'Dentistry',\n",
       " 'label_folder_path': '/media/ai/disk1/notebook/jupyter_work/test1/SurgeryAnalytics/AI_Cases/Dentistry_AI_ZERO_New_1120808_500_linknet/0_Data/0_ori',\n",
       " 'trans_folder_path': '/media/ai/disk1/notebook/jupyter_work/test1/SurgeryAnalytics/AI_Cases/Dentistry_AI_ZERO_New_1120808_500_linknet/0_Data/1_trans',\n",
       " 'split_folder_path': '/media/ai/disk1/notebook/jupyter_work/test1/SurgeryAnalytics/AI_Cases/Dentistry_AI_ZERO_New_1120808_500_linknet/0_Data/2_split',\n",
       " 'correct_label': ['Alveolar_bone',\n",
       "  'Caries',\n",
       "  'Crown',\n",
       "  'Dentin',\n",
       "  'Enamel',\n",
       "  'Implant',\n",
       "  'Mandibular_alveolar_nerve',\n",
       "  'Maxillary_sinus',\n",
       "  'Periapical_lesion',\n",
       "  'Post_and_core',\n",
       "  'Pulp',\n",
       "  'Restoration',\n",
       "  'Root_canal_filling'],\n",
       " 'detect_label_list': ['Alveolar_bone',\n",
       "  'Caries',\n",
       "  'Crown',\n",
       "  'Dentin',\n",
       "  'Enamel',\n",
       "  'Implant',\n",
       "  'Mandibular_alveolar_nerve',\n",
       "  'Maxillary_sinus',\n",
       "  'Periapical_lesion',\n",
       "  'Post_and_core',\n",
       "  'Pulp',\n",
       "  'Restoration',\n",
       "  'Root_canal_filling'],\n",
       " 'Data_total_excel': '/media/ai/disk1/notebook/jupyter_work/test1/SurgeryAnalytics/AI_Cases/Dentistry_AI_ZERO_New_1120808_500_linknet/A_Data_preprocessing/Dentistry.xlsx',\n",
       " 'test_folder_list': ['Dentistry_0002'],\n",
       " 'user_name': '沈易達',\n",
       " 'model': 'Linknet',\n",
       " 'BACKBONE': 'efficientnetb7',\n",
       " 'num_classes': 15,\n",
       " 'save_ckpt_Folder': '/media/ai/disk1/notebook/jupyter_work/test1/SurgeryAnalytics/AI_Cases/Dentistry_AI_ZERO_New_1120808_500_linknet/B_AI_training/ckpt/20230813005951',\n",
       " 'data_height': 384,\n",
       " 'data_width': 384}"
      ]
     },
     "execution_count": 6,
     "metadata": {},
     "output_type": "execute_result"
    }
   ],
   "source": [
    "config"
   ]
  },
  {
   "cell_type": "markdown",
   "metadata": {},
   "source": [
    "# 參數設定\n",
    "## [Model ref](https://github.com/qubvel/segmentation_models)"
   ]
  },
  {
   "cell_type": "code",
   "execution_count": 7,
   "metadata": {},
   "outputs": [
    {
     "name": "stdout",
     "output_type": "stream",
     "text": [
      "change directory 配合使用使 os.getcwd() 可正確顯示Start\n",
      "/media/ai/disk1/notebook/jupyter_work/test1/SurgeryAnalytics/AI_Cases/Dentistry_AI_ZERO_New_1120808_500_linknet/C_pred\n",
      "change directory 配合使用使 os.getcwd() 可正確顯示End\n"
     ]
    }
   ],
   "source": [
    "import os\n",
    "import time\n",
    "time.localtime()\n",
    "train_time=time.strftime(\"%Y%m%d%H%M%S\", time.localtime())\n",
    "\n",
    "print('change directory 配合使用使 os.getcwd() 可正確顯示Start')\n",
    "#os.chdir(os.path.dirname(os.path.abspath(__file__)))  #ipynb 不可用\n",
    "from pathlib import Path  #改為目前的資料夾引用物件\n",
    "os.chdir(Path.cwd())    #改為目前的資料夾*********\n",
    "cwd = os.getcwd()\n",
    "print(cwd)\n",
    "print('change directory 配合使用使 os.getcwd() 可正確顯示End')\n",
    "\n",
    "DATA_DIR = config[\"split_folder_path\"]# 轉好檔的標記資料路徑(label為mask(即.png格式))\n",
    "x_test_dir = os.path.join(DATA_DIR, 'test', 'img')\n",
    "y_test_dir = os.path.join(DATA_DIR, 'test', 'label')\n",
    "img_folder_path = x_test_dir # 要預測的圖片資料夾路徑\n",
    "\n",
    "save_pred_img_folder_path = r'prediction'+ \"/\"+train_time # 儲存預測圖片的根目錄資料夾路徑\n",
    "if not os.path.isdir(save_pred_img_folder_path):\n",
    "    os.makedirs(save_pred_img_folder_path)\n",
    "    \n",
    "#增加預測對照圖的顯示位置1110831 add by charley\n",
    "save_compare_img_folder_path = r'compare_output'+ \"/\"+train_time # 儲存預測對照圖的根目錄資料夾路徑 \n",
    "if not os.path.isdir(save_compare_img_folder_path):\n",
    "    os.makedirs(save_compare_img_folder_path)\n",
    "#增加預測對照圖的顯示位置1110831 add by charley    \n",
    "    \n",
    "model_name = config[\"model\"] # 使用的模型名稱 (Unet/FPN/Linknet/PSPNet)\n",
    "backbone_name = config[\"BACKBONE\"]# 使用的backbone名稱\n",
    "num_classes = config[\"num_classes\"] # 模型預測的類別數量, 此數值要+1(for unlabel)\n",
    "color_list = [\n",
    "                [0,240,255],#Alveolar_bone\n",
    "                [65,127,0],#'Caries',\n",
    "                [0,0,255],#Crown\n",
    "                [113,41,29],#Dentin\n",
    "                [122,21,135],#Enamel\n",
    "                [0,148,242],#Implant\n",
    "                [4,84,234],#Mandibular_alveolar_nerve\n",
    "                [0,208,178],#Maxillary_sinus\n",
    "                [52,97,148],#Periapical_lesion\n",
    "                [121,121,121],#Post_and_core\n",
    "                [212,149,27],#Pulp\n",
    "                [206,171,255],#Restoration\n",
    "                [110,28,216],#Root_canal_filling\n",
    "                ]\n",
    "                              # 針對資料前處理的correct_label清單, 依序填入想要顯示的BGR色碼 (註:是BGR不是RGB), background顏色不用填.\n",
    "data_height=config[\"data_height\"]\n",
    "data_width=config[\"data_width\"]\n",
    "\n",
    "# MODEL=model_name\n",
    "# if MODEL == 'PSPNet':\n",
    "#     data_height=384\n",
    "#     data_width=384\n",
    "    # tf.compat.v1.disable_eager_execution()"
   ]
  },
  {
   "cell_type": "code",
   "execution_count": 8,
   "metadata": {},
   "outputs": [
    {
     "name": "stdout",
     "output_type": "stream",
     "text": [
      "/media/ai/disk1/notebook/jupyter_work/test1/SurgeryAnalytics/AI_Cases/Dentistry_AI_ZERO_New_1120808_500_linknet/B_AI_training/ckpt/20230813005951\n",
      "compare_output/20230813070234\n",
      "AI_Data_jsonFile : == /media/ai/disk1/notebook/jupyter_work/test1/SurgeryAnalytics/AI_Cases/Dentistry_AI_ZERO_New_1120808_500_linknet/Dentistry_AI_ZERO_New_1120808_500_linknet_config.json\n"
     ]
    }
   ],
   "source": [
    "ckpt_folder_path = config[\"save_ckpt_Folder\"] # 存放model weight的資料夾路徑\n",
    "# ckpt_folder_path=\"F:\\\\SurgeryAnalytics\\\\AI_Cases\\\\Dentistry/1_Linknet_efficientnetb7_0_1/B_AI_training/ckpt/20220712171222\"\n",
    "print(ckpt_folder_path)\n",
    "config[\"save_pred_img_folder_path\"]  = f\"{cwd}/{save_pred_img_folder_path}\"\n",
    "#save_compare_img_folder_path\n",
    "config[\"save_compare_img_folder_path\"]  = f\"{cwd}/{save_compare_img_folder_path}\"\n",
    "print(save_compare_img_folder_path)   #增加預測對照圖的顯示位置1110831 add by charley\n",
    "config[\"color_list\"] = color_list\n",
    "AI_Data_jsonFile = Jsonname()\n",
    "with open(AI_Data_jsonFile,\"w\") as f:\n",
    "    json.dump(config, f)"
   ]
  },
  {
   "cell_type": "code",
   "execution_count": 9,
   "metadata": {},
   "outputs": [],
   "source": [
    "import os.path as path   # add by charley 1110830\n",
    "import json              # add by charley 1110830\n",
    "import operator          # add by charley 1110830\n",
    "def ckptname():\n",
    "    #print(ckpt_folder_path)\n",
    "    dic = {}\n",
    "    ckptnameKV = {}  #-------new20221108-yita-------- modify by charley 1120116\n",
    "    ckptFolderPathListNEW = []\n",
    "    for i in os.listdir(ckpt_folder_path):\n",
    "        try:\n",
    "            if i.split('.')[1]=='xlsx' or i.split('.')[1]=='pptx' or i.split('.')[1]=='ipynb_checkpoints'or i.split('.')[1]=='json' or i.split('.')[3]=='xlsx#' :\n",
    "                print('Delete_list_name:'+i)   #20230505-yita-增加排除項目 json h5 xlsx#---------------\n",
    "            else :\n",
    "                ckptFolderPathListNEW.append(i)\n",
    "        except:\n",
    "            ckptFolderPathListNEW.append(i) \n",
    "            \n",
    "    print(ckptFolderPathListNEW)\n",
    "    #for ckptFileName in self.ckptFolderPathListNEW: #os.listdir(ckptFolderPath):\n",
    "    for ckptFileName in ckptFolderPathListNEW: #os.listdir(ckpt_folder_path):\n",
    "         #print(ckptFileName.split('_')[3]) # 列示全部的ckpt值\n",
    "        k = ckptFileName.split('_')[2].strip() # key trim\n",
    "        dic[k] = ckptFileName.split('_')[3].strip()  # value trim\n",
    "    print(dic)  # 列示全部的ckpt值    \n",
    "    json_object = json.dumps(dic, indent=4)\n",
    "    max_keys = [key for key, value in dic.items() if value == max(dic.values())]\n",
    "    print(max_keys[0]) #如為多個找出其中一個即可\n",
    "    print(\"best solution ckpt-{} !\".format(max_keys[0]))\n",
    "    ckpname=max_keys[0] #存入自訂變數\n",
    "    #return max_keys[0]\n",
    "    print(list(dic.keys()))  \n",
    "    #--------------------------new20221108-yita----------------modify charley 1120116\n",
    "    ckptnameVal=list(dic.values()) [list (dic.keys()).index (max_keys[0])]   \n",
    "    ckptnameKV[0]=ckpname\n",
    "    ckptnameKV[1]=ckptnameVal\n",
    "    # ckpnameVal=dic.values().index (max_keys[0])\n",
    "    print(ckptnameVal)\n",
    "    return ckptnameKV    #--------------------------new20221108-yita----------------\n",
    "\n",
    "# AI_Cases/Dentistry2/C_pred/compare_output\n",
    "# AI_Cases/Dentistry2/C_pred/labels\n",
    "import shutil\n",
    "def delfolder_compare_output():\n",
    "    pathTeststr = AI_Path +\"/C_pred/compare_output\"\n",
    "    print(pathTeststr)\n",
    "    #pathTest = r pathTeststr\n",
    "    #os.remove(path)\n",
    "    try:\n",
    "        shutil.rmtree(pathTeststr)\n",
    "    except OSError as e:\n",
    "        print(e)\n",
    "    else:\n",
    "        print(\"The directory is deleted successfully\")\n",
    "    \n",
    "def delfolder_compare_labels():\n",
    "    pathTeststr = AI_Path +\"/C_pred/labels\"\n",
    "    print(pathTeststr)\n",
    "    #pathTest = r pathTeststr\n",
    "    try:\n",
    "        shutil.rmtree(pathTeststr)\n",
    "    except OSError as e:\n",
    "        print(e)\n",
    "    else:\n",
    "        print(\"The directory is deleted successfully\")\n",
    "    "
   ]
  },
  {
   "cell_type": "code",
   "execution_count": 10,
   "metadata": {},
   "outputs": [
    {
     "name": "stdout",
     "output_type": "stream",
     "text": [
      "['/media/ai/disk1/notebook/jupyter_work/test1/SurgeryAnalytics/AI_Cases/Dentistry_AI_ZERO_New_1120808_500_linknet/0_Data/2_split/test/img', 'prediction/20230813070234']\n",
      "['Linknet', 'efficientnetb7', 15, [[0, 240, 255], [65, 127, 0], [0, 0, 255], [113, 41, 29], [122, 21, 135], [0, 148, 242], [4, 84, 234], [0, 208, 178], [52, 97, 148], [121, 121, 121], [212, 149, 27], [206, 171, 255], [110, 28, 216]], '/media/ai/disk1/notebook/jupyter_work/test1/SurgeryAnalytics/AI_Cases/Dentistry_AI_ZERO_New_1120808_500_linknet/B_AI_training/ckpt/20230813005951']\n"
     ]
    }
   ],
   "source": [
    "basic_parameters = [img_folder_path, save_pred_img_folder_path]\n",
    "model_parameters = [model_name, backbone_name, num_classes, color_list, ckpt_folder_path]\n",
    "print(basic_parameters)\n",
    "print(model_parameters)"
   ]
  },
  {
   "cell_type": "markdown",
   "metadata": {},
   "source": [
    "# 模型預測"
   ]
  },
  {
   "cell_type": "code",
   "execution_count": 11,
   "metadata": {},
   "outputs": [],
   "source": [
    "# pip install pipreqs\n",
    "\n"
   ]
  },
  {
   "cell_type": "code",
   "execution_count": null,
   "metadata": {},
   "outputs": [],
   "source": [
    "\n"
   ]
  },
  {
   "cell_type": "code",
   "execution_count": 12,
   "metadata": {},
   "outputs": [
    {
     "name": "stdout",
     "output_type": "stream",
     "text": [
      "TF version: 2.2.0.\n",
      "Keras version: 2.3.0-tf.\n",
      "\n",
      "/media/ai/disk1/notebook/jupyter_work/test1/SurgeryAnalytics/AI_Cases/Dentistry_AI_ZERO_New_1120808_500_linknet/B_AI_training/ckpt/20230813005951\n",
      "['Linknet_efficientnetb7_n31_0.833_model.h5', 'Linknet_efficientnetb7_n57_0.833_model.h5', 'Linknet_efficientnetb7_n61_0.832_model.h5']\n",
      "n31\n",
      "n57\n",
      "n61\n",
      "{'n31': '0.833', 'n57': '0.833', 'n61': '0.832'}\n",
      "best solution ckpt-{\n",
      "    \"n31\": \"0.833\",\n",
      "    \"n57\": \"0.833\",\n",
      "    \"n61\": \"0.832\"\n",
      "} !\n",
      "n31\n",
      "best solution ckpt-n31 !\n",
      "/media/ai/disk1/notebook/jupyter_work/test1/SurgeryAnalytics/AI_Cases/Dentistry_AI_ZERO_New_1120808_500_linknet/B_AI_training/ckpt/20230813005951\n",
      "prediction/20230813070234/pred-Linknet_efficientnetb7_n31\n",
      "/media/ai/disk1/notebook/jupyter_work/test1/SurgeryAnalytics/AI_Cases/Dentistry_AI_ZERO_New_1120808_500_linknet/B_AI_training/ckpt/20230813005951/Linknet_efficientnetb7_n31_0.833_model.h5\n",
      "best solution path\n",
      "/media/ai/disk1/notebook/jupyter_work/test1/SurgeryAnalytics/AI_Cases/Dentistry_AI_ZERO_New_1120808_500_linknet/0_Data/2_split/test/img\n",
      "Predict ckpt-Linknet_efficientnetb7_n31 image ssuccessfully!\n",
      "n57\n",
      "Ignore not add folder ckpt-n57 !\n",
      "delete h5 data in ckpt-n57 folder !\n",
      "/media/ai/disk1/notebook/jupyter_work/test1/SurgeryAnalytics/AI_Cases/Dentistry_AI_ZERO_New_1120808_500_linknet/B_AI_training/ckpt/20230813005951/Linknet_efficientnetb7_n57_0.833_model.h5\n",
      "n61\n",
      "Ignore not add folder ckpt-n61 !\n",
      "delete h5 data in ckpt-n61 folder !\n",
      "/media/ai/disk1/notebook/jupyter_work/test1/SurgeryAnalytics/AI_Cases/Dentistry_AI_ZERO_New_1120808_500_linknet/B_AI_training/ckpt/20230813005951/Linknet_efficientnetb7_n61_0.832_model.h5\n",
      "591.917989730835\n"
     ]
    }
   ],
   "source": [
    "import os #1120509\n",
    "from time import time\n",
    "begin = time()\n",
    "PredFolderImg(basic_parameters, model_parameters,data_height,data_width)\n",
    "end = time()\n",
    "print(end - begin)"
   ]
  },
  {
   "cell_type": "code",
   "execution_count": 13,
   "metadata": {},
   "outputs": [],
   "source": [
    "# dirPath = os.getcwd()\n",
    "# AI_Data_jsonFile=AI_Path+'/B_AI_training/Dentistry_config.json' #modify by  charley 1110830\n",
    "# # save_model_path = dirPath + \"/ckpt\"\n",
    "# print(ckptname())\n",
    "# config[\"ckptname\"] = ckptname()  #ckptname best solution\n",
    "# with open(AI_Data_jsonFile,\"w\") as f:\n",
    "#     json.dump(config, f)"
   ]
  },
  {
   "cell_type": "code",
   "execution_count": 14,
   "metadata": {},
   "outputs": [
    {
     "name": "stdout",
     "output_type": "stream",
     "text": [
      "['Linknet_efficientnetb7_n31_0.833_model.h5', 'Linknet_efficientnetb7_n57_0.833_model.h5', 'Linknet_efficientnetb7_n61_0.832_model.h5']\n",
      "{'n31': '0.833', 'n57': '0.833', 'n61': '0.832'}\n",
      "n31\n",
      "best solution ckpt-n31 !\n",
      "['n31', 'n57', 'n61']\n",
      "0.833\n"
     ]
    }
   ],
   "source": [
    "\n",
    "# jsonname\n",
    "\n",
    "\n",
    "# dirPath = os.getcwd()\n",
    "# AI_Data_jsonFile=AI_Path+'/B_AI_training/Dentistry_config.json' #modify by  charley 1110830\n",
    "# print(ckptname())    #--------new20221108-yita-  #modify by  charley 1120116\n",
    "ckptnameKV=ckptname()          \n",
    "config[\"ckptname\"] = ckptnameKV[0]  #ckptname best solution\n",
    "config[\"ckptnameVal\"] = ckptnameKV[1]  #ckptname best solution\n",
    "# with open(AI_Data_jsonFile,\"w\") as f:\n",
    "#     json.dump(config, f)\n",
    "# config"
   ]
  },
  {
   "cell_type": "code",
   "execution_count": 15,
   "metadata": {},
   "outputs": [
    {
     "name": "stdout",
     "output_type": "stream",
     "text": [
      "AI_Data_jsonFile : == /media/ai/disk1/notebook/jupyter_work/test1/SurgeryAnalytics/AI_Cases/Dentistry_AI_ZERO_New_1120808_500_linknet/Dentistry_AI_ZERO_New_1120808_500_linknet_config.json\n",
      "/media/ai/disk1/notebook/jupyter_work/test1/SurgeryAnalytics/AI_Cases/Dentistry_AI_ZERO_New_1120808_500_linknet/Dentistry_AI_ZERO_New_1120808_500_linknet_config.json\n"
     ]
    }
   ],
   "source": [
    "AI_Data_jsonFile = Jsonname()\n",
    "print(AI_Data_jsonFile )   #注意等等跑AI需要過來複製一下路徑\n",
    "with open(AI_Data_jsonFile , 'w') as f:\n",
    "     json.dump(config, f)\n",
    "# config\n"
   ]
  },
  {
   "cell_type": "code",
   "execution_count": null,
   "metadata": {},
   "outputs": [],
   "source": []
  },
  {
   "cell_type": "code",
   "execution_count": null,
   "metadata": {},
   "outputs": [],
   "source": []
  },
  {
   "cell_type": "code",
   "execution_count": 16,
   "metadata": {},
   "outputs": [
    {
     "data": {
      "text/plain": [
       "{'surgeryName': 'Dentistry',\n",
       " 'label_folder_path': '/media/ai/disk1/notebook/jupyter_work/test1/SurgeryAnalytics/AI_Cases/Dentistry_AI_ZERO_New_1120808_500_linknet/0_Data/0_ori',\n",
       " 'trans_folder_path': '/media/ai/disk1/notebook/jupyter_work/test1/SurgeryAnalytics/AI_Cases/Dentistry_AI_ZERO_New_1120808_500_linknet/0_Data/1_trans',\n",
       " 'split_folder_path': '/media/ai/disk1/notebook/jupyter_work/test1/SurgeryAnalytics/AI_Cases/Dentistry_AI_ZERO_New_1120808_500_linknet/0_Data/2_split',\n",
       " 'correct_label': ['Alveolar_bone',\n",
       "  'Caries',\n",
       "  'Crown',\n",
       "  'Dentin',\n",
       "  'Enamel',\n",
       "  'Implant',\n",
       "  'Mandibular_alveolar_nerve',\n",
       "  'Maxillary_sinus',\n",
       "  'Periapical_lesion',\n",
       "  'Post_and_core',\n",
       "  'Pulp',\n",
       "  'Restoration',\n",
       "  'Root_canal_filling'],\n",
       " 'detect_label_list': ['Alveolar_bone',\n",
       "  'Caries',\n",
       "  'Crown',\n",
       "  'Dentin',\n",
       "  'Enamel',\n",
       "  'Implant',\n",
       "  'Mandibular_alveolar_nerve',\n",
       "  'Maxillary_sinus',\n",
       "  'Periapical_lesion',\n",
       "  'Post_and_core',\n",
       "  'Pulp',\n",
       "  'Restoration',\n",
       "  'Root_canal_filling'],\n",
       " 'Data_total_excel': '/media/ai/disk1/notebook/jupyter_work/test1/SurgeryAnalytics/AI_Cases/Dentistry_AI_ZERO_New_1120808_500_linknet/A_Data_preprocessing/Dentistry.xlsx',\n",
       " 'test_folder_list': ['Dentistry_0002'],\n",
       " 'user_name': '沈易達',\n",
       " 'model': 'Linknet',\n",
       " 'BACKBONE': 'efficientnetb7',\n",
       " 'num_classes': 15,\n",
       " 'save_ckpt_Folder': '/media/ai/disk1/notebook/jupyter_work/test1/SurgeryAnalytics/AI_Cases/Dentistry_AI_ZERO_New_1120808_500_linknet/B_AI_training/ckpt/20230813005951',\n",
       " 'data_height': 384,\n",
       " 'data_width': 384,\n",
       " 'save_pred_img_folder_path': '/media/ai/disk1/notebook/jupyter_work/test1/SurgeryAnalytics/AI_Cases/Dentistry_AI_ZERO_New_1120808_500_linknet/C_pred/prediction/20230813070234',\n",
       " 'save_compare_img_folder_path': '/media/ai/disk1/notebook/jupyter_work/test1/SurgeryAnalytics/AI_Cases/Dentistry_AI_ZERO_New_1120808_500_linknet/C_pred/compare_output/20230813070234',\n",
       " 'color_list': [[0, 240, 255],\n",
       "  [65, 127, 0],\n",
       "  [0, 0, 255],\n",
       "  [113, 41, 29],\n",
       "  [122, 21, 135],\n",
       "  [0, 148, 242],\n",
       "  [4, 84, 234],\n",
       "  [0, 208, 178],\n",
       "  [52, 97, 148],\n",
       "  [121, 121, 121],\n",
       "  [212, 149, 27],\n",
       "  [206, 171, 255],\n",
       "  [110, 28, 216]],\n",
       " 'ckptname': 'n31',\n",
       " 'ckptnameVal': '0.833'}"
      ]
     },
     "execution_count": 16,
     "metadata": {},
     "output_type": "execute_result"
    }
   ],
   "source": [
    "config"
   ]
  },
  {
   "cell_type": "code",
   "execution_count": 17,
   "metadata": {},
   "outputs": [],
   "source": [
    "#修改為不需刪除 並増加日期年月日時間的資料夾 區隔即不會有重複的狀況 1110831 by charley\n",
    "#delfolder_compare_output()\n",
    "#delfolder_compare_labels()"
   ]
  },
  {
   "cell_type": "code",
   "execution_count": 18,
   "metadata": {},
   "outputs": [],
   "source": [
    "#pip list"
   ]
  },
  {
   "cell_type": "code",
   "execution_count": null,
   "metadata": {},
   "outputs": [],
   "source": []
  }
 ],
 "metadata": {
  "kernelspec": {
   "display_name": "py36tf",
   "language": "python",
   "name": "py36tf"
  },
  "language_info": {
   "codemirror_mode": {
    "name": "ipython",
    "version": 3
   },
   "file_extension": ".py",
   "mimetype": "text/x-python",
   "name": "python",
   "nbconvert_exporter": "python",
   "pygments_lexer": "ipython3",
   "version": "3.6.6"
  }
 },
 "nbformat": 4,
 "nbformat_minor": 4
}
