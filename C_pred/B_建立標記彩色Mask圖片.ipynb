{
 "cells": [
  {
   "cell_type": "markdown",
   "metadata": {},
   "source": [
    "# Import pkgs"
   ]
  },
  {
   "cell_type": "code",
   "execution_count": 1,
   "metadata": {},
   "outputs": [],
   "source": [
    "import os\n",
    "import cv2\n",
    "import numpy as np\n",
    "# from lib.json_name import Jsonname  \n",
    "from lib.json_name_path import Jsonname  \n",
    "# #取得json檔案的位置and fullname modify by charley 1120117"
   ]
  },
  {
   "cell_type": "code",
   "execution_count": 2,
   "metadata": {},
   "outputs": [
    {
     "name": "stdout",
     "output_type": "stream",
     "text": [
      "change directory 配合使用使 os.getcwd() 可正確顯示Start\n",
      "/media/ai/disk1/notebook/jupyter_work/test1/SurgeryAnalytics/AI_Cases/Dentistry_AI_ZERO_New_1120808_500_linknet/C_pred\n",
      "change directory 配合使用使 os.getcwd() 可正確顯示End\n"
     ]
    }
   ],
   "source": [
    "print('change directory 配合使用使 os.getcwd() 可正確顯示Start')\n",
    "#os.chdir(os.path.dirname(os.path.abspath(__file__)))  #ipynb 不可用\n",
    "from pathlib import Path  #改為目前的資料夾引用物件\n",
    "os.chdir(Path.cwd())      #改為目前的資料夾*********\n",
    "cwd = os.getcwd()\n",
    "print(cwd)\n",
    "print('change directory 配合使用使 os.getcwd() 可正確顯示End')\n",
    "# print(cwd)\n",
    "AI_Path = cwd.split('/C_pred')[0]\n",
    "# print(AI_Path)\n",
    "#AI_Data_jsonFile=AI_Path+'/B_AI_training/Dentistry_config.json'  1120117\n",
    "#print(AI_Data_jsonFile)"
   ]
  },
  {
   "cell_type": "markdown",
   "metadata": {
    "tags": []
   },
   "source": [
    "# 參數設定"
   ]
  },
  {
   "cell_type": "code",
   "execution_count": 3,
   "metadata": {},
   "outputs": [
    {
     "name": "stdout",
     "output_type": "stream",
     "text": [
      "AI_Data_jsonFile : == /media/ai/disk1/notebook/jupyter_work/test1/SurgeryAnalytics/AI_Cases/Dentistry_AI_ZERO_New_1120808_500_linknet/Dentistry_AI_ZERO_New_1120808_500_linknet_config.json\n",
      "/media/ai/disk1/notebook/jupyter_work/test1/SurgeryAnalytics/AI_Cases/Dentistry_AI_ZERO_New_1120808_500_linknet/Dentistry_AI_ZERO_New_1120808_500_linknet_config.json\n"
     ]
    }
   ],
   "source": [
    "import json\n",
    "# jsonFile = r'F:\\SurgeryAnalytics\\AI_Cases\\Dentistry\\1_Linknet_efficientnetb7_0_3\\B_AI_training\\Dentistry_config.json'\n",
    "# jsonFile=AI_Data_jsonFile   1120117\n",
    "jsonFile = Jsonname()\n",
    "print(jsonFile)\n",
    "with open(jsonFile,\"r\") as f:\n",
    "    config = json.load(f)"
   ]
  },
  {
   "cell_type": "code",
   "execution_count": 4,
   "metadata": {},
   "outputs": [
    {
     "data": {
      "text/plain": [
       "{'surgeryName': 'Dentistry',\n",
       " 'label_folder_path': '/media/ai/disk1/notebook/jupyter_work/test1/SurgeryAnalytics/AI_Cases/Dentistry_AI_ZERO_New_1120808_500_linknet/0_Data/0_ori',\n",
       " 'trans_folder_path': '/media/ai/disk1/notebook/jupyter_work/test1/SurgeryAnalytics/AI_Cases/Dentistry_AI_ZERO_New_1120808_500_linknet/0_Data/1_trans',\n",
       " 'split_folder_path': '/media/ai/disk1/notebook/jupyter_work/test1/SurgeryAnalytics/AI_Cases/Dentistry_AI_ZERO_New_1120808_500_linknet/0_Data/2_split',\n",
       " 'correct_label': ['Alveolar_bone',\n",
       "  'Caries',\n",
       "  'Crown',\n",
       "  'Dentin',\n",
       "  'Enamel',\n",
       "  'Implant',\n",
       "  'Mandibular_alveolar_nerve',\n",
       "  'Maxillary_sinus',\n",
       "  'Periapical_lesion',\n",
       "  'Post_and_core',\n",
       "  'Pulp',\n",
       "  'Restoration',\n",
       "  'Root_canal_filling'],\n",
       " 'detect_label_list': ['Alveolar_bone',\n",
       "  'Caries',\n",
       "  'Crown',\n",
       "  'Dentin',\n",
       "  'Enamel',\n",
       "  'Implant',\n",
       "  'Mandibular_alveolar_nerve',\n",
       "  'Maxillary_sinus',\n",
       "  'Periapical_lesion',\n",
       "  'Post_and_core',\n",
       "  'Pulp',\n",
       "  'Restoration',\n",
       "  'Root_canal_filling'],\n",
       " 'Data_total_excel': '/media/ai/disk1/notebook/jupyter_work/test1/SurgeryAnalytics/AI_Cases/Dentistry_AI_ZERO_New_1120808_500_linknet/A_Data_preprocessing/Dentistry.xlsx',\n",
       " 'test_folder_list': ['Dentistry_0002'],\n",
       " 'user_name': '沈易達',\n",
       " 'model': 'Linknet',\n",
       " 'BACKBONE': 'efficientnetb7',\n",
       " 'num_classes': 15,\n",
       " 'save_ckpt_Folder': '/media/ai/disk1/notebook/jupyter_work/test1/SurgeryAnalytics/AI_Cases/Dentistry_AI_ZERO_New_1120808_500_linknet/B_AI_training/ckpt/20230813005951',\n",
       " 'data_height': 384,\n",
       " 'data_width': 384,\n",
       " 'save_pred_img_folder_path': '/media/ai/disk1/notebook/jupyter_work/test1/SurgeryAnalytics/AI_Cases/Dentistry_AI_ZERO_New_1120808_500_linknet/C_pred/prediction/20230813070234',\n",
       " 'save_compare_img_folder_path': '/media/ai/disk1/notebook/jupyter_work/test1/SurgeryAnalytics/AI_Cases/Dentistry_AI_ZERO_New_1120808_500_linknet/C_pred/compare_output/20230813070234',\n",
       " 'color_list': [[0, 240, 255],\n",
       "  [65, 127, 0],\n",
       "  [0, 0, 255],\n",
       "  [113, 41, 29],\n",
       "  [122, 21, 135],\n",
       "  [0, 148, 242],\n",
       "  [4, 84, 234],\n",
       "  [0, 208, 178],\n",
       "  [52, 97, 148],\n",
       "  [121, 121, 121],\n",
       "  [212, 149, 27],\n",
       "  [206, 171, 255],\n",
       "  [110, 28, 216]],\n",
       " 'ckptname': 'n31',\n",
       " 'ckptnameVal': '0.833'}"
      ]
     },
     "execution_count": 4,
     "metadata": {},
     "output_type": "execute_result"
    }
   ],
   "source": [
    "config"
   ]
  },
  {
   "cell_type": "code",
   "execution_count": 5,
   "metadata": {},
   "outputs": [],
   "source": [
    "DATA_DIR = config[\"split_folder_path\"]# 轉好檔的標記資料路徑(label為mask(即.png格式))\n",
    "x_test_dir = os.path.join(DATA_DIR, 'test', 'img')\n",
    "y_test_dir = os.path.join(DATA_DIR, 'test', 'label')\n",
    "img_folder_path = x_test_dir # 要預測的圖片資料夾路徑\n",
    "label_mask_folder_path = y_test_dir# 轉換後的標記Mask(灰階)資料夾路徑\n",
    "\n",
    "color_mask_save_folder_path = \"labels\" # 儲存彩色Mask的資料夾路徑\n",
    "if not os.path.isdir(color_mask_save_folder_path):\n",
    "    os.mkdir(color_mask_save_folder_path)\n",
    "color_list =config[\"color_list\"]\n"
   ]
  },
  {
   "cell_type": "markdown",
   "metadata": {},
   "source": [
    "# 定義轉換函數"
   ]
  },
  {
   "cell_type": "code",
   "execution_count": 6,
   "metadata": {},
   "outputs": [],
   "source": [
    "def trans_gray2color(label_mask_folder_path, color_mask_save_folder_path, color_list):\n",
    "    for file in os.listdir(label_mask_folder_path):\n",
    "        file_path = os.path.join(label_mask_folder_path, file)\n",
    "        save_path = os.path.join(color_mask_save_folder_path, file)\n",
    "        gray_mask = cv2.imread(file_path, cv2.IMREAD_GRAYSCALE)\n",
    "        hight, width = gray_mask.shape\n",
    "        color_mask = np.zeros([hight, width, 3])\n",
    "\n",
    "        for i in np.arange(1, len(color_list)+1):\n",
    "            idx = np.where(gray_mask == i)\n",
    "            color_mask[idx] = color_list[i-1]\n",
    "        cv2.imwrite(save_path, color_mask)\n",
    "        \n",
    "    print('Done.')"
   ]
  },
  {
   "cell_type": "markdown",
   "metadata": {},
   "source": [
    "# Main"
   ]
  },
  {
   "cell_type": "code",
   "execution_count": 7,
   "metadata": {},
   "outputs": [
    {
     "name": "stdout",
     "output_type": "stream",
     "text": [
      "Done.\n"
     ]
    }
   ],
   "source": [
    "trans_gray2color(label_mask_folder_path, color_mask_save_folder_path, color_list)"
   ]
  },
  {
   "cell_type": "code",
   "execution_count": null,
   "metadata": {},
   "outputs": [],
   "source": []
  }
 ],
 "metadata": {
  "kernelspec": {
   "display_name": "py36tf",
   "language": "python",
   "name": "py36tf"
  },
  "language_info": {
   "codemirror_mode": {
    "name": "ipython",
    "version": 3
   },
   "file_extension": ".py",
   "mimetype": "text/x-python",
   "name": "python",
   "nbconvert_exporter": "python",
   "pygments_lexer": "ipython3",
   "version": "3.6.6"
  }
 },
 "nbformat": 4,
 "nbformat_minor": 4
}
