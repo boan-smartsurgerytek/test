{
 "cells": [
  {
   "cell_type": "markdown",
   "metadata": {},
   "source": [
    "# 確認執行此程式前已經有模型預測的Mask圖檔了\n",
    "# 確認執行此程式前已經有模型預測的Mask圖檔了\n",
    "# 確認執行此程式前已經有模型預測的Mask圖檔了\n",
    "# Import pkgs"
   ]
  },
  {
   "cell_type": "code",
   "execution_count": 1,
   "metadata": {},
   "outputs": [],
   "source": [
    "import os\n",
    "import cv2\n",
    "import numpy as np\n",
    "from lib.json_name_path import Jsonname  \n",
    "# #取得json檔案的位置and fullname modify by charley 1120207"
   ]
  },
  {
   "cell_type": "code",
   "execution_count": 2,
   "metadata": {},
   "outputs": [
    {
     "name": "stdout",
     "output_type": "stream",
     "text": [
      "change directory 配合使用使 os.getcwd() 可正確顯示Start\n",
      "/media/ai/disk1/notebook/jupyter_work/test1/SurgeryAnalytics/AI_Cases/Dentistry_AI_ZERO_New_1120808_500_linknet/C_pred\n",
      "change directory 配合使用使 os.getcwd() 可正確顯示End\n"
     ]
    }
   ],
   "source": [
    "print('change directory 配合使用使 os.getcwd() 可正確顯示Start')\n",
    "#os.chdir(os.path.dirname(os.path.abspath(__file__)))  #ipynb 不可用\n",
    "from pathlib import Path  #改為目前的資料夾引用物件\n",
    "os.chdir(Path.cwd())    #改為目前的資料夾*********\n",
    "cwd = os.getcwd()\n",
    "print(cwd)\n",
    "print('change directory 配合使用使 os.getcwd() 可正確顯示End')\n",
    "\n",
    "# print(cwd)\n",
    "AI_Path = cwd.split('/C_pred')[0]\n",
    "# print(AI_Path)\n",
    "AI_Data_jsonFile=AI_Path+'/B_AI_training/Dentistry_config.json'"
   ]
  },
  {
   "cell_type": "code",
   "execution_count": 3,
   "metadata": {},
   "outputs": [
    {
     "name": "stdout",
     "output_type": "stream",
     "text": [
      "AI_Data_jsonFile : == /media/ai/disk1/notebook/jupyter_work/test1/SurgeryAnalytics/AI_Cases/Dentistry_AI_ZERO_New_1120808_500_linknet/Dentistry_AI_ZERO_New_1120808_500_linknet_config.json\n"
     ]
    }
   ],
   "source": [
    "import json\n",
    "# jsonFile = '/home/smartsurgery/data/SurgeryAnalytics/AI_Cases/Dentistry/analysis/1_test analysis/1_LinkNet_EfficientNetb7/Dentistry_config.json'\n",
    "# jsonFile = r'F:\\SurgeryAnalytics\\AI_Cases\\Dentistry\\1_Linknet_efficientnetb7_0_3\\B_AI_training\\Dentistry_config.json'\n",
    "# jsonFile=AI_Data_jsonFile  1120117\n",
    "jsonFile = Jsonname()\n",
    "#ckptname='n06'  #最佳CKPT編號 移動至json開啟之後 by charley\n",
    "with open(jsonFile,\"r\") as f:\n",
    "    config = json.load(f)"
   ]
  },
  {
   "cell_type": "code",
   "execution_count": 4,
   "metadata": {},
   "outputs": [
    {
     "data": {
      "text/plain": [
       "{'surgeryName': 'Dentistry',\n",
       " 'label_folder_path': '/media/ai/disk1/notebook/jupyter_work/test1/SurgeryAnalytics/AI_Cases/Dentistry_AI_ZERO_New_1120808_500_linknet/0_Data/0_ori',\n",
       " 'trans_folder_path': '/media/ai/disk1/notebook/jupyter_work/test1/SurgeryAnalytics/AI_Cases/Dentistry_AI_ZERO_New_1120808_500_linknet/0_Data/1_trans',\n",
       " 'split_folder_path': '/media/ai/disk1/notebook/jupyter_work/test1/SurgeryAnalytics/AI_Cases/Dentistry_AI_ZERO_New_1120808_500_linknet/0_Data/2_split',\n",
       " 'correct_label': ['Alveolar_bone',\n",
       "  'Caries',\n",
       "  'Crown',\n",
       "  'Dentin',\n",
       "  'Enamel',\n",
       "  'Implant',\n",
       "  'Mandibular_alveolar_nerve',\n",
       "  'Maxillary_sinus',\n",
       "  'Periapical_lesion',\n",
       "  'Post_and_core',\n",
       "  'Pulp',\n",
       "  'Restoration',\n",
       "  'Root_canal_filling'],\n",
       " 'detect_label_list': ['Alveolar_bone',\n",
       "  'Caries',\n",
       "  'Crown',\n",
       "  'Dentin',\n",
       "  'Enamel',\n",
       "  'Implant',\n",
       "  'Mandibular_alveolar_nerve',\n",
       "  'Maxillary_sinus',\n",
       "  'Periapical_lesion',\n",
       "  'Post_and_core',\n",
       "  'Pulp',\n",
       "  'Restoration',\n",
       "  'Root_canal_filling'],\n",
       " 'Data_total_excel': '/media/ai/disk1/notebook/jupyter_work/test1/SurgeryAnalytics/AI_Cases/Dentistry_AI_ZERO_New_1120808_500_linknet/A_Data_preprocessing/Dentistry.xlsx',\n",
       " 'test_folder_list': ['Dentistry_0002'],\n",
       " 'user_name': '沈易達',\n",
       " 'model': 'Linknet',\n",
       " 'BACKBONE': 'efficientnetb7',\n",
       " 'num_classes': 15,\n",
       " 'save_ckpt_Folder': '/media/ai/disk1/notebook/jupyter_work/test1/SurgeryAnalytics/AI_Cases/Dentistry_AI_ZERO_New_1120808_500_linknet/B_AI_training/ckpt/20230813005951',\n",
       " 'data_height': 384,\n",
       " 'data_width': 384,\n",
       " 'save_pred_img_folder_path': '/media/ai/disk1/notebook/jupyter_work/test1/SurgeryAnalytics/AI_Cases/Dentistry_AI_ZERO_New_1120808_500_linknet/C_pred/prediction/20230813070234',\n",
       " 'save_compare_img_folder_path': '/media/ai/disk1/notebook/jupyter_work/test1/SurgeryAnalytics/AI_Cases/Dentistry_AI_ZERO_New_1120808_500_linknet/C_pred/compare_output/20230813070234',\n",
       " 'color_list': [[0, 240, 255],\n",
       "  [65, 127, 0],\n",
       "  [0, 0, 255],\n",
       "  [113, 41, 29],\n",
       "  [122, 21, 135],\n",
       "  [0, 148, 242],\n",
       "  [4, 84, 234],\n",
       "  [0, 208, 178],\n",
       "  [52, 97, 148],\n",
       "  [121, 121, 121],\n",
       "  [212, 149, 27],\n",
       "  [206, 171, 255],\n",
       "  [110, 28, 216]],\n",
       " 'ckptname': 'n31',\n",
       " 'ckptnameVal': '0.833'}"
      ]
     },
     "execution_count": 4,
     "metadata": {},
     "output_type": "execute_result"
    }
   ],
   "source": [
    "config"
   ]
  },
  {
   "cell_type": "markdown",
   "metadata": {},
   "source": [
    "# 參數設定"
   ]
  },
  {
   "cell_type": "code",
   "execution_count": 5,
   "metadata": {},
   "outputs": [
    {
     "name": "stdout",
     "output_type": "stream",
     "text": [
      "/media/ai/disk1/notebook/jupyter_work/test1/SurgeryAnalytics/AI_Cases/Dentistry_AI_ZERO_New_1120808_500_linknet/C_pred/compare_output/20230813070234\n",
      "/media/ai/disk1/notebook/jupyter_work/test1/SurgeryAnalytics/AI_Cases/Dentistry_AI_ZERO_New_1120808_500_linknet/C_pred/prediction/20230813070234/pred-Linknet_efficientnetb7_n31\n",
      "n31\n",
      "/media/ai/disk1/notebook/jupyter_work/test1/SurgeryAnalytics/AI_Cases/Dentistry_AI_ZERO_New_1120808_500_linknet/C_pred/compare_output/20230813070234\n",
      "/media/ai/disk1/notebook/jupyter_work/test1/SurgeryAnalytics/AI_Cases/Dentistry_AI_ZERO_New_1120808_500_linknet/C_pred/compare_output/20230813070234\n"
     ]
    }
   ],
   "source": [
    "DATA_DIR = config[\"split_folder_path\"]# 轉好檔的標記資料路徑(label為mask(即.png格式))\n",
    "ckptname=config[\"ckptname\"] #最佳CKPT編號 移動至json開啟之後 by charley\n",
    "x_test_dir = os.path.join(DATA_DIR, 'test', 'img')\n",
    "y_test_dir = os.path.join(DATA_DIR, 'test', 'label')\n",
    "img_folder_path = x_test_dir # 要預測的圖片資料夾路徑\n",
    "label_mask_folder_path = \"labels\"# 轉換後的標記Mask(彩色)資料夾路徑\n",
    "model=config[\"model\"]\n",
    "backbone=config[\"BACKBONE\"]\n",
    "save_pred_img_folder_path=config[\"save_pred_img_folder_path\"]\n",
    "dirPath = os.getcwd()\n",
    "PMFP=save_pred_img_folder_path+'/pred-' + model +'_'+ backbone +'_' \n",
    "#CISFP=dirPath+'/compare_output/' #1110831 停用 modify by charley\n",
    "CISFP= config[\"save_compare_img_folder_path\"]  #增加預測對照圖的顯示位置1110831 add by charley\n",
    "print(CISFP)   #增加預測對照圖的顯示位置1110831 add by charley\n",
    "# PMFP='prediction/' + model +'_'+ backbone +'_' \n",
    "# CISFP='compare_output/'\n",
    "# ckptname='n31'改從json上抓取\n",
    "pred_mask_folder_path = PMFP+ckptname # 模型預測的Mask(彩色)資料夾路徑\n",
    "print(pred_mask_folder_path)\n",
    "ckptSavename=pred_mask_folder_path.split('/')[len(pred_mask_folder_path.split('/'))-1]\n",
    "print(ckptname)\n",
    "print(CISFP)\n",
    "compare_img_save_folder_path =CISFP +'/'+ ckptSavename # 儲存比較圖的資料夾路徑 \n",
    "print(CISFP)\n",
    "\n",
    "# 'f:\\\\SurgeryAnalytics\\\\AI_Cases\\\\Dentistry\\\\2_Linknet_efficientnetb7_0_5\\\\C_pred/prediction/20220808095038',\n",
    "\n",
    "# pred_mask_folder_path = r'prediction//20220725120355//pred-seresnet152' # 模型預測的Mask(彩色)資料夾路徑\n",
    "# compare_img_save_folder_path = r'compare_output//pred-seresnet152' # 儲存比較圖的資料夾路徑\n",
    "\n",
    "if not os.path.isdir(CISFP):\n",
    "    os.mkdir(CISFP)\n",
    "\n",
    "if not os.path.isdir(compare_img_save_folder_path):\n",
    "    os.mkdir(compare_img_save_folder_path)"
   ]
  },
  {
   "cell_type": "markdown",
   "metadata": {},
   "source": [
    "# Main"
   ]
  },
  {
   "cell_type": "code",
   "execution_count": 6,
   "metadata": {},
   "outputs": [
    {
     "name": "stdout",
     "output_type": "stream",
     "text": [
      "Done.\n",
      "625.6971945762634\n"
     ]
    }
   ],
   "source": [
    "from time import time\n",
    "file_name_list = [os.path.splitext(x)[0] for x in os.listdir(img_folder_path)]\n",
    "begin = time()\n",
    "for file_name in file_name_list:\n",
    "    img_path = os.path.join(img_folder_path, file_name + '.png')\n",
    "    label_mask_path = os.path.join(label_mask_folder_path, file_name + '.png')\n",
    "    pred_mask_path = os.path.join(pred_mask_folder_path, file_name + '_pred.png')\n",
    "    save_path = os.path.join(compare_img_save_folder_path, file_name + '_comp.png')\n",
    "    \n",
    "    ori_img = cv2.imread(img_path)\n",
    "    label_img = cv2.imread(label_mask_path)\n",
    "    pred_img = cv2.imread(pred_mask_path)\n",
    "    \n",
    "    # print(img_path)\n",
    "    # print(label_mask_path)\n",
    "    # print(pred_mask_path)\n",
    "    # # cv2.imshow('Example - Show image in window',label_img)\n",
    "    # print(ori_img.shape)\n",
    "    # print(label_img.shape)\n",
    "    label_img = cv2.addWeighted(ori_img, 0.6, label_img, 0.4, 0)\n",
    "    pred_img = cv2.addWeighted(ori_img, 0.6, pred_img, 0.4, 0)\n",
    "    \n",
    "    compare_img = np.concatenate((ori_img, label_img, pred_img), axis=1)\n",
    "    cv2.imwrite(save_path, compare_img)\n",
    "print('Done.')\n",
    "end = time()\n",
    "print(end - begin)"
   ]
  },
  {
   "cell_type": "markdown",
   "metadata": {},
   "source": []
  },
  {
   "cell_type": "code",
   "execution_count": null,
   "metadata": {},
   "outputs": [],
   "source": [
    "\n"
   ]
  },
  {
   "cell_type": "code",
   "execution_count": null,
   "metadata": {},
   "outputs": [],
   "source": []
  }
 ],
 "metadata": {
  "kernelspec": {
   "display_name": "py36tf",
   "language": "python",
   "name": "py36tf"
  },
  "language_info": {
   "codemirror_mode": {
    "name": "ipython",
    "version": 3
   },
   "file_extension": ".py",
   "mimetype": "text/x-python",
   "name": "python",
   "nbconvert_exporter": "python",
   "pygments_lexer": "ipython3",
   "version": "3.6.6"
  }
 },
 "nbformat": 4,
 "nbformat_minor": 4
}
